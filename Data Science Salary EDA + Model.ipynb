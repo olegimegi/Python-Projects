{
 "cells": [
  {
   "cell_type": "code",
   "execution_count": 1,
   "id": "ec6a30b4",
   "metadata": {},
   "outputs": [],
   "source": [
    "import pandas as pd \n",
    "import numpy as np\n",
    "import matplotlib.pyplot as plt\n",
    "import seaborn as sns\n",
    "import warnings\n",
    "warnings.filterwarnings(\"ignore\")"
   ]
  },
  {
   "cell_type": "code",
   "execution_count": 2,
   "id": "91443020",
   "metadata": {
    "scrolled": true
   },
   "outputs": [],
   "source": [
    "# load dataset\n",
    "path = r\"C:\\Users\\Olegi Megi\\Desktop\\Dataanalytics\\Projects\\Python Projects\\Machine Learning\\Datascience Salary\\ds_salaries.csv\"\n",
    "ds_salary = pd.read_csv(path)"
   ]
  },
  {
   "cell_type": "markdown",
   "id": "7643a40e",
   "metadata": {},
   "source": [
    "## Get a overview of the Data"
   ]
  },
  {
   "cell_type": "code",
   "execution_count": 3,
   "id": "e47aa954",
   "metadata": {
    "scrolled": true
   },
   "outputs": [
    {
     "data": {
      "text/html": [
       "<div>\n",
       "<style scoped>\n",
       "    .dataframe tbody tr th:only-of-type {\n",
       "        vertical-align: middle;\n",
       "    }\n",
       "\n",
       "    .dataframe tbody tr th {\n",
       "        vertical-align: top;\n",
       "    }\n",
       "\n",
       "    .dataframe thead th {\n",
       "        text-align: right;\n",
       "    }\n",
       "</style>\n",
       "<table border=\"1\" class=\"dataframe\">\n",
       "  <thead>\n",
       "    <tr style=\"text-align: right;\">\n",
       "      <th></th>\n",
       "      <th>work_year</th>\n",
       "      <th>experience_level</th>\n",
       "      <th>employment_type</th>\n",
       "      <th>job_title</th>\n",
       "      <th>salary</th>\n",
       "      <th>salary_currency</th>\n",
       "      <th>salary_in_usd</th>\n",
       "      <th>employee_residence</th>\n",
       "      <th>remote_ratio</th>\n",
       "      <th>company_location</th>\n",
       "      <th>company_size</th>\n",
       "    </tr>\n",
       "  </thead>\n",
       "  <tbody>\n",
       "    <tr>\n",
       "      <th>0</th>\n",
       "      <td>2023</td>\n",
       "      <td>SE</td>\n",
       "      <td>FT</td>\n",
       "      <td>Principal Data Scientist</td>\n",
       "      <td>80000</td>\n",
       "      <td>EUR</td>\n",
       "      <td>85847</td>\n",
       "      <td>ES</td>\n",
       "      <td>100</td>\n",
       "      <td>ES</td>\n",
       "      <td>L</td>\n",
       "    </tr>\n",
       "    <tr>\n",
       "      <th>1</th>\n",
       "      <td>2023</td>\n",
       "      <td>MI</td>\n",
       "      <td>CT</td>\n",
       "      <td>ML Engineer</td>\n",
       "      <td>30000</td>\n",
       "      <td>USD</td>\n",
       "      <td>30000</td>\n",
       "      <td>US</td>\n",
       "      <td>100</td>\n",
       "      <td>US</td>\n",
       "      <td>S</td>\n",
       "    </tr>\n",
       "    <tr>\n",
       "      <th>2</th>\n",
       "      <td>2023</td>\n",
       "      <td>MI</td>\n",
       "      <td>CT</td>\n",
       "      <td>ML Engineer</td>\n",
       "      <td>25500</td>\n",
       "      <td>USD</td>\n",
       "      <td>25500</td>\n",
       "      <td>US</td>\n",
       "      <td>100</td>\n",
       "      <td>US</td>\n",
       "      <td>S</td>\n",
       "    </tr>\n",
       "    <tr>\n",
       "      <th>3</th>\n",
       "      <td>2023</td>\n",
       "      <td>SE</td>\n",
       "      <td>FT</td>\n",
       "      <td>Data Scientist</td>\n",
       "      <td>175000</td>\n",
       "      <td>USD</td>\n",
       "      <td>175000</td>\n",
       "      <td>CA</td>\n",
       "      <td>100</td>\n",
       "      <td>CA</td>\n",
       "      <td>M</td>\n",
       "    </tr>\n",
       "    <tr>\n",
       "      <th>4</th>\n",
       "      <td>2023</td>\n",
       "      <td>SE</td>\n",
       "      <td>FT</td>\n",
       "      <td>Data Scientist</td>\n",
       "      <td>120000</td>\n",
       "      <td>USD</td>\n",
       "      <td>120000</td>\n",
       "      <td>CA</td>\n",
       "      <td>100</td>\n",
       "      <td>CA</td>\n",
       "      <td>M</td>\n",
       "    </tr>\n",
       "  </tbody>\n",
       "</table>\n",
       "</div>"
      ],
      "text/plain": [
       "   work_year experience_level employment_type                 job_title  \\\n",
       "0       2023               SE              FT  Principal Data Scientist   \n",
       "1       2023               MI              CT               ML Engineer   \n",
       "2       2023               MI              CT               ML Engineer   \n",
       "3       2023               SE              FT            Data Scientist   \n",
       "4       2023               SE              FT            Data Scientist   \n",
       "\n",
       "   salary salary_currency  salary_in_usd employee_residence  remote_ratio  \\\n",
       "0   80000             EUR          85847                 ES           100   \n",
       "1   30000             USD          30000                 US           100   \n",
       "2   25500             USD          25500                 US           100   \n",
       "3  175000             USD         175000                 CA           100   \n",
       "4  120000             USD         120000                 CA           100   \n",
       "\n",
       "  company_location company_size  \n",
       "0               ES            L  \n",
       "1               US            S  \n",
       "2               US            S  \n",
       "3               CA            M  \n",
       "4               CA            M  "
      ]
     },
     "execution_count": 3,
     "metadata": {},
     "output_type": "execute_result"
    }
   ],
   "source": [
    "ds_salary.head()"
   ]
  },
  {
   "cell_type": "code",
   "execution_count": 4,
   "id": "bc994d47",
   "metadata": {},
   "outputs": [
    {
     "data": {
      "text/plain": [
       "(3755, 11)"
      ]
     },
     "execution_count": 4,
     "metadata": {},
     "output_type": "execute_result"
    }
   ],
   "source": [
    "ds_salary.shape"
   ]
  },
  {
   "cell_type": "code",
   "execution_count": 5,
   "id": "b0fec7e7",
   "metadata": {
    "scrolled": true
   },
   "outputs": [
    {
     "data": {
      "text/plain": [
       "Index(['work_year', 'experience_level', 'employment_type', 'job_title',\n",
       "       'salary', 'salary_currency', 'salary_in_usd', 'employee_residence',\n",
       "       'remote_ratio', 'company_location', 'company_size'],\n",
       "      dtype='object')"
      ]
     },
     "execution_count": 5,
     "metadata": {},
     "output_type": "execute_result"
    }
   ],
   "source": [
    "ds_salary.columns"
   ]
  },
  {
   "cell_type": "code",
   "execution_count": 6,
   "id": "60b83a68",
   "metadata": {},
   "outputs": [
    {
     "data": {
      "text/plain": [
       "work_year                4\n",
       "experience_level         4\n",
       "employment_type          4\n",
       "job_title               93\n",
       "salary                 815\n",
       "salary_currency         20\n",
       "salary_in_usd         1035\n",
       "employee_residence      78\n",
       "remote_ratio             3\n",
       "company_location        72\n",
       "company_size             3\n",
       "dtype: int64"
      ]
     },
     "execution_count": 6,
     "metadata": {},
     "output_type": "execute_result"
    }
   ],
   "source": [
    "columns = ds_salary.columns\n",
    "ds_salary[columns].nunique()"
   ]
  },
  {
   "cell_type": "code",
   "execution_count": 7,
   "id": "b981bce4",
   "metadata": {
    "scrolled": true
   },
   "outputs": [
    {
     "name": "stdout",
     "output_type": "stream",
     "text": [
      "<class 'pandas.core.frame.DataFrame'>\n",
      "RangeIndex: 3755 entries, 0 to 3754\n",
      "Data columns (total 11 columns):\n",
      " #   Column              Non-Null Count  Dtype \n",
      "---  ------              --------------  ----- \n",
      " 0   work_year           3755 non-null   int64 \n",
      " 1   experience_level    3755 non-null   object\n",
      " 2   employment_type     3755 non-null   object\n",
      " 3   job_title           3755 non-null   object\n",
      " 4   salary              3755 non-null   int64 \n",
      " 5   salary_currency     3755 non-null   object\n",
      " 6   salary_in_usd       3755 non-null   int64 \n",
      " 7   employee_residence  3755 non-null   object\n",
      " 8   remote_ratio        3755 non-null   int64 \n",
      " 9   company_location    3755 non-null   object\n",
      " 10  company_size        3755 non-null   object\n",
      "dtypes: int64(4), object(7)\n",
      "memory usage: 322.8+ KB\n"
     ]
    }
   ],
   "source": [
    "ds_salary.info()"
   ]
  },
  {
   "cell_type": "code",
   "execution_count": 8,
   "id": "d349a6c2",
   "metadata": {},
   "outputs": [
    {
     "data": {
      "text/html": [
       "<div>\n",
       "<style scoped>\n",
       "    .dataframe tbody tr th:only-of-type {\n",
       "        vertical-align: middle;\n",
       "    }\n",
       "\n",
       "    .dataframe tbody tr th {\n",
       "        vertical-align: top;\n",
       "    }\n",
       "\n",
       "    .dataframe thead th {\n",
       "        text-align: right;\n",
       "    }\n",
       "</style>\n",
       "<table border=\"1\" class=\"dataframe\">\n",
       "  <thead>\n",
       "    <tr style=\"text-align: right;\">\n",
       "      <th></th>\n",
       "      <th>count</th>\n",
       "      <th>mean</th>\n",
       "      <th>std</th>\n",
       "      <th>min</th>\n",
       "      <th>25%</th>\n",
       "      <th>50%</th>\n",
       "      <th>75%</th>\n",
       "      <th>max</th>\n",
       "    </tr>\n",
       "  </thead>\n",
       "  <tbody>\n",
       "    <tr>\n",
       "      <th>work_year</th>\n",
       "      <td>3755.0</td>\n",
       "      <td>2022.373635</td>\n",
       "      <td>0.691448</td>\n",
       "      <td>2020.0</td>\n",
       "      <td>2022.0</td>\n",
       "      <td>2022.0</td>\n",
       "      <td>2023.0</td>\n",
       "      <td>2023.0</td>\n",
       "    </tr>\n",
       "    <tr>\n",
       "      <th>salary</th>\n",
       "      <td>3755.0</td>\n",
       "      <td>190695.571771</td>\n",
       "      <td>671676.500508</td>\n",
       "      <td>6000.0</td>\n",
       "      <td>100000.0</td>\n",
       "      <td>138000.0</td>\n",
       "      <td>180000.0</td>\n",
       "      <td>30400000.0</td>\n",
       "    </tr>\n",
       "    <tr>\n",
       "      <th>salary_in_usd</th>\n",
       "      <td>3755.0</td>\n",
       "      <td>137570.389880</td>\n",
       "      <td>63055.625278</td>\n",
       "      <td>5132.0</td>\n",
       "      <td>95000.0</td>\n",
       "      <td>135000.0</td>\n",
       "      <td>175000.0</td>\n",
       "      <td>450000.0</td>\n",
       "    </tr>\n",
       "    <tr>\n",
       "      <th>remote_ratio</th>\n",
       "      <td>3755.0</td>\n",
       "      <td>46.271638</td>\n",
       "      <td>48.589050</td>\n",
       "      <td>0.0</td>\n",
       "      <td>0.0</td>\n",
       "      <td>0.0</td>\n",
       "      <td>100.0</td>\n",
       "      <td>100.0</td>\n",
       "    </tr>\n",
       "  </tbody>\n",
       "</table>\n",
       "</div>"
      ],
      "text/plain": [
       "                count           mean            std     min       25%  \\\n",
       "work_year      3755.0    2022.373635       0.691448  2020.0    2022.0   \n",
       "salary         3755.0  190695.571771  671676.500508  6000.0  100000.0   \n",
       "salary_in_usd  3755.0  137570.389880   63055.625278  5132.0   95000.0   \n",
       "remote_ratio   3755.0      46.271638      48.589050     0.0       0.0   \n",
       "\n",
       "                    50%       75%         max  \n",
       "work_year        2022.0    2023.0      2023.0  \n",
       "salary         138000.0  180000.0  30400000.0  \n",
       "salary_in_usd  135000.0  175000.0    450000.0  \n",
       "remote_ratio        0.0     100.0       100.0  "
      ]
     },
     "execution_count": 8,
     "metadata": {},
     "output_type": "execute_result"
    }
   ],
   "source": [
    "ds_salary.describe().T"
   ]
  },
  {
   "cell_type": "markdown",
   "id": "ab73a6d9",
   "metadata": {},
   "source": [
    "## Clean Data"
   ]
  },
  {
   "cell_type": "code",
   "execution_count": 9,
   "id": "22ab7832",
   "metadata": {},
   "outputs": [
    {
     "data": {
      "text/plain": [
       "work_year             0\n",
       "experience_level      0\n",
       "employment_type       0\n",
       "job_title             0\n",
       "salary                0\n",
       "salary_currency       0\n",
       "salary_in_usd         0\n",
       "employee_residence    0\n",
       "remote_ratio          0\n",
       "company_location      0\n",
       "company_size          0\n",
       "dtype: int64"
      ]
     },
     "execution_count": 9,
     "metadata": {},
     "output_type": "execute_result"
    }
   ],
   "source": [
    "# check for missing values\n",
    "ds_salary.isnull().sum()"
   ]
  },
  {
   "cell_type": "code",
   "execution_count": 10,
   "id": "05ad1ddb",
   "metadata": {},
   "outputs": [
    {
     "data": {
      "text/plain": [
       "1171"
      ]
     },
     "execution_count": 10,
     "metadata": {},
     "output_type": "execute_result"
    }
   ],
   "source": [
    "# check for duplicates\n",
    "ds_salary.duplicated().sum()"
   ]
  },
  {
   "cell_type": "code",
   "execution_count": 11,
   "id": "32b367d0",
   "metadata": {},
   "outputs": [
    {
     "data": {
      "text/plain": [
       "(2584, 11)"
      ]
     },
     "execution_count": 11,
     "metadata": {},
     "output_type": "execute_result"
    }
   ],
   "source": [
    "ds_salary = ds_salary.drop_duplicates(keep=\"first\")\n",
    "ds_salary.shape"
   ]
  },
  {
   "cell_type": "markdown",
   "id": "e7f2082b",
   "metadata": {},
   "source": [
    "### Work Year"
   ]
  },
  {
   "cell_type": "code",
   "execution_count": 12,
   "id": "7ecc78f1",
   "metadata": {
    "scrolled": true
   },
   "outputs": [
    {
     "data": {
      "text/plain": [
       "Text(-0.5, 1250, 'This refers to the year in which the salary was paid.')"
      ]
     },
     "execution_count": 12,
     "metadata": {},
     "output_type": "execute_result"
    },
    {
     "data": {
      "image/png": "[encoded data removed]",
      "text/plain": [
       "<Figure size 576x576 with 1 Axes>"
      ]
     },
     "metadata": {},
     "output_type": "display_data"
    }
   ],
   "source": [
    "# this is going to be the facecolor\n",
    "background = \"#E6EAED\"\n",
    "\n",
    "# make the figure\n",
    "fig, ax = plt.subplots(1,1, figsize=(8,8), facecolor=background)\n",
    "ax.set_facecolor(background)\n",
    "\n",
    "# make the plot\n",
    "sns.countplot(x=ds_salary.work_year, color=\"#14F3F0\")\n",
    "\n",
    "# add annotations\n",
    "\n",
    "# add grid\n",
    "ax.grid(axis=\"y\", linestyle=\"-.\", alpha=0.7)\n",
    "\n",
    "# customize the visualization\n",
    "plt.xlabel(\"\")\n",
    "plt.ylabel(\"\")\n",
    "\n",
    "# Simple way of adding a title \n",
    "#plt.title(\"Work Year\", loc=\"left\", size=25)\n",
    "\n",
    "# another way to add a title\n",
    "ax.text(-0.5, 1300, \"Work Year\", size=25, weight=\"bold\") # title\n",
    "ax.text(-0.5, 1250, \"This refers to the year in which the salary was paid.\", size=13) # suptitle "
   ]
  },
  {
   "cell_type": "markdown",
   "id": "02ca0c26",
   "metadata": {},
   "source": [
    "### Experience Level "
   ]
  },
  {
   "cell_type": "code",
   "execution_count": 13,
   "id": "fc13d9af",
   "metadata": {},
   "outputs": [
    {
     "data": {
      "text/plain": [
       "Text(-0.5, 1610, '\\nWe can see that the vast majority of employees are in \\na Senior position, while only a minority is in a Executive position\\n')"
      ]
     },
     "execution_count": 13,
     "metadata": {},
     "output_type": "execute_result"
    },
    {
     "data": {
      "image/png": "[encoded data removed]",
      "text/plain": [
       "<Figure size 576x576 with 1 Axes>"
      ]
     },
     "metadata": {},
     "output_type": "display_data"
    }
   ],
   "source": [
    "fig, ax = plt.subplots(1,1, figsize=(8,8), facecolor=background)\n",
    "ax.set_facecolor(background)\n",
    "\n",
    "sns.countplot(x=ds_salary.experience_level, color=\"#14F3F0\")\n",
    "\n",
    "plt.grid(axis=\"y\", linestyle=\"-.\", alpha=0.7)\n",
    "\n",
    "plt.xlabel(\"\")\n",
    "plt.ylabel(\"\")\n",
    " \n",
    "ax.text(-0.5, 1775, \"Experience Level\", size=\"25\", weight=\"bold\")\n",
    "ax.text(-0.5, 1610, \"\"\"\n",
    "We can see that the vast majority of employees are in \n",
    "a Senior position, while only a minority is in a Executive position\n",
    "\"\"\", size=13)"
   ]
  },
  {
   "cell_type": "markdown",
   "id": "995b1d1f",
   "metadata": {},
   "source": [
    "### Employment type "
   ]
  },
  {
   "cell_type": "code",
   "execution_count": 14,
   "id": "d52687de",
   "metadata": {},
   "outputs": [
    {
     "data": {
      "text/plain": [
       "<AxesSubplot:xlabel='employment_type', ylabel='count'>"
      ]
     },
     "execution_count": 14,
     "metadata": {},
     "output_type": "execute_result"
    },
    {
     "data": {
      "image/png": "[encoded data removed]",
      "text/plain": [
       "<Figure size 576x576 with 1 Axes>"
      ]
     },
     "metadata": {},
     "output_type": "display_data"
    }
   ],
   "source": [
    "fig, ax = plt.subplots(1,1, figsize=(8,8), facecolor=background)\n",
    "ax.set_facecolor(background)\n",
    "\n",
    "sns.countplot(x=ds_salary.employment_type, color=\"#14F3F0\")"
   ]
  },
  {
   "cell_type": "markdown",
   "id": "918d2ec3",
   "metadata": {},
   "source": [
    "### Jobtitle "
   ]
  },
  {
   "cell_type": "code",
   "execution_count": 15,
   "id": "c542fa8b",
   "metadata": {},
   "outputs": [
    {
     "name": "stdout",
     "output_type": "stream",
     "text": [
      "Data Engineer                598\n",
      "Data Scientist               538\n",
      "Data Analyst                 396\n",
      "Machine Learning Engineer    206\n",
      "Analytics Engineer            91\n",
      "Research Scientist            65\n",
      "Data Architect                64\n",
      "Data Science Manager          52\n",
      "ML Engineer                   34\n",
      "Research Engineer             33\n",
      "Name: job_title, dtype: int64\n"
     ]
    }
   ],
   "source": [
    "top10_jobs = ds_salary.job_title.value_counts().iloc[:10]\n",
    "print(top10_jobs)"
   ]
  },
  {
   "cell_type": "code",
   "execution_count": 16,
   "id": "a7f83c7c",
   "metadata": {
    "scrolled": true
   },
   "outputs": [
    {
     "data": {
      "text/plain": [
       "Text(0.0, -0.75, '\\nIt is a nostalgic sentiment to consider that the three prevailing occupations are those of a \\nData Engineer, Data Scientist, and Data Analyst.')"
      ]
     },
     "execution_count": 16,
     "metadata": {},
     "output_type": "execute_result"
    },
    {
     "data": {
      "image/png": "[encoded data removed]",
      "text/plain": [
       "<Figure size 576x576 with 1 Axes>"
      ]
     },
     "metadata": {},
     "output_type": "display_data"
    }
   ],
   "source": [
    "fig, ax = plt.subplots(1,1, figsize=(8,8), facecolor=background)\n",
    "ax.set_facecolor(background)\n",
    "\n",
    "sns.barplot(x=top10_jobs.values, y=top10_jobs.index, color=\"#14F3F0\", orient=\"h\")\n",
    "\n",
    "plt.grid(axis=\"x\", linestyle=\"-.\", alpha=0.7)\n",
    "\n",
    "plt.text(0, -1.5, \"10 Most common Jobtitle\", size=25, weight=\"bold\")\n",
    "plt.text(0., -0.75, \"\"\"\n",
    "It is a nostalgic sentiment to consider that the three prevailing occupations are those of a \n",
    "Data Engineer, Data Scientist, and Data Analyst.\"\"\", size=13)\n"
   ]
  },
  {
   "cell_type": "code",
   "execution_count": 17,
   "id": "b14a7dc4",
   "metadata": {},
   "outputs": [],
   "source": [
    "# create a wordcloud as an alternative visualization "
   ]
  },
  {
   "cell_type": "markdown",
   "id": "7c3d9c2a",
   "metadata": {},
   "source": [
    "### Salary "
   ]
  },
  {
   "cell_type": "code",
   "execution_count": 18,
   "id": "6d62b1b0",
   "metadata": {
    "scrolled": true
   },
   "outputs": [
    {
     "data": {
      "image/png": "[encoded data removed]",
      "text/plain": [
       "<Figure size 864x1440 with 3 Axes>"
      ]
     },
     "metadata": {},
     "output_type": "display_data"
    }
   ],
   "source": [
    "fig = plt.figure(figsize=(12, 20), facecolor=background)\n",
    "gs = fig.add_gridspec(3,1)\n",
    "\n",
    "ax0 = fig.add_subplot(gs[0,0])\n",
    "ax1 = fig.add_subplot(gs[1,0])\n",
    "ax2 = fig.add_subplot(gs[2,0])\n",
    "\n",
    "for ax in fig.axes:\n",
    "    ax.set_facecolor(background)\n",
    "\n",
    "sns.countplot(x=ds_salary[\"salary_currency\"], order=ds_salary[\"salary_currency\"].value_counts().index,\n",
    "             color=\"#14F3F0\", ax=ax0)\n",
    "sns.histplot(x=ds_salary[\"salary\"], color=\"#14F3F0\", ax=ax1)\n",
    "sns.histplot(x=ds_salary[\"salary_in_usd\"], kde=True,  color=\"#14F3F0\", ax=ax2)\n",
    "\n",
    "ax0.set_title(\"Salary Currency by count\", size=25, weight=\"bold\", loc=\"left\")\n",
    "ax1.set_title(\"Salary Distribution\", size=25, weight=\"bold\", loc=\"left\")\n",
    "ax2.set_title(\"Salary Distribution in USD\", size=25, weight=\"bold\", loc=\"left\")\n",
    "\n",
    "for ax in fig.axes:\n",
    "    ax.grid(True, linestyle=\"-.\", alpha=0.7)"
   ]
  },
  {
   "cell_type": "markdown",
   "id": "e9019653",
   "metadata": {},
   "source": [
    "### Employee Residence"
   ]
  },
  {
   "cell_type": "code",
   "execution_count": 19,
   "id": "833e1121",
   "metadata": {},
   "outputs": [
    {
     "name": "stdout",
     "output_type": "stream",
     "text": [
      "US    1893\n",
      "GB     150\n",
      "CA      81\n",
      "IN      70\n",
      "ES      47\n",
      "      ... \n",
      "BA       1\n",
      "AM       1\n",
      "CY       1\n",
      "KW       1\n",
      "MT       1\n",
      "Name: employee_residence, Length: 78, dtype: int64\n"
     ]
    }
   ],
   "source": [
    "print(ds_salary[\"employee_residence\"].value_counts())"
   ]
  },
  {
   "cell_type": "code",
   "execution_count": 20,
   "id": "aca4beeb",
   "metadata": {},
   "outputs": [],
   "source": [
    "# create a geo map"
   ]
  },
  {
   "cell_type": "markdown",
   "id": "9fe48859",
   "metadata": {},
   "source": [
    "### Remote Ratio"
   ]
  },
  {
   "cell_type": "code",
   "execution_count": 21,
   "id": "b2c80d16",
   "metadata": {},
   "outputs": [
    {
     "data": {
      "text/plain": [
       "Text(0.0, 1.0, 'Remote Ratio')"
      ]
     },
     "execution_count": 21,
     "metadata": {},
     "output_type": "execute_result"
    },
    {
     "data": {
      "image/png": "[encoded data removed]",
      "text/plain": [
       "<Figure size 576x576 with 1 Axes>"
      ]
     },
     "metadata": {},
     "output_type": "display_data"
    }
   ],
   "source": [
    "fig, ax= plt.subplots(1,1, figsize=(8,8), facecolor=background)\n",
    "ax.set_facecolor(background)\n",
    "\n",
    "sns.countplot(x=ds_salary[\"remote_ratio\"], color=\"#14F3F0\")\n",
    "\n",
    "plt.title(\"Remote Ratio\", loc=\"left\", size=25, weight=\"bold\")"
   ]
  },
  {
   "cell_type": "markdown",
   "id": "7ce8bd70",
   "metadata": {},
   "source": [
    "### Company Location "
   ]
  },
  {
   "cell_type": "code",
   "execution_count": 22,
   "id": "8cd3bf69",
   "metadata": {},
   "outputs": [],
   "source": [
    "# create a geo map"
   ]
  },
  {
   "cell_type": "markdown",
   "id": "b81cad9b",
   "metadata": {},
   "source": [
    "### Company  Size "
   ]
  },
  {
   "cell_type": "code",
   "execution_count": 23,
   "id": "b2ceb15e",
   "metadata": {},
   "outputs": [
    {
     "data": {
      "text/plain": [
       "Text(0.0, 1.0, 'Company Size')"
      ]
     },
     "execution_count": 23,
     "metadata": {},
     "output_type": "execute_result"
    },
    {
     "data": {
      "image/png": "[encoded data removed]",
      "text/plain": [
       "<Figure size 576x576 with 1 Axes>"
      ]
     },
     "metadata": {},
     "output_type": "display_data"
    }
   ],
   "source": [
    "fig, ax= plt.subplots(1,1, figsize=(8,8), facecolor=background)\n",
    "ax.set_facecolor(background)\n",
    "\n",
    "sns.countplot(x=ds_salary[\"company_size\"], color=\"#14F3F0\")\n",
    "\n",
    "plt.title(\"Company Size\", loc=\"left\", size=25, weight=\"bold\")"
   ]
  },
  {
   "cell_type": "markdown",
   "id": "a3000059",
   "metadata": {},
   "source": [
    "## Build the Model"
   ]
  },
  {
   "cell_type": "code",
   "execution_count": 24,
   "id": "d39904d3",
   "metadata": {},
   "outputs": [],
   "source": [
    "# copy the data\n",
    "ds_salary_copy = ds_salary.copy()"
   ]
  },
  {
   "cell_type": "code",
   "execution_count": 25,
   "id": "67a5bfde",
   "metadata": {},
   "outputs": [
    {
     "data": {
      "text/plain": [
       "Data Engineer                598\n",
       "Data Scientist               538\n",
       "Data Analyst                 396\n",
       "Machine Learning Engineer    206\n",
       "Analytics Engineer            91\n",
       "                            ... \n",
       "Compliance Data Analyst        1\n",
       "Deep Learning Researcher       1\n",
       "Staff Data Analyst             1\n",
       "Data DevOps Engineer           1\n",
       "Finance Data Analyst           1\n",
       "Name: job_title, Length: 93, dtype: int64"
      ]
     },
     "execution_count": 25,
     "metadata": {},
     "output_type": "execute_result"
    }
   ],
   "source": [
    "# lets handle the categorical data first\n",
    "ds_salary_copy[\"job_title\"].value_counts()"
   ]
  },
  {
   "cell_type": "code",
   "execution_count": 26,
   "id": "dc09bc24",
   "metadata": {},
   "outputs": [],
   "source": [
    "def map_job_title(job_title):\n",
    "    if job_title in [\"Data Engineer\", \"Data Scientist\", \"Data Analyst\", \"Machine Learning Engineer\"]:\n",
    "        return job_title\n",
    "    else:\n",
    "        return \"Other\"\n",
    "\n",
    "ds_salary_copy[\"new_job_title\"] = ds_salary_copy[\"job_title\"].apply(map_job_title)"
   ]
  },
  {
   "cell_type": "code",
   "execution_count": 27,
   "id": "bef7bcf2",
   "metadata": {
    "scrolled": true
   },
   "outputs": [
    {
     "data": {
      "text/plain": [
       "Other                        846\n",
       "Data Engineer                598\n",
       "Data Scientist               538\n",
       "Data Analyst                 396\n",
       "Machine Learning Engineer    206\n",
       "Name: new_job_title, dtype: int64"
      ]
     },
     "execution_count": 27,
     "metadata": {},
     "output_type": "execute_result"
    }
   ],
   "source": [
    "# first one done\n",
    "ds_salary_copy[\"new_job_title\"].value_counts()"
   ]
  },
  {
   "cell_type": "code",
   "execution_count": 28,
   "id": "c69c4e38",
   "metadata": {
    "scrolled": false
   },
   "outputs": [
    {
     "data": {
      "text/plain": [
       "US    1929\n",
       "GB     155\n",
       "CA      83\n",
       "IN      57\n",
       "DE      55\n",
       "      ... \n",
       "MK       1\n",
       "BS       1\n",
       "IR       1\n",
       "CR       1\n",
       "MT       1\n",
       "Name: company_location, Length: 72, dtype: int64"
      ]
     },
     "execution_count": 28,
     "metadata": {},
     "output_type": "execute_result"
    }
   ],
   "source": [
    "# company location\n",
    "ds_salary_copy[\"company_location\"].value_counts()"
   ]
  },
  {
   "cell_type": "code",
   "execution_count": 29,
   "id": "468ddb3d",
   "metadata": {
    "scrolled": true
   },
   "outputs": [
    {
     "data": {
      "text/plain": [
       "1    1929\n",
       "0     655\n",
       "Name: company_location_US, dtype: int64"
      ]
     },
     "execution_count": 29,
     "metadata": {},
     "output_type": "execute_result"
    }
   ],
   "source": [
    "ds_salary_copy[\"company_location\"] = np.where(ds_salary[\"company_location\"] == \"US\", 1,0)\n",
    "ds_salary_copy.rename(columns={\"company_location\" : \"company_location_US\"}, inplace=True)\n",
    "ds_salary_copy[\"company_location_US\"].value_counts()"
   ]
  },
  {
   "cell_type": "code",
   "execution_count": 30,
   "id": "ddeacea6",
   "metadata": {
    "scrolled": true
   },
   "outputs": [
    {
     "data": {
      "text/plain": [
       "US    1893\n",
       "GB     150\n",
       "CA      81\n",
       "IN      70\n",
       "ES      47\n",
       "      ... \n",
       "BA       1\n",
       "AM       1\n",
       "CY       1\n",
       "KW       1\n",
       "MT       1\n",
       "Name: employee_residence, Length: 78, dtype: int64"
      ]
     },
     "execution_count": 30,
     "metadata": {},
     "output_type": "execute_result"
    }
   ],
   "source": [
    "# employee residence\n",
    "ds_salary_copy[\"employee_residence\"].value_counts()"
   ]
  },
  {
   "cell_type": "code",
   "execution_count": 31,
   "id": "b4844745",
   "metadata": {},
   "outputs": [
    {
     "data": {
      "text/plain": [
       "1    1893\n",
       "0     691\n",
       "Name: employee_residence_US, dtype: int64"
      ]
     },
     "execution_count": 31,
     "metadata": {},
     "output_type": "execute_result"
    }
   ],
   "source": [
    "ds_salary_copy[\"employee_residence\"] = np.where(ds_salary[\"employee_residence\"]==\"US\", 1,0)\n",
    "ds_salary_copy.rename(columns={\"employee_residence\" : \"employee_residence_US\"}, inplace=True)\n",
    "ds_salary_copy[\"employee_residence_US\"].value_counts()"
   ]
  },
  {
   "cell_type": "code",
   "execution_count": 32,
   "id": "b188d0a6",
   "metadata": {},
   "outputs": [],
   "source": [
    "# looks good, we will be using Salary in USD as our target variable, and everything else \n",
    "# (except job_title, salary and salary_currency) as our features"
   ]
  },
  {
   "cell_type": "code",
   "execution_count": 33,
   "id": "ffb25e0e",
   "metadata": {},
   "outputs": [],
   "source": [
    "from sklearn.model_selection import train_test_split\n",
    "from sklearn.ensemble import RandomForestRegressor\n",
    "from sklearn.metrics import mean_absolute_error, accuracy_score\n",
    "from sklearn.pipeline import Pipeline\n",
    "from sklearn.preprocessing import OrdinalEncoder, OneHotEncoder, StandardScaler\n",
    "from sklearn.impute import SimpleImputer\n",
    "from sklearn.compose import ColumnTransformer"
   ]
  },
  {
   "cell_type": "code",
   "execution_count": 34,
   "id": "3fbbc826",
   "metadata": {},
   "outputs": [
    {
     "data": {
      "text/html": [
       "<div>\n",
       "<style scoped>\n",
       "    .dataframe tbody tr th:only-of-type {\n",
       "        vertical-align: middle;\n",
       "    }\n",
       "\n",
       "    .dataframe tbody tr th {\n",
       "        vertical-align: top;\n",
       "    }\n",
       "\n",
       "    .dataframe thead th {\n",
       "        text-align: right;\n",
       "    }\n",
       "</style>\n",
       "<table border=\"1\" class=\"dataframe\">\n",
       "  <thead>\n",
       "    <tr style=\"text-align: right;\">\n",
       "      <th></th>\n",
       "      <th>work_year</th>\n",
       "      <th>experience_level</th>\n",
       "      <th>employment_type</th>\n",
       "      <th>employee_residence_US</th>\n",
       "      <th>remote_ratio</th>\n",
       "      <th>company_location_US</th>\n",
       "      <th>company_size</th>\n",
       "      <th>new_job_title</th>\n",
       "    </tr>\n",
       "  </thead>\n",
       "  <tbody>\n",
       "    <tr>\n",
       "      <th>0</th>\n",
       "      <td>2023</td>\n",
       "      <td>SE</td>\n",
       "      <td>FT</td>\n",
       "      <td>0</td>\n",
       "      <td>100</td>\n",
       "      <td>0</td>\n",
       "      <td>L</td>\n",
       "      <td>Other</td>\n",
       "    </tr>\n",
       "    <tr>\n",
       "      <th>1</th>\n",
       "      <td>2023</td>\n",
       "      <td>MI</td>\n",
       "      <td>CT</td>\n",
       "      <td>1</td>\n",
       "      <td>100</td>\n",
       "      <td>1</td>\n",
       "      <td>S</td>\n",
       "      <td>Other</td>\n",
       "    </tr>\n",
       "    <tr>\n",
       "      <th>2</th>\n",
       "      <td>2023</td>\n",
       "      <td>MI</td>\n",
       "      <td>CT</td>\n",
       "      <td>1</td>\n",
       "      <td>100</td>\n",
       "      <td>1</td>\n",
       "      <td>S</td>\n",
       "      <td>Other</td>\n",
       "    </tr>\n",
       "    <tr>\n",
       "      <th>3</th>\n",
       "      <td>2023</td>\n",
       "      <td>SE</td>\n",
       "      <td>FT</td>\n",
       "      <td>0</td>\n",
       "      <td>100</td>\n",
       "      <td>0</td>\n",
       "      <td>M</td>\n",
       "      <td>Data Scientist</td>\n",
       "    </tr>\n",
       "    <tr>\n",
       "      <th>4</th>\n",
       "      <td>2023</td>\n",
       "      <td>SE</td>\n",
       "      <td>FT</td>\n",
       "      <td>0</td>\n",
       "      <td>100</td>\n",
       "      <td>0</td>\n",
       "      <td>M</td>\n",
       "      <td>Data Scientist</td>\n",
       "    </tr>\n",
       "  </tbody>\n",
       "</table>\n",
       "</div>"
      ],
      "text/plain": [
       "   work_year experience_level employment_type  employee_residence_US  \\\n",
       "0       2023               SE              FT                      0   \n",
       "1       2023               MI              CT                      1   \n",
       "2       2023               MI              CT                      1   \n",
       "3       2023               SE              FT                      0   \n",
       "4       2023               SE              FT                      0   \n",
       "\n",
       "   remote_ratio  company_location_US company_size   new_job_title  \n",
       "0           100                    0            L           Other  \n",
       "1           100                    1            S           Other  \n",
       "2           100                    1            S           Other  \n",
       "3           100                    0            M  Data Scientist  \n",
       "4           100                    0            M  Data Scientist  "
      ]
     },
     "execution_count": 34,
     "metadata": {},
     "output_type": "execute_result"
    }
   ],
   "source": [
    "# create X\n",
    "features = [\"work_year\", \"experience_level\", \"employment_type\", \"employee_residence_US\", \"remote_ratio\",\n",
    "           \"company_location_US\", \"company_size\", \"new_job_title\"]\n",
    "X = ds_salary_copy[features]\n",
    "X.head()"
   ]
  },
  {
   "cell_type": "code",
   "execution_count": 35,
   "id": "70ee56d8",
   "metadata": {},
   "outputs": [],
   "source": [
    "# create y\n",
    "y = ds_salary_copy.salary_in_usd"
   ]
  },
  {
   "cell_type": "code",
   "execution_count": 36,
   "id": "6ef733c3",
   "metadata": {},
   "outputs": [],
   "source": [
    "# split the data into train and validation\n",
    "X_train, X_valid, y_train, y_valid = train_test_split(X,y, train_size=0.8, random_state=0)"
   ]
  },
  {
   "cell_type": "code",
   "execution_count": 37,
   "id": "e1b7e4e7",
   "metadata": {},
   "outputs": [
    {
     "data": {
      "text/plain": [
       "Index(['experience_level', 'employment_type', 'company_size', 'new_job_title'], dtype='object')"
      ]
     },
     "execution_count": 37,
     "metadata": {},
     "output_type": "execute_result"
    }
   ],
   "source": [
    "# select categorical columns\n",
    "categorical_cols = ds_salary_copy.select_dtypes(include=[\"object\", \"category\"]).columns\n",
    "categorical_cols = categorical_cols.drop([\"salary_currency\", \"job_title\"])\n",
    "categorical_cols"
   ]
  },
  {
   "cell_type": "code",
   "execution_count": 38,
   "id": "254c6e0d",
   "metadata": {},
   "outputs": [
    {
     "data": {
      "text/plain": [
       "Index(['work_year', 'employee_residence_US', 'remote_ratio',\n",
       "       'company_location_US'],\n",
       "      dtype='object')"
      ]
     },
     "execution_count": 38,
     "metadata": {},
     "output_type": "execute_result"
    }
   ],
   "source": [
    "# select numerical cols\n",
    "numerical_cols = ds_salary_copy.select_dtypes(include=[\"float\", \"int\"]).columns\n",
    "numerical_cols = numerical_cols.drop([\"salary\", \"salary_in_usd\"])\n",
    "numerical_cols"
   ]
  },
  {
   "cell_type": "code",
   "execution_count": 39,
   "id": "82c1f8be",
   "metadata": {},
   "outputs": [],
   "source": [
    "# preprocessing steps for numerical data\n",
    "numerical_transformer = SimpleImputer(strategy=\"median\")  \n",
    "\n",
    "# prepoccesing steps for categorical data\n",
    "categorical_transformer = Pipeline(steps=[\n",
    "    (\"imputer\", SimpleImputer(strategy=\"most_frequent\")),\n",
    "    (\"hotencoder\", OneHotEncoder(handle_unknown=\"ignore\"))\n",
    "])\n",
    "\n",
    "# combine both\n",
    "preprocessor = ColumnTransformer(transformers=[\n",
    "    (\"num\", numerical_transformer, numerical_cols),\n",
    "    (\"cat\", categorical_transformer, categorical_cols)   \n",
    "])"
   ]
  },
  {
   "cell_type": "code",
   "execution_count": 40,
   "id": "de46b057",
   "metadata": {},
   "outputs": [],
   "source": [
    "# define Model\n",
    "model = RandomForestRegressor(n_estimators=50, random_state=0)"
   ]
  },
  {
   "cell_type": "markdown",
   "id": "67271e4d",
   "metadata": {},
   "source": [
    "#### Random Forest Regression "
   ]
  },
  {
   "cell_type": "code",
   "execution_count": 41,
   "id": "fb2d0199",
   "metadata": {
    "scrolled": false
   },
   "outputs": [
    {
     "name": "stdout",
     "output_type": "stream",
     "text": [
      "MEA RandomForestRegressor:  39606.29829835743\n"
     ]
    }
   ],
   "source": [
    "# build the pipeline\n",
    "rf_pipeline = Pipeline(steps=[\n",
    "    (\"preprocessor\", preprocessor), \n",
    "    (\"rf\", model)\n",
    "])\n",
    "\n",
    "# fit the model\n",
    "rf_pipeline.fit(X_train, y_train)\n",
    "\n",
    "# get prediction\n",
    "y_pred = rf_pipeline.predict(X_valid)\n",
    "\n",
    "# mean absolute error\n",
    "mae = mean_absolute_error(y_valid, y_pred)\n",
    "\n",
    "print(\"MEA RandomForestRegressor: \", mae)"
   ]
  },
  {
   "cell_type": "code",
   "execution_count": 42,
   "id": "2528797c",
   "metadata": {
    "scrolled": true
   },
   "outputs": [
    {
     "name": "stdout",
     "output_type": "stream",
     "text": [
      "Best parameters:  {'rf__max_depth': 5, 'rf__min_samples_leaf': 1, 'rf__min_samples_split': 2, 'rf__n_estimators': 100}\n",
      "Cross validation score 0.3894017701816715\n"
     ]
    }
   ],
   "source": [
    "# Hyperparameter tuning\n",
    "from sklearn.model_selection import GridSearchCV\n",
    "\n",
    "# define parameters\n",
    "rf_param_grid = {\n",
    "    \"rf__n_estimators\" : [50,100,200],\n",
    "    \"rf__max_depth\" : [None, 5, 10], \n",
    "    \"rf__min_samples_split\" : [2,5], \n",
    "    \"rf__min_samples_leaf\" : [1,2] \n",
    "}\n",
    "\n",
    "# create Gridsearch object\n",
    "rf_grid_search = GridSearchCV(rf_pipeline, rf_param_grid, cv=5)\n",
    "\n",
    "# fit the Gridsearch object\n",
    "rf_grid_search.fit(X_train, y_train)\n",
    "\n",
    "\n",
    "print(\"Best parameters: \", rf_grid_search.best_params_)\n",
    "print(\"Cross validation score\", rf_grid_search.best_score_)"
   ]
  },
  {
   "cell_type": "code",
   "execution_count": 43,
   "id": "da8b96ce",
   "metadata": {},
   "outputs": [
    {
     "name": "stdout",
     "output_type": "stream",
     "text": [
      "Validation Set Score:  0.4241343441444847\n"
     ]
    }
   ],
   "source": [
    "# get the score for the validation data\n",
    "valid_score = rf_grid_search.score(X_valid, y_valid)\n",
    "\n",
    "# print score\n",
    "print(\"Validation Set Score: \", valid_score)"
   ]
  },
  {
   "cell_type": "markdown",
   "id": "78887257",
   "metadata": {},
   "source": [
    "#### Linear Regression"
   ]
  },
  {
   "cell_type": "code",
   "execution_count": 44,
   "id": "4ee4d24a",
   "metadata": {},
   "outputs": [],
   "source": [
    "from sklearn.linear_model import LinearRegression\n",
    " \n",
    "# define model\n",
    "lr = LinearRegression()"
   ]
  },
  {
   "cell_type": "code",
   "execution_count": 45,
   "id": "081af833",
   "metadata": {},
   "outputs": [],
   "source": [
    "# build the pipeline\n",
    "lr_pipeline = Pipeline(steps=[\n",
    "    (\"preprocessor\", preprocessor), \n",
    "    (\"lr\", lr)    \n",
    "])"
   ]
  },
  {
   "cell_type": "code",
   "execution_count": 46,
   "id": "6b49617e",
   "metadata": {},
   "outputs": [
    {
     "name": "stdout",
     "output_type": "stream",
     "text": [
      "Best parameters:  {'lr__fit_intercept': True, 'lr__normalize': True}\n",
      "Crossvalidation score:  0.38784865265406904\n"
     ]
    }
   ],
   "source": [
    "lr_param_grid = {\n",
    "    \"lr__normalize\": [True, False],\n",
    "    \"lr__fit_intercept\": [True, False]\n",
    "}\n",
    "\n",
    "#create Gridsearch object\n",
    "lr_grid_search = GridSearchCV(lr_pipeline, lr_param_grid, cv=5)\n",
    "\n",
    "# Fit the new GridSearchCV object on the training data\n",
    "lr_grid_search.fit(X_train, y_train)\n",
    "\n",
    "# Print the best parameters and the validation set score\n",
    "print(\"Best parameters: \", lr_grid_search.best_params_)\n",
    "print(\"Crossvalidation score: \", lr_grid_search.best_score_)"
   ]
  },
  {
   "cell_type": "code",
   "execution_count": 47,
   "id": "ab310e9a",
   "metadata": {},
   "outputs": [
    {
     "name": "stdout",
     "output_type": "stream",
     "text": [
      "Validaton Set Score:  0.42444004793421786\n"
     ]
    }
   ],
   "source": [
    "# get the score for the validaton data\n",
    "lr_valid_score = lr_grid_search.score(X_valid, y_valid)\n",
    "\n",
    "# print score\n",
    "print(\"Validaton Set Score: \", lr_valid_score)"
   ]
  },
  {
   "cell_type": "markdown",
   "id": "0d1f89c5",
   "metadata": {},
   "source": [
    "##### \n",
    "I'm a bit disappointed with the performance of my models. The validation set score is not very high, and I'm not sure why. I've tried a few different models and tuned their hyperparameters, but the results are still not great. I would appreciate any tips or help in figuring out how to improve my models."
   ]
  }
 ],
 "metadata": {
  "kernelspec": {
   "display_name": "Python 3 (ipykernel)",
   "language": "python",
   "name": "python3"
  },
  "language_info": {
   "codemirror_mode": {
    "name": "ipython",
    "version": 3
   },
   "file_extension": ".py",
   "mimetype": "text/x-python",
   "name": "python",
   "nbconvert_exporter": "python",
   "pygments_lexer": "ipython3",
   "version": "3.9.12"
  },
  "varInspector": {
   "cols": {
    "lenName": 16,
    "lenType": 16,
    "lenVar": 40
   },
   "kernels_config": {
    "python": {
     "delete_cmd_postfix": "",
     "delete_cmd_prefix": "del ",
     "library": "var_list.py",
     "varRefreshCmd": "print(var_dic_list())"
    },
    "r": {
     "delete_cmd_postfix": ") ",
     "delete_cmd_prefix": "rm(",
     "library": "var_list.r",
     "varRefreshCmd": "cat(var_dic_list()) "
    }
   },
   "types_to_exclude": [
    "module",
    "function",
    "builtin_function_or_method",
    "instance",
    "_Feature"
   ],
   "window_display": false
  }
 },
 "nbformat": 4,
 "nbformat_minor": 5
}
