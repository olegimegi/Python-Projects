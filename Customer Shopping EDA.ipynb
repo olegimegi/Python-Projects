{
 "cells": [
  {
   "cell_type": "markdown",
   "id": "690f9797",
   "metadata": {},
   "source": [
    "# Load Libraries"
   ]
  },
  {
   "cell_type": "code",
   "execution_count": 1,
   "id": "0bd68776",
   "metadata": {},
   "outputs": [],
   "source": [
    "import pandas as pd \n",
    "import numpy as np \n",
    "import matplotlib.pyplot as plt \n",
    "import seaborn as sns"
   ]
  },
  {
   "cell_type": "markdown",
   "id": "4a79f06a",
   "metadata": {},
   "source": [
    "# Load Dataset"
   ]
  },
  {
   "cell_type": "code",
   "execution_count": 2,
   "id": "d5760fa0",
   "metadata": {
    "scrolled": true
   },
   "outputs": [
    {
     "name": "stdout",
     "output_type": "stream",
     "text": [
      "      invoice_no customer_id  gender  age         category  quantity    price  \\\n",
      "0        I138884     C241288  Female   28         Clothing         5  1500.40   \n",
      "1        I317333     C111565    Male   21            Shoes         3  1800.51   \n",
      "2        I127801     C266599    Male   20         Clothing         1   300.08   \n",
      "3        I173702     C988172  Female   66            Shoes         5  3000.85   \n",
      "4        I337046     C189076  Female   53            Books         4    60.60   \n",
      "...          ...         ...     ...  ...              ...       ...      ...   \n",
      "99452    I219422     C441542  Female   45         Souvenir         5    58.65   \n",
      "99453    I325143     C569580    Male   27  Food & Beverage         2    10.46   \n",
      "99454    I824010     C103292    Male   63  Food & Beverage         2    10.46   \n",
      "99455    I702964     C800631    Male   56       Technology         4  4200.00   \n",
      "99456    I232867     C273973  Female   36         Souvenir         3    35.19   \n",
      "\n",
      "      payment_method invoice_date     shopping_mall  \n",
      "0        Credit Card     5/8/2022            Kanyon  \n",
      "1         Debit Card   12/12/2021    Forum Istanbul  \n",
      "2               Cash    9/11/2021         Metrocity  \n",
      "3        Credit Card   16/05/2021      Metropol AVM  \n",
      "4               Cash   24/10/2021            Kanyon  \n",
      "...              ...          ...               ...  \n",
      "99452    Credit Card   21/09/2022            Kanyon  \n",
      "99453           Cash   22/09/2021    Forum Istanbul  \n",
      "99454     Debit Card   28/03/2021         Metrocity  \n",
      "99455           Cash   16/03/2021      Istinye Park  \n",
      "99456    Credit Card   15/10/2022  Mall of Istanbul  \n",
      "\n",
      "[99457 rows x 10 columns]\n"
     ]
    }
   ],
   "source": [
    "df = pd.read_csv(r\"C:\\Users\\Olegi Megi\\Desktop\\Data Analyst\\Projects\\Istandbul shopping habits\\customer_shopping_data.csv\") \n",
    "print(df)"
   ]
  },
  {
   "cell_type": "markdown",
   "id": "3ead6127",
   "metadata": {},
   "source": [
    "# Data Cleaning"
   ]
  },
  {
   "cell_type": "code",
   "execution_count": 3,
   "id": "4bd0ef0c",
   "metadata": {},
   "outputs": [
    {
     "data": {
      "text/html": [
       "<div>\n",
       "<style scoped>\n",
       "    .dataframe tbody tr th:only-of-type {\n",
       "        vertical-align: middle;\n",
       "    }\n",
       "\n",
       "    .dataframe tbody tr th {\n",
       "        vertical-align: top;\n",
       "    }\n",
       "\n",
       "    .dataframe thead th {\n",
       "        text-align: right;\n",
       "    }\n",
       "</style>\n",
       "<table border=\"1\" class=\"dataframe\">\n",
       "  <thead>\n",
       "    <tr style=\"text-align: right;\">\n",
       "      <th></th>\n",
       "      <th>invoice_no</th>\n",
       "      <th>customer_id</th>\n",
       "      <th>gender</th>\n",
       "      <th>age</th>\n",
       "      <th>category</th>\n",
       "      <th>quantity</th>\n",
       "      <th>price</th>\n",
       "      <th>payment_method</th>\n",
       "      <th>invoice_date</th>\n",
       "      <th>shopping_mall</th>\n",
       "    </tr>\n",
       "  </thead>\n",
       "  <tbody>\n",
       "    <tr>\n",
       "      <th>0</th>\n",
       "      <td>I138884</td>\n",
       "      <td>C241288</td>\n",
       "      <td>Female</td>\n",
       "      <td>28</td>\n",
       "      <td>Clothing</td>\n",
       "      <td>5</td>\n",
       "      <td>1500.40</td>\n",
       "      <td>Credit Card</td>\n",
       "      <td>5/8/2022</td>\n",
       "      <td>Kanyon</td>\n",
       "    </tr>\n",
       "    <tr>\n",
       "      <th>1</th>\n",
       "      <td>I317333</td>\n",
       "      <td>C111565</td>\n",
       "      <td>Male</td>\n",
       "      <td>21</td>\n",
       "      <td>Shoes</td>\n",
       "      <td>3</td>\n",
       "      <td>1800.51</td>\n",
       "      <td>Debit Card</td>\n",
       "      <td>12/12/2021</td>\n",
       "      <td>Forum Istanbul</td>\n",
       "    </tr>\n",
       "    <tr>\n",
       "      <th>2</th>\n",
       "      <td>I127801</td>\n",
       "      <td>C266599</td>\n",
       "      <td>Male</td>\n",
       "      <td>20</td>\n",
       "      <td>Clothing</td>\n",
       "      <td>1</td>\n",
       "      <td>300.08</td>\n",
       "      <td>Cash</td>\n",
       "      <td>9/11/2021</td>\n",
       "      <td>Metrocity</td>\n",
       "    </tr>\n",
       "    <tr>\n",
       "      <th>3</th>\n",
       "      <td>I173702</td>\n",
       "      <td>C988172</td>\n",
       "      <td>Female</td>\n",
       "      <td>66</td>\n",
       "      <td>Shoes</td>\n",
       "      <td>5</td>\n",
       "      <td>3000.85</td>\n",
       "      <td>Credit Card</td>\n",
       "      <td>16/05/2021</td>\n",
       "      <td>Metropol AVM</td>\n",
       "    </tr>\n",
       "    <tr>\n",
       "      <th>4</th>\n",
       "      <td>I337046</td>\n",
       "      <td>C189076</td>\n",
       "      <td>Female</td>\n",
       "      <td>53</td>\n",
       "      <td>Books</td>\n",
       "      <td>4</td>\n",
       "      <td>60.60</td>\n",
       "      <td>Cash</td>\n",
       "      <td>24/10/2021</td>\n",
       "      <td>Kanyon</td>\n",
       "    </tr>\n",
       "  </tbody>\n",
       "</table>\n",
       "</div>"
      ],
      "text/plain": [
       "  invoice_no customer_id  gender  age  category  quantity    price  \\\n",
       "0    I138884     C241288  Female   28  Clothing         5  1500.40   \n",
       "1    I317333     C111565    Male   21     Shoes         3  1800.51   \n",
       "2    I127801     C266599    Male   20  Clothing         1   300.08   \n",
       "3    I173702     C988172  Female   66     Shoes         5  3000.85   \n",
       "4    I337046     C189076  Female   53     Books         4    60.60   \n",
       "\n",
       "  payment_method invoice_date   shopping_mall  \n",
       "0    Credit Card     5/8/2022          Kanyon  \n",
       "1     Debit Card   12/12/2021  Forum Istanbul  \n",
       "2           Cash    9/11/2021       Metrocity  \n",
       "3    Credit Card   16/05/2021    Metropol AVM  \n",
       "4           Cash   24/10/2021          Kanyon  "
      ]
     },
     "execution_count": 3,
     "metadata": {},
     "output_type": "execute_result"
    }
   ],
   "source": [
    "df.head()"
   ]
  },
  {
   "cell_type": "code",
   "execution_count": 4,
   "id": "077c71e9",
   "metadata": {},
   "outputs": [
    {
     "data": {
      "text/html": [
       "<div>\n",
       "<style scoped>\n",
       "    .dataframe tbody tr th:only-of-type {\n",
       "        vertical-align: middle;\n",
       "    }\n",
       "\n",
       "    .dataframe tbody tr th {\n",
       "        vertical-align: top;\n",
       "    }\n",
       "\n",
       "    .dataframe thead th {\n",
       "        text-align: right;\n",
       "    }\n",
       "</style>\n",
       "<table border=\"1\" class=\"dataframe\">\n",
       "  <thead>\n",
       "    <tr style=\"text-align: right;\">\n",
       "      <th></th>\n",
       "      <th>invoice_no</th>\n",
       "      <th>customer_id</th>\n",
       "      <th>gender</th>\n",
       "      <th>age</th>\n",
       "      <th>category</th>\n",
       "      <th>quantity</th>\n",
       "      <th>price</th>\n",
       "      <th>payment_method</th>\n",
       "      <th>invoice_date</th>\n",
       "      <th>shopping_mall</th>\n",
       "    </tr>\n",
       "  </thead>\n",
       "  <tbody>\n",
       "    <tr>\n",
       "      <th>99452</th>\n",
       "      <td>I219422</td>\n",
       "      <td>C441542</td>\n",
       "      <td>Female</td>\n",
       "      <td>45</td>\n",
       "      <td>Souvenir</td>\n",
       "      <td>5</td>\n",
       "      <td>58.65</td>\n",
       "      <td>Credit Card</td>\n",
       "      <td>21/09/2022</td>\n",
       "      <td>Kanyon</td>\n",
       "    </tr>\n",
       "    <tr>\n",
       "      <th>99453</th>\n",
       "      <td>I325143</td>\n",
       "      <td>C569580</td>\n",
       "      <td>Male</td>\n",
       "      <td>27</td>\n",
       "      <td>Food &amp; Beverage</td>\n",
       "      <td>2</td>\n",
       "      <td>10.46</td>\n",
       "      <td>Cash</td>\n",
       "      <td>22/09/2021</td>\n",
       "      <td>Forum Istanbul</td>\n",
       "    </tr>\n",
       "    <tr>\n",
       "      <th>99454</th>\n",
       "      <td>I824010</td>\n",
       "      <td>C103292</td>\n",
       "      <td>Male</td>\n",
       "      <td>63</td>\n",
       "      <td>Food &amp; Beverage</td>\n",
       "      <td>2</td>\n",
       "      <td>10.46</td>\n",
       "      <td>Debit Card</td>\n",
       "      <td>28/03/2021</td>\n",
       "      <td>Metrocity</td>\n",
       "    </tr>\n",
       "    <tr>\n",
       "      <th>99455</th>\n",
       "      <td>I702964</td>\n",
       "      <td>C800631</td>\n",
       "      <td>Male</td>\n",
       "      <td>56</td>\n",
       "      <td>Technology</td>\n",
       "      <td>4</td>\n",
       "      <td>4200.00</td>\n",
       "      <td>Cash</td>\n",
       "      <td>16/03/2021</td>\n",
       "      <td>Istinye Park</td>\n",
       "    </tr>\n",
       "    <tr>\n",
       "      <th>99456</th>\n",
       "      <td>I232867</td>\n",
       "      <td>C273973</td>\n",
       "      <td>Female</td>\n",
       "      <td>36</td>\n",
       "      <td>Souvenir</td>\n",
       "      <td>3</td>\n",
       "      <td>35.19</td>\n",
       "      <td>Credit Card</td>\n",
       "      <td>15/10/2022</td>\n",
       "      <td>Mall of Istanbul</td>\n",
       "    </tr>\n",
       "  </tbody>\n",
       "</table>\n",
       "</div>"
      ],
      "text/plain": [
       "      invoice_no customer_id  gender  age         category  quantity    price  \\\n",
       "99452    I219422     C441542  Female   45         Souvenir         5    58.65   \n",
       "99453    I325143     C569580    Male   27  Food & Beverage         2    10.46   \n",
       "99454    I824010     C103292    Male   63  Food & Beverage         2    10.46   \n",
       "99455    I702964     C800631    Male   56       Technology         4  4200.00   \n",
       "99456    I232867     C273973  Female   36         Souvenir         3    35.19   \n",
       "\n",
       "      payment_method invoice_date     shopping_mall  \n",
       "99452    Credit Card   21/09/2022            Kanyon  \n",
       "99453           Cash   22/09/2021    Forum Istanbul  \n",
       "99454     Debit Card   28/03/2021         Metrocity  \n",
       "99455           Cash   16/03/2021      Istinye Park  \n",
       "99456    Credit Card   15/10/2022  Mall of Istanbul  "
      ]
     },
     "execution_count": 4,
     "metadata": {},
     "output_type": "execute_result"
    }
   ],
   "source": [
    "df.tail()"
   ]
  },
  {
   "cell_type": "code",
   "execution_count": 5,
   "id": "2fbcef4a",
   "metadata": {
    "scrolled": true
   },
   "outputs": [
    {
     "name": "stdout",
     "output_type": "stream",
     "text": [
      "<class 'pandas.core.frame.DataFrame'>\n",
      "RangeIndex: 99457 entries, 0 to 99456\n",
      "Data columns (total 10 columns):\n",
      " #   Column          Non-Null Count  Dtype  \n",
      "---  ------          --------------  -----  \n",
      " 0   invoice_no      99457 non-null  object \n",
      " 1   customer_id     99457 non-null  object \n",
      " 2   gender          99457 non-null  object \n",
      " 3   age             99457 non-null  int64  \n",
      " 4   category        99457 non-null  object \n",
      " 5   quantity        99457 non-null  int64  \n",
      " 6   price           99457 non-null  float64\n",
      " 7   payment_method  99457 non-null  object \n",
      " 8   invoice_date    99457 non-null  object \n",
      " 9   shopping_mall   99457 non-null  object \n",
      "dtypes: float64(1), int64(2), object(7)\n",
      "memory usage: 7.6+ MB\n"
     ]
    }
   ],
   "source": [
    "df.info()"
   ]
  },
  {
   "cell_type": "code",
   "execution_count": 6,
   "id": "f97b14f8",
   "metadata": {},
   "outputs": [
    {
     "name": "stderr",
     "output_type": "stream",
     "text": [
      "C:\\Users\\Olegi Megi\\AppData\\Local\\Temp\\ipykernel_7784\\3308698453.py:1: UserWarning: Parsing '16/05/2021' in DD/MM/YYYY format. Provide format or specify infer_datetime_format=True for consistent parsing.\n",
      "  df[\"invoice_date\"]=pd.to_datetime(df[\"invoice_date\"])\n",
      "C:\\Users\\Olegi Megi\\AppData\\Local\\Temp\\ipykernel_7784\\3308698453.py:1: UserWarning: Parsing '24/10/2021' in DD/MM/YYYY format. Provide format or specify infer_datetime_format=True for consistent parsing.\n",
      "  df[\"invoice_date\"]=pd.to_datetime(df[\"invoice_date\"])\n",
      "C:\\Users\\Olegi Megi\\AppData\\Local\\Temp\\ipykernel_7784\\3308698453.py:1: UserWarning: Parsing '24/05/2022' in DD/MM/YYYY format. Provide format or specify infer_datetime_format=True for consistent parsing.\n",
      "  df[\"invoice_date\"]=pd.to_datetime(df[\"invoice_date\"])\n",
      "C:\\Users\\Olegi Megi\\AppData\\Local\\Temp\\ipykernel_7784\\3308698453.py:1: UserWarning: Parsing '13/03/2022' in DD/MM/YYYY format. Provide format or specify infer_datetime_format=True for consistent parsing.\n",
      "  df[\"invoice_date\"]=pd.to_datetime(df[\"invoice_date\"])\n",
      "C:\\Users\\Olegi Megi\\AppData\\Local\\Temp\\ipykernel_7784\\3308698453.py:1: UserWarning: Parsing '13/01/2021' in DD/MM/YYYY format. Provide format or specify infer_datetime_format=True for consistent parsing.\n",
      "  df[\"invoice_date\"]=pd.to_datetime(df[\"invoice_date\"])\n",
      "C:\\Users\\Olegi Megi\\AppData\\Local\\Temp\\ipykernel_7784\\3308698453.py:1: UserWarning: Parsing '22/08/2021' in DD/MM/YYYY format. Provide format or specify infer_datetime_format=True for consistent parsing.\n",
      "  df[\"invoice_date\"]=pd.to_datetime(df[\"invoice_date\"])\n",
      "C:\\Users\\Olegi Megi\\AppData\\Local\\Temp\\ipykernel_7784\\3308698453.py:1: UserWarning: Parsing '25/12/2022' in DD/MM/YYYY format. Provide format or specify infer_datetime_format=True for consistent parsing.\n",
      "  df[\"invoice_date\"]=pd.to_datetime(df[\"invoice_date\"])\n",
      "C:\\Users\\Olegi Megi\\AppData\\Local\\Temp\\ipykernel_7784\\3308698453.py:1: UserWarning: Parsing '28/10/2022' in DD/MM/YYYY format. Provide format or specify infer_datetime_format=True for consistent parsing.\n",
      "  df[\"invoice_date\"]=pd.to_datetime(df[\"invoice_date\"])\n",
      "C:\\Users\\Olegi Megi\\AppData\\Local\\Temp\\ipykernel_7784\\3308698453.py:1: UserWarning: Parsing '31/07/2022' in DD/MM/YYYY format. Provide format or specify infer_datetime_format=True for consistent parsing.\n",
      "  df[\"invoice_date\"]=pd.to_datetime(df[\"invoice_date\"])\n",
      "C:\\Users\\Olegi Megi\\AppData\\Local\\Temp\\ipykernel_7784\\3308698453.py:1: UserWarning: Parsing '17/11/2022' in DD/MM/YYYY format. Provide format or specify infer_datetime_format=True for consistent parsing.\n",
      "  df[\"invoice_date\"]=pd.to_datetime(df[\"invoice_date\"])\n",
      "C:\\Users\\Olegi Megi\\AppData\\Local\\Temp\\ipykernel_7784\\3308698453.py:1: UserWarning: Parsing '16/01/2021' in DD/MM/YYYY format. Provide format or specify infer_datetime_format=True for consistent parsing.\n",
      "  df[\"invoice_date\"]=pd.to_datetime(df[\"invoice_date\"])\n",
      "C:\\Users\\Olegi Megi\\AppData\\Local\\Temp\\ipykernel_7784\\3308698453.py:1: UserWarning: Parsing '26/07/2021' in DD/MM/YYYY format. Provide format or specify infer_datetime_format=True for consistent parsing.\n",
      "  df[\"invoice_date\"]=pd.to_datetime(df[\"invoice_date\"])\n",
      "C:\\Users\\Olegi Megi\\AppData\\Local\\Temp\\ipykernel_7784\\3308698453.py:1: UserWarning: Parsing '15/02/2023' in DD/MM/YYYY format. Provide format or specify infer_datetime_format=True for consistent parsing.\n",
      "  df[\"invoice_date\"]=pd.to_datetime(df[\"invoice_date\"])\n",
      "C:\\Users\\Olegi Megi\\AppData\\Local\\Temp\\ipykernel_7784\\3308698453.py:1: UserWarning: Parsing '18/06/2022' in DD/MM/YYYY format. Provide format or specify infer_datetime_format=True for consistent parsing.\n",
      "  df[\"invoice_date\"]=pd.to_datetime(df[\"invoice_date\"])\n",
      "C:\\Users\\Olegi Megi\\AppData\\Local\\Temp\\ipykernel_7784\\3308698453.py:1: UserWarning: Parsing '26/10/2021' in DD/MM/YYYY format. Provide format or specify infer_datetime_format=True for consistent parsing.\n",
      "  df[\"invoice_date\"]=pd.to_datetime(df[\"invoice_date\"])\n",
      "C:\\Users\\Olegi Megi\\AppData\\Local\\Temp\\ipykernel_7784\\3308698453.py:1: UserWarning: Parsing '16/12/2022' in DD/MM/YYYY format. Provide format or specify infer_datetime_format=True for consistent parsing.\n",
      "  df[\"invoice_date\"]=pd.to_datetime(df[\"invoice_date\"])\n",
      "C:\\Users\\Olegi Megi\\AppData\\Local\\Temp\\ipykernel_7784\\3308698453.py:1: UserWarning: Parsing '20/04/2022' in DD/MM/YYYY format. Provide format or specify infer_datetime_format=True for consistent parsing.\n",
      "  df[\"invoice_date\"]=pd.to_datetime(df[\"invoice_date\"])\n",
      "C:\\Users\\Olegi Megi\\AppData\\Local\\Temp\\ipykernel_7784\\3308698453.py:1: UserWarning: Parsing '23/08/2022' in DD/MM/YYYY format. Provide format or specify infer_datetime_format=True for consistent parsing.\n",
      "  df[\"invoice_date\"]=pd.to_datetime(df[\"invoice_date\"])\n",
      "C:\\Users\\Olegi Megi\\AppData\\Local\\Temp\\ipykernel_7784\\3308698453.py:1: UserWarning: Parsing '29/04/2021' in DD/MM/YYYY format. Provide format or specify infer_datetime_format=True for consistent parsing.\n",
      "  df[\"invoice_date\"]=pd.to_datetime(df[\"invoice_date\"])\n",
      "C:\\Users\\Olegi Megi\\AppData\\Local\\Temp\\ipykernel_7784\\3308698453.py:1: UserWarning: Parsing '21/11/2021' in DD/MM/YYYY format. Provide format or specify infer_datetime_format=True for consistent parsing.\n",
      "  df[\"invoice_date\"]=pd.to_datetime(df[\"invoice_date\"])\n",
      "C:\\Users\\Olegi Megi\\AppData\\Local\\Temp\\ipykernel_7784\\3308698453.py:1: UserWarning: Parsing '23/02/2022' in DD/MM/YYYY format. Provide format or specify infer_datetime_format=True for consistent parsing.\n",
      "  df[\"invoice_date\"]=pd.to_datetime(df[\"invoice_date\"])\n",
      "C:\\Users\\Olegi Megi\\AppData\\Local\\Temp\\ipykernel_7784\\3308698453.py:1: UserWarning: Parsing '30/08/2022' in DD/MM/YYYY format. Provide format or specify infer_datetime_format=True for consistent parsing.\n",
      "  df[\"invoice_date\"]=pd.to_datetime(df[\"invoice_date\"])\n",
      "C:\\Users\\Olegi Megi\\AppData\\Local\\Temp\\ipykernel_7784\\3308698453.py:1: UserWarning: Parsing '21/06/2022' in DD/MM/YYYY format. Provide format or specify infer_datetime_format=True for consistent parsing.\n",
      "  df[\"invoice_date\"]=pd.to_datetime(df[\"invoice_date\"])\n",
      "C:\\Users\\Olegi Megi\\AppData\\Local\\Temp\\ipykernel_7784\\3308698453.py:1: UserWarning: Parsing '27/02/2022' in DD/MM/YYYY format. Provide format or specify infer_datetime_format=True for consistent parsing.\n",
      "  df[\"invoice_date\"]=pd.to_datetime(df[\"invoice_date\"])\n",
      "C:\\Users\\Olegi Megi\\AppData\\Local\\Temp\\ipykernel_7784\\3308698453.py:1: UserWarning: Parsing '19/12/2022' in DD/MM/YYYY format. Provide format or specify infer_datetime_format=True for consistent parsing.\n",
      "  df[\"invoice_date\"]=pd.to_datetime(df[\"invoice_date\"])\n",
      "C:\\Users\\Olegi Megi\\AppData\\Local\\Temp\\ipykernel_7784\\3308698453.py:1: UserWarning: Parsing '14/02/2022' in DD/MM/YYYY format. Provide format or specify infer_datetime_format=True for consistent parsing.\n",
      "  df[\"invoice_date\"]=pd.to_datetime(df[\"invoice_date\"])\n",
      "C:\\Users\\Olegi Megi\\AppData\\Local\\Temp\\ipykernel_7784\\3308698453.py:1: UserWarning: Parsing '28/04/2022' in DD/MM/YYYY format. Provide format or specify infer_datetime_format=True for consistent parsing.\n",
      "  df[\"invoice_date\"]=pd.to_datetime(df[\"invoice_date\"])\n",
      "C:\\Users\\Olegi Megi\\AppData\\Local\\Temp\\ipykernel_7784\\3308698453.py:1: UserWarning: Parsing '20/06/2022' in DD/MM/YYYY format. Provide format or specify infer_datetime_format=True for consistent parsing.\n",
      "  df[\"invoice_date\"]=pd.to_datetime(df[\"invoice_date\"])\n",
      "C:\\Users\\Olegi Megi\\AppData\\Local\\Temp\\ipykernel_7784\\3308698453.py:1: UserWarning: Parsing '21/04/2022' in DD/MM/YYYY format. Provide format or specify infer_datetime_format=True for consistent parsing.\n",
      "  df[\"invoice_date\"]=pd.to_datetime(df[\"invoice_date\"])\n",
      "C:\\Users\\Olegi Megi\\AppData\\Local\\Temp\\ipykernel_7784\\3308698453.py:1: UserWarning: Parsing '13/06/2021' in DD/MM/YYYY format. Provide format or specify infer_datetime_format=True for consistent parsing.\n",
      "  df[\"invoice_date\"]=pd.to_datetime(df[\"invoice_date\"])\n",
      "C:\\Users\\Olegi Megi\\AppData\\Local\\Temp\\ipykernel_7784\\3308698453.py:1: UserWarning: Parsing '23/08/2021' in DD/MM/YYYY format. Provide format or specify infer_datetime_format=True for consistent parsing.\n",
      "  df[\"invoice_date\"]=pd.to_datetime(df[\"invoice_date\"])\n",
      "C:\\Users\\Olegi Megi\\AppData\\Local\\Temp\\ipykernel_7784\\3308698453.py:1: UserWarning: Parsing '24/02/2023' in DD/MM/YYYY format. Provide format or specify infer_datetime_format=True for consistent parsing.\n",
      "  df[\"invoice_date\"]=pd.to_datetime(df[\"invoice_date\"])\n",
      "C:\\Users\\Olegi Megi\\AppData\\Local\\Temp\\ipykernel_7784\\3308698453.py:1: UserWarning: Parsing '22/02/2022' in DD/MM/YYYY format. Provide format or specify infer_datetime_format=True for consistent parsing.\n",
      "  df[\"invoice_date\"]=pd.to_datetime(df[\"invoice_date\"])\n",
      "C:\\Users\\Olegi Megi\\AppData\\Local\\Temp\\ipykernel_7784\\3308698453.py:1: UserWarning: Parsing '26/11/2021' in DD/MM/YYYY format. Provide format or specify infer_datetime_format=True for consistent parsing.\n",
      "  df[\"invoice_date\"]=pd.to_datetime(df[\"invoice_date\"])\n",
      "C:\\Users\\Olegi Megi\\AppData\\Local\\Temp\\ipykernel_7784\\3308698453.py:1: UserWarning: Parsing '21/04/2021' in DD/MM/YYYY format. Provide format or specify infer_datetime_format=True for consistent parsing.\n",
      "  df[\"invoice_date\"]=pd.to_datetime(df[\"invoice_date\"])\n",
      "C:\\Users\\Olegi Megi\\AppData\\Local\\Temp\\ipykernel_7784\\3308698453.py:1: UserWarning: Parsing '23/06/2021' in DD/MM/YYYY format. Provide format or specify infer_datetime_format=True for consistent parsing.\n",
      "  df[\"invoice_date\"]=pd.to_datetime(df[\"invoice_date\"])\n",
      "C:\\Users\\Olegi Megi\\AppData\\Local\\Temp\\ipykernel_7784\\3308698453.py:1: UserWarning: Parsing '14/12/2021' in DD/MM/YYYY format. Provide format or specify infer_datetime_format=True for consistent parsing.\n",
      "  df[\"invoice_date\"]=pd.to_datetime(df[\"invoice_date\"])\n",
      "C:\\Users\\Olegi Megi\\AppData\\Local\\Temp\\ipykernel_7784\\3308698453.py:1: UserWarning: Parsing '17/10/2022' in DD/MM/YYYY format. Provide format or specify infer_datetime_format=True for consistent parsing.\n",
      "  df[\"invoice_date\"]=pd.to_datetime(df[\"invoice_date\"])\n",
      "C:\\Users\\Olegi Megi\\AppData\\Local\\Temp\\ipykernel_7784\\3308698453.py:1: UserWarning: Parsing '22/01/2022' in DD/MM/YYYY format. Provide format or specify infer_datetime_format=True for consistent parsing.\n",
      "  df[\"invoice_date\"]=pd.to_datetime(df[\"invoice_date\"])\n",
      "C:\\Users\\Olegi Megi\\AppData\\Local\\Temp\\ipykernel_7784\\3308698453.py:1: UserWarning: Parsing '14/03/2021' in DD/MM/YYYY format. Provide format or specify infer_datetime_format=True for consistent parsing.\n",
      "  df[\"invoice_date\"]=pd.to_datetime(df[\"invoice_date\"])\n",
      "C:\\Users\\Olegi Megi\\AppData\\Local\\Temp\\ipykernel_7784\\3308698453.py:1: UserWarning: Parsing '27/04/2022' in DD/MM/YYYY format. Provide format or specify infer_datetime_format=True for consistent parsing.\n",
      "  df[\"invoice_date\"]=pd.to_datetime(df[\"invoice_date\"])\n",
      "C:\\Users\\Olegi Megi\\AppData\\Local\\Temp\\ipykernel_7784\\3308698453.py:1: UserWarning: Parsing '19/11/2021' in DD/MM/YYYY format. Provide format or specify infer_datetime_format=True for consistent parsing.\n",
      "  df[\"invoice_date\"]=pd.to_datetime(df[\"invoice_date\"])\n",
      "C:\\Users\\Olegi Megi\\AppData\\Local\\Temp\\ipykernel_7784\\3308698453.py:1: UserWarning: Parsing '21/08/2022' in DD/MM/YYYY format. Provide format or specify infer_datetime_format=True for consistent parsing.\n",
      "  df[\"invoice_date\"]=pd.to_datetime(df[\"invoice_date\"])\n",
      "C:\\Users\\Olegi Megi\\AppData\\Local\\Temp\\ipykernel_7784\\3308698453.py:1: UserWarning: Parsing '17/04/2021' in DD/MM/YYYY format. Provide format or specify infer_datetime_format=True for consistent parsing.\n",
      "  df[\"invoice_date\"]=pd.to_datetime(df[\"invoice_date\"])\n",
      "C:\\Users\\Olegi Megi\\AppData\\Local\\Temp\\ipykernel_7784\\3308698453.py:1: UserWarning: Parsing '20/07/2022' in DD/MM/YYYY format. Provide format or specify infer_datetime_format=True for consistent parsing.\n",
      "  df[\"invoice_date\"]=pd.to_datetime(df[\"invoice_date\"])\n",
      "C:\\Users\\Olegi Megi\\AppData\\Local\\Temp\\ipykernel_7784\\3308698453.py:1: UserWarning: Parsing '14/07/2021' in DD/MM/YYYY format. Provide format or specify infer_datetime_format=True for consistent parsing.\n",
      "  df[\"invoice_date\"]=pd.to_datetime(df[\"invoice_date\"])\n",
      "C:\\Users\\Olegi Megi\\AppData\\Local\\Temp\\ipykernel_7784\\3308698453.py:1: UserWarning: Parsing '25/03/2021' in DD/MM/YYYY format. Provide format or specify infer_datetime_format=True for consistent parsing.\n",
      "  df[\"invoice_date\"]=pd.to_datetime(df[\"invoice_date\"])\n",
      "C:\\Users\\Olegi Megi\\AppData\\Local\\Temp\\ipykernel_7784\\3308698453.py:1: UserWarning: Parsing '18/02/2022' in DD/MM/YYYY format. Provide format or specify infer_datetime_format=True for consistent parsing.\n",
      "  df[\"invoice_date\"]=pd.to_datetime(df[\"invoice_date\"])\n",
      "C:\\Users\\Olegi Megi\\AppData\\Local\\Temp\\ipykernel_7784\\3308698453.py:1: UserWarning: Parsing '22/04/2021' in DD/MM/YYYY format. Provide format or specify infer_datetime_format=True for consistent parsing.\n",
      "  df[\"invoice_date\"]=pd.to_datetime(df[\"invoice_date\"])\n",
      "C:\\Users\\Olegi Megi\\AppData\\Local\\Temp\\ipykernel_7784\\3308698453.py:1: UserWarning: Parsing '15/10/2022' in DD/MM/YYYY format. Provide format or specify infer_datetime_format=True for consistent parsing.\n",
      "  df[\"invoice_date\"]=pd.to_datetime(df[\"invoice_date\"])\n",
      "C:\\Users\\Olegi Megi\\AppData\\Local\\Temp\\ipykernel_7784\\3308698453.py:1: UserWarning: Parsing '22/01/2023' in DD/MM/YYYY format. Provide format or specify infer_datetime_format=True for consistent parsing.\n",
      "  df[\"invoice_date\"]=pd.to_datetime(df[\"invoice_date\"])\n",
      "C:\\Users\\Olegi Megi\\AppData\\Local\\Temp\\ipykernel_7784\\3308698453.py:1: UserWarning: Parsing '22/08/2022' in DD/MM/YYYY format. Provide format or specify infer_datetime_format=True for consistent parsing.\n",
      "  df[\"invoice_date\"]=pd.to_datetime(df[\"invoice_date\"])\n",
      "C:\\Users\\Olegi Megi\\AppData\\Local\\Temp\\ipykernel_7784\\3308698453.py:1: UserWarning: Parsing '29/07/2021' in DD/MM/YYYY format. Provide format or specify infer_datetime_format=True for consistent parsing.\n",
      "  df[\"invoice_date\"]=pd.to_datetime(df[\"invoice_date\"])\n",
      "C:\\Users\\Olegi Megi\\AppData\\Local\\Temp\\ipykernel_7784\\3308698453.py:1: UserWarning: Parsing '17/12/2021' in DD/MM/YYYY format. Provide format or specify infer_datetime_format=True for consistent parsing.\n",
      "  df[\"invoice_date\"]=pd.to_datetime(df[\"invoice_date\"])\n",
      "C:\\Users\\Olegi Megi\\AppData\\Local\\Temp\\ipykernel_7784\\3308698453.py:1: UserWarning: Parsing '31/12/2022' in DD/MM/YYYY format. Provide format or specify infer_datetime_format=True for consistent parsing.\n",
      "  df[\"invoice_date\"]=pd.to_datetime(df[\"invoice_date\"])\n",
      "C:\\Users\\Olegi Megi\\AppData\\Local\\Temp\\ipykernel_7784\\3308698453.py:1: UserWarning: Parsing '25/05/2022' in DD/MM/YYYY format. Provide format or specify infer_datetime_format=True for consistent parsing.\n",
      "  df[\"invoice_date\"]=pd.to_datetime(df[\"invoice_date\"])\n",
      "C:\\Users\\Olegi Megi\\AppData\\Local\\Temp\\ipykernel_7784\\3308698453.py:1: UserWarning: Parsing '23/12/2022' in DD/MM/YYYY format. Provide format or specify infer_datetime_format=True for consistent parsing.\n",
      "  df[\"invoice_date\"]=pd.to_datetime(df[\"invoice_date\"])\n",
      "C:\\Users\\Olegi Megi\\AppData\\Local\\Temp\\ipykernel_7784\\3308698453.py:1: UserWarning: Parsing '24/01/2023' in DD/MM/YYYY format. Provide format or specify infer_datetime_format=True for consistent parsing.\n",
      "  df[\"invoice_date\"]=pd.to_datetime(df[\"invoice_date\"])\n",
      "C:\\Users\\Olegi Megi\\AppData\\Local\\Temp\\ipykernel_7784\\3308698453.py:1: UserWarning: Parsing '14/09/2021' in DD/MM/YYYY format. Provide format or specify infer_datetime_format=True for consistent parsing.\n",
      "  df[\"invoice_date\"]=pd.to_datetime(df[\"invoice_date\"])\n",
      "C:\\Users\\Olegi Megi\\AppData\\Local\\Temp\\ipykernel_7784\\3308698453.py:1: UserWarning: Parsing '26/10/2022' in DD/MM/YYYY format. Provide format or specify infer_datetime_format=True for consistent parsing.\n",
      "  df[\"invoice_date\"]=pd.to_datetime(df[\"invoice_date\"])\n",
      "C:\\Users\\Olegi Megi\\AppData\\Local\\Temp\\ipykernel_7784\\3308698453.py:1: UserWarning: Parsing '21/09/2022' in DD/MM/YYYY format. Provide format or specify infer_datetime_format=True for consistent parsing.\n",
      "  df[\"invoice_date\"]=pd.to_datetime(df[\"invoice_date\"])\n",
      "C:\\Users\\Olegi Megi\\AppData\\Local\\Temp\\ipykernel_7784\\3308698453.py:1: UserWarning: Parsing '21/08/2021' in DD/MM/YYYY format. Provide format or specify infer_datetime_format=True for consistent parsing.\n",
      "  df[\"invoice_date\"]=pd.to_datetime(df[\"invoice_date\"])\n",
      "C:\\Users\\Olegi Megi\\AppData\\Local\\Temp\\ipykernel_7784\\3308698453.py:1: UserWarning: Parsing '22/11/2021' in DD/MM/YYYY format. Provide format or specify infer_datetime_format=True for consistent parsing.\n",
      "  df[\"invoice_date\"]=pd.to_datetime(df[\"invoice_date\"])\n",
      "C:\\Users\\Olegi Megi\\AppData\\Local\\Temp\\ipykernel_7784\\3308698453.py:1: UserWarning: Parsing '19/03/2022' in DD/MM/YYYY format. Provide format or specify infer_datetime_format=True for consistent parsing.\n",
      "  df[\"invoice_date\"]=pd.to_datetime(df[\"invoice_date\"])\n",
      "C:\\Users\\Olegi Megi\\AppData\\Local\\Temp\\ipykernel_7784\\3308698453.py:1: UserWarning: Parsing '19/10/2022' in DD/MM/YYYY format. Provide format or specify infer_datetime_format=True for consistent parsing.\n",
      "  df[\"invoice_date\"]=pd.to_datetime(df[\"invoice_date\"])\n",
      "C:\\Users\\Olegi Megi\\AppData\\Local\\Temp\\ipykernel_7784\\3308698453.py:1: UserWarning: Parsing '15/01/2023' in DD/MM/YYYY format. Provide format or specify infer_datetime_format=True for consistent parsing.\n",
      "  df[\"invoice_date\"]=pd.to_datetime(df[\"invoice_date\"])\n",
      "C:\\Users\\Olegi Megi\\AppData\\Local\\Temp\\ipykernel_7784\\3308698453.py:1: UserWarning: Parsing '30/05/2021' in DD/MM/YYYY format. Provide format or specify infer_datetime_format=True for consistent parsing.\n",
      "  df[\"invoice_date\"]=pd.to_datetime(df[\"invoice_date\"])\n",
      "C:\\Users\\Olegi Megi\\AppData\\Local\\Temp\\ipykernel_7784\\3308698453.py:1: UserWarning: Parsing '23/12/2021' in DD/MM/YYYY format. Provide format or specify infer_datetime_format=True for consistent parsing.\n",
      "  df[\"invoice_date\"]=pd.to_datetime(df[\"invoice_date\"])\n",
      "C:\\Users\\Olegi Megi\\AppData\\Local\\Temp\\ipykernel_7784\\3308698453.py:1: UserWarning: Parsing '30/04/2022' in DD/MM/YYYY format. Provide format or specify infer_datetime_format=True for consistent parsing.\n",
      "  df[\"invoice_date\"]=pd.to_datetime(df[\"invoice_date\"])\n",
      "C:\\Users\\Olegi Megi\\AppData\\Local\\Temp\\ipykernel_7784\\3308698453.py:1: UserWarning: Parsing '21/02/2022' in DD/MM/YYYY format. Provide format or specify infer_datetime_format=True for consistent parsing.\n",
      "  df[\"invoice_date\"]=pd.to_datetime(df[\"invoice_date\"])\n",
      "C:\\Users\\Olegi Megi\\AppData\\Local\\Temp\\ipykernel_7784\\3308698453.py:1: UserWarning: Parsing '26/08/2021' in DD/MM/YYYY format. Provide format or specify infer_datetime_format=True for consistent parsing.\n",
      "  df[\"invoice_date\"]=pd.to_datetime(df[\"invoice_date\"])\n",
      "C:\\Users\\Olegi Megi\\AppData\\Local\\Temp\\ipykernel_7784\\3308698453.py:1: UserWarning: Parsing '15/12/2021' in DD/MM/YYYY format. Provide format or specify infer_datetime_format=True for consistent parsing.\n",
      "  df[\"invoice_date\"]=pd.to_datetime(df[\"invoice_date\"])\n",
      "C:\\Users\\Olegi Megi\\AppData\\Local\\Temp\\ipykernel_7784\\3308698453.py:1: UserWarning: Parsing '20/02/2021' in DD/MM/YYYY format. Provide format or specify infer_datetime_format=True for consistent parsing.\n",
      "  df[\"invoice_date\"]=pd.to_datetime(df[\"invoice_date\"])\n",
      "C:\\Users\\Olegi Megi\\AppData\\Local\\Temp\\ipykernel_7784\\3308698453.py:1: UserWarning: Parsing '25/10/2021' in DD/MM/YYYY format. Provide format or specify infer_datetime_format=True for consistent parsing.\n",
      "  df[\"invoice_date\"]=pd.to_datetime(df[\"invoice_date\"])\n",
      "C:\\Users\\Olegi Megi\\AppData\\Local\\Temp\\ipykernel_7784\\3308698453.py:1: UserWarning: Parsing '20/06/2021' in DD/MM/YYYY format. Provide format or specify infer_datetime_format=True for consistent parsing.\n",
      "  df[\"invoice_date\"]=pd.to_datetime(df[\"invoice_date\"])\n",
      "C:\\Users\\Olegi Megi\\AppData\\Local\\Temp\\ipykernel_7784\\3308698453.py:1: UserWarning: Parsing '25/05/2021' in DD/MM/YYYY format. Provide format or specify infer_datetime_format=True for consistent parsing.\n",
      "  df[\"invoice_date\"]=pd.to_datetime(df[\"invoice_date\"])\n",
      "C:\\Users\\Olegi Megi\\AppData\\Local\\Temp\\ipykernel_7784\\3308698453.py:1: UserWarning: Parsing '16/12/2021' in DD/MM/YYYY format. Provide format or specify infer_datetime_format=True for consistent parsing.\n",
      "  df[\"invoice_date\"]=pd.to_datetime(df[\"invoice_date\"])\n",
      "C:\\Users\\Olegi Megi\\AppData\\Local\\Temp\\ipykernel_7784\\3308698453.py:1: UserWarning: Parsing '21/02/2021' in DD/MM/YYYY format. Provide format or specify infer_datetime_format=True for consistent parsing.\n",
      "  df[\"invoice_date\"]=pd.to_datetime(df[\"invoice_date\"])\n",
      "C:\\Users\\Olegi Megi\\AppData\\Local\\Temp\\ipykernel_7784\\3308698453.py:1: UserWarning: Parsing '18/12/2022' in DD/MM/YYYY format. Provide format or specify infer_datetime_format=True for consistent parsing.\n",
      "  df[\"invoice_date\"]=pd.to_datetime(df[\"invoice_date\"])\n",
      "C:\\Users\\Olegi Megi\\AppData\\Local\\Temp\\ipykernel_7784\\3308698453.py:1: UserWarning: Parsing '19/09/2022' in DD/MM/YYYY format. Provide format or specify infer_datetime_format=True for consistent parsing.\n",
      "  df[\"invoice_date\"]=pd.to_datetime(df[\"invoice_date\"])\n",
      "C:\\Users\\Olegi Megi\\AppData\\Local\\Temp\\ipykernel_7784\\3308698453.py:1: UserWarning: Parsing '28/11/2021' in DD/MM/YYYY format. Provide format or specify infer_datetime_format=True for consistent parsing.\n",
      "  df[\"invoice_date\"]=pd.to_datetime(df[\"invoice_date\"])\n",
      "C:\\Users\\Olegi Megi\\AppData\\Local\\Temp\\ipykernel_7784\\3308698453.py:1: UserWarning: Parsing '28/09/2022' in DD/MM/YYYY format. Provide format or specify infer_datetime_format=True for consistent parsing.\n",
      "  df[\"invoice_date\"]=pd.to_datetime(df[\"invoice_date\"])\n",
      "C:\\Users\\Olegi Megi\\AppData\\Local\\Temp\\ipykernel_7784\\3308698453.py:1: UserWarning: Parsing '26/03/2022' in DD/MM/YYYY format. Provide format or specify infer_datetime_format=True for consistent parsing.\n",
      "  df[\"invoice_date\"]=pd.to_datetime(df[\"invoice_date\"])\n",
      "C:\\Users\\Olegi Megi\\AppData\\Local\\Temp\\ipykernel_7784\\3308698453.py:1: UserWarning: Parsing '17/05/2022' in DD/MM/YYYY format. Provide format or specify infer_datetime_format=True for consistent parsing.\n",
      "  df[\"invoice_date\"]=pd.to_datetime(df[\"invoice_date\"])\n",
      "C:\\Users\\Olegi Megi\\AppData\\Local\\Temp\\ipykernel_7784\\3308698453.py:1: UserWarning: Parsing '22/10/2021' in DD/MM/YYYY format. Provide format or specify infer_datetime_format=True for consistent parsing.\n",
      "  df[\"invoice_date\"]=pd.to_datetime(df[\"invoice_date\"])\n",
      "C:\\Users\\Olegi Megi\\AppData\\Local\\Temp\\ipykernel_7784\\3308698453.py:1: UserWarning: Parsing '20/12/2021' in DD/MM/YYYY format. Provide format or specify infer_datetime_format=True for consistent parsing.\n",
      "  df[\"invoice_date\"]=pd.to_datetime(df[\"invoice_date\"])\n",
      "C:\\Users\\Olegi Megi\\AppData\\Local\\Temp\\ipykernel_7784\\3308698453.py:1: UserWarning: Parsing '17/03/2022' in DD/MM/YYYY format. Provide format or specify infer_datetime_format=True for consistent parsing.\n",
      "  df[\"invoice_date\"]=pd.to_datetime(df[\"invoice_date\"])\n",
      "C:\\Users\\Olegi Megi\\AppData\\Local\\Temp\\ipykernel_7784\\3308698453.py:1: UserWarning: Parsing '23/06/2022' in DD/MM/YYYY format. Provide format or specify infer_datetime_format=True for consistent parsing.\n",
      "  df[\"invoice_date\"]=pd.to_datetime(df[\"invoice_date\"])\n",
      "C:\\Users\\Olegi Megi\\AppData\\Local\\Temp\\ipykernel_7784\\3308698453.py:1: UserWarning: Parsing '19/06/2021' in DD/MM/YYYY format. Provide format or specify infer_datetime_format=True for consistent parsing.\n",
      "  df[\"invoice_date\"]=pd.to_datetime(df[\"invoice_date\"])\n",
      "C:\\Users\\Olegi Megi\\AppData\\Local\\Temp\\ipykernel_7784\\3308698453.py:1: UserWarning: Parsing '20/11/2021' in DD/MM/YYYY format. Provide format or specify infer_datetime_format=True for consistent parsing.\n",
      "  df[\"invoice_date\"]=pd.to_datetime(df[\"invoice_date\"])\n",
      "C:\\Users\\Olegi Megi\\AppData\\Local\\Temp\\ipykernel_7784\\3308698453.py:1: UserWarning: Parsing '31/07/2021' in DD/MM/YYYY format. Provide format or specify infer_datetime_format=True for consistent parsing.\n",
      "  df[\"invoice_date\"]=pd.to_datetime(df[\"invoice_date\"])\n",
      "C:\\Users\\Olegi Megi\\AppData\\Local\\Temp\\ipykernel_7784\\3308698453.py:1: UserWarning: Parsing '20/02/2022' in DD/MM/YYYY format. Provide format or specify infer_datetime_format=True for consistent parsing.\n",
      "  df[\"invoice_date\"]=pd.to_datetime(df[\"invoice_date\"])\n",
      "C:\\Users\\Olegi Megi\\AppData\\Local\\Temp\\ipykernel_7784\\3308698453.py:1: UserWarning: Parsing '24/03/2021' in DD/MM/YYYY format. Provide format or specify infer_datetime_format=True for consistent parsing.\n",
      "  df[\"invoice_date\"]=pd.to_datetime(df[\"invoice_date\"])\n",
      "C:\\Users\\Olegi Megi\\AppData\\Local\\Temp\\ipykernel_7784\\3308698453.py:1: UserWarning: Parsing '25/08/2022' in DD/MM/YYYY format. Provide format or specify infer_datetime_format=True for consistent parsing.\n",
      "  df[\"invoice_date\"]=pd.to_datetime(df[\"invoice_date\"])\n",
      "C:\\Users\\Olegi Megi\\AppData\\Local\\Temp\\ipykernel_7784\\3308698453.py:1: UserWarning: Parsing '21/10/2021' in DD/MM/YYYY format. Provide format or specify infer_datetime_format=True for consistent parsing.\n",
      "  df[\"invoice_date\"]=pd.to_datetime(df[\"invoice_date\"])\n",
      "C:\\Users\\Olegi Megi\\AppData\\Local\\Temp\\ipykernel_7784\\3308698453.py:1: UserWarning: Parsing '28/05/2022' in DD/MM/YYYY format. Provide format or specify infer_datetime_format=True for consistent parsing.\n",
      "  df[\"invoice_date\"]=pd.to_datetime(df[\"invoice_date\"])\n",
      "C:\\Users\\Olegi Megi\\AppData\\Local\\Temp\\ipykernel_7784\\3308698453.py:1: UserWarning: Parsing '16/04/2021' in DD/MM/YYYY format. Provide format or specify infer_datetime_format=True for consistent parsing.\n",
      "  df[\"invoice_date\"]=pd.to_datetime(df[\"invoice_date\"])\n",
      "C:\\Users\\Olegi Megi\\AppData\\Local\\Temp\\ipykernel_7784\\3308698453.py:1: UserWarning: Parsing '26/02/2023' in DD/MM/YYYY format. Provide format or specify infer_datetime_format=True for consistent parsing.\n",
      "  df[\"invoice_date\"]=pd.to_datetime(df[\"invoice_date\"])\n",
      "C:\\Users\\Olegi Megi\\AppData\\Local\\Temp\\ipykernel_7784\\3308698453.py:1: UserWarning: Parsing '20/03/2021' in DD/MM/YYYY format. Provide format or specify infer_datetime_format=True for consistent parsing.\n",
      "  df[\"invoice_date\"]=pd.to_datetime(df[\"invoice_date\"])\n",
      "C:\\Users\\Olegi Megi\\AppData\\Local\\Temp\\ipykernel_7784\\3308698453.py:1: UserWarning: Parsing '15/05/2022' in DD/MM/YYYY format. Provide format or specify infer_datetime_format=True for consistent parsing.\n",
      "  df[\"invoice_date\"]=pd.to_datetime(df[\"invoice_date\"])\n",
      "C:\\Users\\Olegi Megi\\AppData\\Local\\Temp\\ipykernel_7784\\3308698453.py:1: UserWarning: Parsing '31/01/2023' in DD/MM/YYYY format. Provide format or specify infer_datetime_format=True for consistent parsing.\n",
      "  df[\"invoice_date\"]=pd.to_datetime(df[\"invoice_date\"])\n",
      "C:\\Users\\Olegi Megi\\AppData\\Local\\Temp\\ipykernel_7784\\3308698453.py:1: UserWarning: Parsing '28/03/2021' in DD/MM/YYYY format. Provide format or specify infer_datetime_format=True for consistent parsing.\n",
      "  df[\"invoice_date\"]=pd.to_datetime(df[\"invoice_date\"])\n",
      "C:\\Users\\Olegi Megi\\AppData\\Local\\Temp\\ipykernel_7784\\3308698453.py:1: UserWarning: Parsing '21/11/2022' in DD/MM/YYYY format. Provide format or specify infer_datetime_format=True for consistent parsing.\n",
      "  df[\"invoice_date\"]=pd.to_datetime(df[\"invoice_date\"])\n",
      "C:\\Users\\Olegi Megi\\AppData\\Local\\Temp\\ipykernel_7784\\3308698453.py:1: UserWarning: Parsing '14/02/2021' in DD/MM/YYYY format. Provide format or specify infer_datetime_format=True for consistent parsing.\n",
      "  df[\"invoice_date\"]=pd.to_datetime(df[\"invoice_date\"])\n",
      "C:\\Users\\Olegi Megi\\AppData\\Local\\Temp\\ipykernel_7784\\3308698453.py:1: UserWarning: Parsing '15/07/2022' in DD/MM/YYYY format. Provide format or specify infer_datetime_format=True for consistent parsing.\n",
      "  df[\"invoice_date\"]=pd.to_datetime(df[\"invoice_date\"])\n",
      "C:\\Users\\Olegi Megi\\AppData\\Local\\Temp\\ipykernel_7784\\3308698453.py:1: UserWarning: Parsing '19/05/2022' in DD/MM/YYYY format. Provide format or specify infer_datetime_format=True for consistent parsing.\n",
      "  df[\"invoice_date\"]=pd.to_datetime(df[\"invoice_date\"])\n",
      "C:\\Users\\Olegi Megi\\AppData\\Local\\Temp\\ipykernel_7784\\3308698453.py:1: UserWarning: Parsing '13/02/2023' in DD/MM/YYYY format. Provide format or specify infer_datetime_format=True for consistent parsing.\n",
      "  df[\"invoice_date\"]=pd.to_datetime(df[\"invoice_date\"])\n",
      "C:\\Users\\Olegi Megi\\AppData\\Local\\Temp\\ipykernel_7784\\3308698453.py:1: UserWarning: Parsing '27/11/2022' in DD/MM/YYYY format. Provide format or specify infer_datetime_format=True for consistent parsing.\n",
      "  df[\"invoice_date\"]=pd.to_datetime(df[\"invoice_date\"])\n",
      "C:\\Users\\Olegi Megi\\AppData\\Local\\Temp\\ipykernel_7784\\3308698453.py:1: UserWarning: Parsing '16/10/2021' in DD/MM/YYYY format. Provide format or specify infer_datetime_format=True for consistent parsing.\n",
      "  df[\"invoice_date\"]=pd.to_datetime(df[\"invoice_date\"])\n",
      "C:\\Users\\Olegi Megi\\AppData\\Local\\Temp\\ipykernel_7784\\3308698453.py:1: UserWarning: Parsing '24/05/2021' in DD/MM/YYYY format. Provide format or specify infer_datetime_format=True for consistent parsing.\n",
      "  df[\"invoice_date\"]=pd.to_datetime(df[\"invoice_date\"])\n",
      "C:\\Users\\Olegi Megi\\AppData\\Local\\Temp\\ipykernel_7784\\3308698453.py:1: UserWarning: Parsing '18/01/2021' in DD/MM/YYYY format. Provide format or specify infer_datetime_format=True for consistent parsing.\n",
      "  df[\"invoice_date\"]=pd.to_datetime(df[\"invoice_date\"])\n",
      "C:\\Users\\Olegi Megi\\AppData\\Local\\Temp\\ipykernel_7784\\3308698453.py:1: UserWarning: Parsing '22/07/2021' in DD/MM/YYYY format. Provide format or specify infer_datetime_format=True for consistent parsing.\n",
      "  df[\"invoice_date\"]=pd.to_datetime(df[\"invoice_date\"])\n",
      "C:\\Users\\Olegi Megi\\AppData\\Local\\Temp\\ipykernel_7784\\3308698453.py:1: UserWarning: Parsing '25/09/2022' in DD/MM/YYYY format. Provide format or specify infer_datetime_format=True for consistent parsing.\n",
      "  df[\"invoice_date\"]=pd.to_datetime(df[\"invoice_date\"])\n",
      "C:\\Users\\Olegi Megi\\AppData\\Local\\Temp\\ipykernel_7784\\3308698453.py:1: UserWarning: Parsing '16/01/2022' in DD/MM/YYYY format. Provide format or specify infer_datetime_format=True for consistent parsing.\n",
      "  df[\"invoice_date\"]=pd.to_datetime(df[\"invoice_date\"])\n",
      "C:\\Users\\Olegi Megi\\AppData\\Local\\Temp\\ipykernel_7784\\3308698453.py:1: UserWarning: Parsing '13/11/2022' in DD/MM/YYYY format. Provide format or specify infer_datetime_format=True for consistent parsing.\n",
      "  df[\"invoice_date\"]=pd.to_datetime(df[\"invoice_date\"])\n",
      "C:\\Users\\Olegi Megi\\AppData\\Local\\Temp\\ipykernel_7784\\3308698453.py:1: UserWarning: Parsing '23/07/2022' in DD/MM/YYYY format. Provide format or specify infer_datetime_format=True for consistent parsing.\n",
      "  df[\"invoice_date\"]=pd.to_datetime(df[\"invoice_date\"])\n",
      "C:\\Users\\Olegi Megi\\AppData\\Local\\Temp\\ipykernel_7784\\3308698453.py:1: UserWarning: Parsing '24/06/2021' in DD/MM/YYYY format. Provide format or specify infer_datetime_format=True for consistent parsing.\n",
      "  df[\"invoice_date\"]=pd.to_datetime(df[\"invoice_date\"])\n",
      "C:\\Users\\Olegi Megi\\AppData\\Local\\Temp\\ipykernel_7784\\3308698453.py:1: UserWarning: Parsing '30/01/2021' in DD/MM/YYYY format. Provide format or specify infer_datetime_format=True for consistent parsing.\n",
      "  df[\"invoice_date\"]=pd.to_datetime(df[\"invoice_date\"])\n",
      "C:\\Users\\Olegi Megi\\AppData\\Local\\Temp\\ipykernel_7784\\3308698453.py:1: UserWarning: Parsing '17/04/2022' in DD/MM/YYYY format. Provide format or specify infer_datetime_format=True for consistent parsing.\n",
      "  df[\"invoice_date\"]=pd.to_datetime(df[\"invoice_date\"])\n",
      "C:\\Users\\Olegi Megi\\AppData\\Local\\Temp\\ipykernel_7784\\3308698453.py:1: UserWarning: Parsing '23/02/2023' in DD/MM/YYYY format. Provide format or specify infer_datetime_format=True for consistent parsing.\n",
      "  df[\"invoice_date\"]=pd.to_datetime(df[\"invoice_date\"])\n",
      "C:\\Users\\Olegi Megi\\AppData\\Local\\Temp\\ipykernel_7784\\3308698453.py:1: UserWarning: Parsing '31/08/2021' in DD/MM/YYYY format. Provide format or specify infer_datetime_format=True for consistent parsing.\n",
      "  df[\"invoice_date\"]=pd.to_datetime(df[\"invoice_date\"])\n",
      "C:\\Users\\Olegi Megi\\AppData\\Local\\Temp\\ipykernel_7784\\3308698453.py:1: UserWarning: Parsing '30/06/2022' in DD/MM/YYYY format. Provide format or specify infer_datetime_format=True for consistent parsing.\n",
      "  df[\"invoice_date\"]=pd.to_datetime(df[\"invoice_date\"])\n",
      "C:\\Users\\Olegi Megi\\AppData\\Local\\Temp\\ipykernel_7784\\3308698453.py:1: UserWarning: Parsing '24/07/2021' in DD/MM/YYYY format. Provide format or specify infer_datetime_format=True for consistent parsing.\n",
      "  df[\"invoice_date\"]=pd.to_datetime(df[\"invoice_date\"])\n",
      "C:\\Users\\Olegi Megi\\AppData\\Local\\Temp\\ipykernel_7784\\3308698453.py:1: UserWarning: Parsing '15/04/2022' in DD/MM/YYYY format. Provide format or specify infer_datetime_format=True for consistent parsing.\n",
      "  df[\"invoice_date\"]=pd.to_datetime(df[\"invoice_date\"])\n",
      "C:\\Users\\Olegi Megi\\AppData\\Local\\Temp\\ipykernel_7784\\3308698453.py:1: UserWarning: Parsing '25/09/2021' in DD/MM/YYYY format. Provide format or specify infer_datetime_format=True for consistent parsing.\n",
      "  df[\"invoice_date\"]=pd.to_datetime(df[\"invoice_date\"])\n",
      "C:\\Users\\Olegi Megi\\AppData\\Local\\Temp\\ipykernel_7784\\3308698453.py:1: UserWarning: Parsing '24/08/2021' in DD/MM/YYYY format. Provide format or specify infer_datetime_format=True for consistent parsing.\n",
      "  df[\"invoice_date\"]=pd.to_datetime(df[\"invoice_date\"])\n",
      "C:\\Users\\Olegi Megi\\AppData\\Local\\Temp\\ipykernel_7784\\3308698453.py:1: UserWarning: Parsing '26/01/2021' in DD/MM/YYYY format. Provide format or specify infer_datetime_format=True for consistent parsing.\n",
      "  df[\"invoice_date\"]=pd.to_datetime(df[\"invoice_date\"])\n",
      "C:\\Users\\Olegi Megi\\AppData\\Local\\Temp\\ipykernel_7784\\3308698453.py:1: UserWarning: Parsing '17/07/2022' in DD/MM/YYYY format. Provide format or specify infer_datetime_format=True for consistent parsing.\n",
      "  df[\"invoice_date\"]=pd.to_datetime(df[\"invoice_date\"])\n",
      "C:\\Users\\Olegi Megi\\AppData\\Local\\Temp\\ipykernel_7784\\3308698453.py:1: UserWarning: Parsing '22/09/2022' in DD/MM/YYYY format. Provide format or specify infer_datetime_format=True for consistent parsing.\n",
      "  df[\"invoice_date\"]=pd.to_datetime(df[\"invoice_date\"])\n",
      "C:\\Users\\Olegi Megi\\AppData\\Local\\Temp\\ipykernel_7784\\3308698453.py:1: UserWarning: Parsing '27/06/2021' in DD/MM/YYYY format. Provide format or specify infer_datetime_format=True for consistent parsing.\n",
      "  df[\"invoice_date\"]=pd.to_datetime(df[\"invoice_date\"])\n",
      "C:\\Users\\Olegi Megi\\AppData\\Local\\Temp\\ipykernel_7784\\3308698453.py:1: UserWarning: Parsing '13/09/2021' in DD/MM/YYYY format. Provide format or specify infer_datetime_format=True for consistent parsing.\n",
      "  df[\"invoice_date\"]=pd.to_datetime(df[\"invoice_date\"])\n",
      "C:\\Users\\Olegi Megi\\AppData\\Local\\Temp\\ipykernel_7784\\3308698453.py:1: UserWarning: Parsing '27/05/2022' in DD/MM/YYYY format. Provide format or specify infer_datetime_format=True for consistent parsing.\n",
      "  df[\"invoice_date\"]=pd.to_datetime(df[\"invoice_date\"])\n",
      "C:\\Users\\Olegi Megi\\AppData\\Local\\Temp\\ipykernel_7784\\3308698453.py:1: UserWarning: Parsing '30/01/2022' in DD/MM/YYYY format. Provide format or specify infer_datetime_format=True for consistent parsing.\n",
      "  df[\"invoice_date\"]=pd.to_datetime(df[\"invoice_date\"])\n",
      "C:\\Users\\Olegi Megi\\AppData\\Local\\Temp\\ipykernel_7784\\3308698453.py:1: UserWarning: Parsing '21/12/2022' in DD/MM/YYYY format. Provide format or specify infer_datetime_format=True for consistent parsing.\n",
      "  df[\"invoice_date\"]=pd.to_datetime(df[\"invoice_date\"])\n",
      "C:\\Users\\Olegi Megi\\AppData\\Local\\Temp\\ipykernel_7784\\3308698453.py:1: UserWarning: Parsing '24/02/2021' in DD/MM/YYYY format. Provide format or specify infer_datetime_format=True for consistent parsing.\n",
      "  df[\"invoice_date\"]=pd.to_datetime(df[\"invoice_date\"])\n",
      "C:\\Users\\Olegi Megi\\AppData\\Local\\Temp\\ipykernel_7784\\3308698453.py:1: UserWarning: Parsing '19/07/2022' in DD/MM/YYYY format. Provide format or specify infer_datetime_format=True for consistent parsing.\n",
      "  df[\"invoice_date\"]=pd.to_datetime(df[\"invoice_date\"])\n",
      "C:\\Users\\Olegi Megi\\AppData\\Local\\Temp\\ipykernel_7784\\3308698453.py:1: UserWarning: Parsing '23/07/2021' in DD/MM/YYYY format. Provide format or specify infer_datetime_format=True for consistent parsing.\n",
      "  df[\"invoice_date\"]=pd.to_datetime(df[\"invoice_date\"])\n",
      "C:\\Users\\Olegi Megi\\AppData\\Local\\Temp\\ipykernel_7784\\3308698453.py:1: UserWarning: Parsing '27/10/2022' in DD/MM/YYYY format. Provide format or specify infer_datetime_format=True for consistent parsing.\n",
      "  df[\"invoice_date\"]=pd.to_datetime(df[\"invoice_date\"])\n",
      "C:\\Users\\Olegi Megi\\AppData\\Local\\Temp\\ipykernel_7784\\3308698453.py:1: UserWarning: Parsing '13/03/2021' in DD/MM/YYYY format. Provide format or specify infer_datetime_format=True for consistent parsing.\n",
      "  df[\"invoice_date\"]=pd.to_datetime(df[\"invoice_date\"])\n",
      "C:\\Users\\Olegi Megi\\AppData\\Local\\Temp\\ipykernel_7784\\3308698453.py:1: UserWarning: Parsing '28/06/2021' in DD/MM/YYYY format. Provide format or specify infer_datetime_format=True for consistent parsing.\n",
      "  df[\"invoice_date\"]=pd.to_datetime(df[\"invoice_date\"])\n",
      "C:\\Users\\Olegi Megi\\AppData\\Local\\Temp\\ipykernel_7784\\3308698453.py:1: UserWarning: Parsing '25/01/2021' in DD/MM/YYYY format. Provide format or specify infer_datetime_format=True for consistent parsing.\n",
      "  df[\"invoice_date\"]=pd.to_datetime(df[\"invoice_date\"])\n",
      "C:\\Users\\Olegi Megi\\AppData\\Local\\Temp\\ipykernel_7784\\3308698453.py:1: UserWarning: Parsing '18/09/2022' in DD/MM/YYYY format. Provide format or specify infer_datetime_format=True for consistent parsing.\n",
      "  df[\"invoice_date\"]=pd.to_datetime(df[\"invoice_date\"])\n",
      "C:\\Users\\Olegi Megi\\AppData\\Local\\Temp\\ipykernel_7784\\3308698453.py:1: UserWarning: Parsing '30/08/2021' in DD/MM/YYYY format. Provide format or specify infer_datetime_format=True for consistent parsing.\n",
      "  df[\"invoice_date\"]=pd.to_datetime(df[\"invoice_date\"])\n",
      "C:\\Users\\Olegi Megi\\AppData\\Local\\Temp\\ipykernel_7784\\3308698453.py:1: UserWarning: Parsing '19/06/2022' in DD/MM/YYYY format. Provide format or specify infer_datetime_format=True for consistent parsing.\n",
      "  df[\"invoice_date\"]=pd.to_datetime(df[\"invoice_date\"])\n",
      "C:\\Users\\Olegi Megi\\AppData\\Local\\Temp\\ipykernel_7784\\3308698453.py:1: UserWarning: Parsing '15/12/2022' in DD/MM/YYYY format. Provide format or specify infer_datetime_format=True for consistent parsing.\n",
      "  df[\"invoice_date\"]=pd.to_datetime(df[\"invoice_date\"])\n",
      "C:\\Users\\Olegi Megi\\AppData\\Local\\Temp\\ipykernel_7784\\3308698453.py:1: UserWarning: Parsing '29/12/2021' in DD/MM/YYYY format. Provide format or specify infer_datetime_format=True for consistent parsing.\n",
      "  df[\"invoice_date\"]=pd.to_datetime(df[\"invoice_date\"])\n",
      "C:\\Users\\Olegi Megi\\AppData\\Local\\Temp\\ipykernel_7784\\3308698453.py:1: UserWarning: Parsing '16/06/2021' in DD/MM/YYYY format. Provide format or specify infer_datetime_format=True for consistent parsing.\n",
      "  df[\"invoice_date\"]=pd.to_datetime(df[\"invoice_date\"])\n",
      "C:\\Users\\Olegi Megi\\AppData\\Local\\Temp\\ipykernel_7784\\3308698453.py:1: UserWarning: Parsing '17/01/2023' in DD/MM/YYYY format. Provide format or specify infer_datetime_format=True for consistent parsing.\n",
      "  df[\"invoice_date\"]=pd.to_datetime(df[\"invoice_date\"])\n",
      "C:\\Users\\Olegi Megi\\AppData\\Local\\Temp\\ipykernel_7784\\3308698453.py:1: UserWarning: Parsing '20/01/2022' in DD/MM/YYYY format. Provide format or specify infer_datetime_format=True for consistent parsing.\n",
      "  df[\"invoice_date\"]=pd.to_datetime(df[\"invoice_date\"])\n",
      "C:\\Users\\Olegi Megi\\AppData\\Local\\Temp\\ipykernel_7784\\3308698453.py:1: UserWarning: Parsing '30/09/2021' in DD/MM/YYYY format. Provide format or specify infer_datetime_format=True for consistent parsing.\n",
      "  df[\"invoice_date\"]=pd.to_datetime(df[\"invoice_date\"])\n",
      "C:\\Users\\Olegi Megi\\AppData\\Local\\Temp\\ipykernel_7784\\3308698453.py:1: UserWarning: Parsing '14/11/2022' in DD/MM/YYYY format. Provide format or specify infer_datetime_format=True for consistent parsing.\n",
      "  df[\"invoice_date\"]=pd.to_datetime(df[\"invoice_date\"])\n",
      "C:\\Users\\Olegi Megi\\AppData\\Local\\Temp\\ipykernel_7784\\3308698453.py:1: UserWarning: Parsing '22/03/2021' in DD/MM/YYYY format. Provide format or specify infer_datetime_format=True for consistent parsing.\n",
      "  df[\"invoice_date\"]=pd.to_datetime(df[\"invoice_date\"])\n",
      "C:\\Users\\Olegi Megi\\AppData\\Local\\Temp\\ipykernel_7784\\3308698453.py:1: UserWarning: Parsing '22/12/2022' in DD/MM/YYYY format. Provide format or specify infer_datetime_format=True for consistent parsing.\n",
      "  df[\"invoice_date\"]=pd.to_datetime(df[\"invoice_date\"])\n",
      "C:\\Users\\Olegi Megi\\AppData\\Local\\Temp\\ipykernel_7784\\3308698453.py:1: UserWarning: Parsing '18/09/2021' in DD/MM/YYYY format. Provide format or specify infer_datetime_format=True for consistent parsing.\n",
      "  df[\"invoice_date\"]=pd.to_datetime(df[\"invoice_date\"])\n",
      "C:\\Users\\Olegi Megi\\AppData\\Local\\Temp\\ipykernel_7784\\3308698453.py:1: UserWarning: Parsing '26/03/2021' in DD/MM/YYYY format. Provide format or specify infer_datetime_format=True for consistent parsing.\n",
      "  df[\"invoice_date\"]=pd.to_datetime(df[\"invoice_date\"])\n",
      "C:\\Users\\Olegi Megi\\AppData\\Local\\Temp\\ipykernel_7784\\3308698453.py:1: UserWarning: Parsing '27/07/2022' in DD/MM/YYYY format. Provide format or specify infer_datetime_format=True for consistent parsing.\n",
      "  df[\"invoice_date\"]=pd.to_datetime(df[\"invoice_date\"])\n",
      "C:\\Users\\Olegi Megi\\AppData\\Local\\Temp\\ipykernel_7784\\3308698453.py:1: UserWarning: Parsing '26/06/2022' in DD/MM/YYYY format. Provide format or specify infer_datetime_format=True for consistent parsing.\n",
      "  df[\"invoice_date\"]=pd.to_datetime(df[\"invoice_date\"])\n",
      "C:\\Users\\Olegi Megi\\AppData\\Local\\Temp\\ipykernel_7784\\3308698453.py:1: UserWarning: Parsing '25/07/2022' in DD/MM/YYYY format. Provide format or specify infer_datetime_format=True for consistent parsing.\n",
      "  df[\"invoice_date\"]=pd.to_datetime(df[\"invoice_date\"])\n",
      "C:\\Users\\Olegi Megi\\AppData\\Local\\Temp\\ipykernel_7784\\3308698453.py:1: UserWarning: Parsing '19/09/2021' in DD/MM/YYYY format. Provide format or specify infer_datetime_format=True for consistent parsing.\n",
      "  df[\"invoice_date\"]=pd.to_datetime(df[\"invoice_date\"])\n",
      "C:\\Users\\Olegi Megi\\AppData\\Local\\Temp\\ipykernel_7784\\3308698453.py:1: UserWarning: Parsing '29/03/2022' in DD/MM/YYYY format. Provide format or specify infer_datetime_format=True for consistent parsing.\n",
      "  df[\"invoice_date\"]=pd.to_datetime(df[\"invoice_date\"])\n",
      "C:\\Users\\Olegi Megi\\AppData\\Local\\Temp\\ipykernel_7784\\3308698453.py:1: UserWarning: Parsing '25/01/2022' in DD/MM/YYYY format. Provide format or specify infer_datetime_format=True for consistent parsing.\n",
      "  df[\"invoice_date\"]=pd.to_datetime(df[\"invoice_date\"])\n",
      "C:\\Users\\Olegi Megi\\AppData\\Local\\Temp\\ipykernel_7784\\3308698453.py:1: UserWarning: Parsing '14/08/2022' in DD/MM/YYYY format. Provide format or specify infer_datetime_format=True for consistent parsing.\n",
      "  df[\"invoice_date\"]=pd.to_datetime(df[\"invoice_date\"])\n",
      "C:\\Users\\Olegi Megi\\AppData\\Local\\Temp\\ipykernel_7784\\3308698453.py:1: UserWarning: Parsing '14/06/2022' in DD/MM/YYYY format. Provide format or specify infer_datetime_format=True for consistent parsing.\n",
      "  df[\"invoice_date\"]=pd.to_datetime(df[\"invoice_date\"])\n",
      "C:\\Users\\Olegi Megi\\AppData\\Local\\Temp\\ipykernel_7784\\3308698453.py:1: UserWarning: Parsing '13/08/2021' in DD/MM/YYYY format. Provide format or specify infer_datetime_format=True for consistent parsing.\n",
      "  df[\"invoice_date\"]=pd.to_datetime(df[\"invoice_date\"])\n",
      "C:\\Users\\Olegi Megi\\AppData\\Local\\Temp\\ipykernel_7784\\3308698453.py:1: UserWarning: Parsing '22/12/2021' in DD/MM/YYYY format. Provide format or specify infer_datetime_format=True for consistent parsing.\n",
      "  df[\"invoice_date\"]=pd.to_datetime(df[\"invoice_date\"])\n",
      "C:\\Users\\Olegi Megi\\AppData\\Local\\Temp\\ipykernel_7784\\3308698453.py:1: UserWarning: Parsing '23/11/2022' in DD/MM/YYYY format. Provide format or specify infer_datetime_format=True for consistent parsing.\n",
      "  df[\"invoice_date\"]=pd.to_datetime(df[\"invoice_date\"])\n",
      "C:\\Users\\Olegi Megi\\AppData\\Local\\Temp\\ipykernel_7784\\3308698453.py:1: UserWarning: Parsing '19/02/2023' in DD/MM/YYYY format. Provide format or specify infer_datetime_format=True for consistent parsing.\n",
      "  df[\"invoice_date\"]=pd.to_datetime(df[\"invoice_date\"])\n",
      "C:\\Users\\Olegi Megi\\AppData\\Local\\Temp\\ipykernel_7784\\3308698453.py:1: UserWarning: Parsing '29/06/2021' in DD/MM/YYYY format. Provide format or specify infer_datetime_format=True for consistent parsing.\n",
      "  df[\"invoice_date\"]=pd.to_datetime(df[\"invoice_date\"])\n",
      "C:\\Users\\Olegi Megi\\AppData\\Local\\Temp\\ipykernel_7784\\3308698453.py:1: UserWarning: Parsing '30/06/2021' in DD/MM/YYYY format. Provide format or specify infer_datetime_format=True for consistent parsing.\n",
      "  df[\"invoice_date\"]=pd.to_datetime(df[\"invoice_date\"])\n",
      "C:\\Users\\Olegi Megi\\AppData\\Local\\Temp\\ipykernel_7784\\3308698453.py:1: UserWarning: Parsing '24/03/2022' in DD/MM/YYYY format. Provide format or specify infer_datetime_format=True for consistent parsing.\n",
      "  df[\"invoice_date\"]=pd.to_datetime(df[\"invoice_date\"])\n",
      "C:\\Users\\Olegi Megi\\AppData\\Local\\Temp\\ipykernel_7784\\3308698453.py:1: UserWarning: Parsing '17/09/2022' in DD/MM/YYYY format. Provide format or specify infer_datetime_format=True for consistent parsing.\n",
      "  df[\"invoice_date\"]=pd.to_datetime(df[\"invoice_date\"])\n",
      "C:\\Users\\Olegi Megi\\AppData\\Local\\Temp\\ipykernel_7784\\3308698453.py:1: UserWarning: Parsing '18/02/2021' in DD/MM/YYYY format. Provide format or specify infer_datetime_format=True for consistent parsing.\n",
      "  df[\"invoice_date\"]=pd.to_datetime(df[\"invoice_date\"])\n",
      "C:\\Users\\Olegi Megi\\AppData\\Local\\Temp\\ipykernel_7784\\3308698453.py:1: UserWarning: Parsing '21/03/2021' in DD/MM/YYYY format. Provide format or specify infer_datetime_format=True for consistent parsing.\n",
      "  df[\"invoice_date\"]=pd.to_datetime(df[\"invoice_date\"])\n",
      "C:\\Users\\Olegi Megi\\AppData\\Local\\Temp\\ipykernel_7784\\3308698453.py:1: UserWarning: Parsing '26/01/2023' in DD/MM/YYYY format. Provide format or specify infer_datetime_format=True for consistent parsing.\n",
      "  df[\"invoice_date\"]=pd.to_datetime(df[\"invoice_date\"])\n",
      "C:\\Users\\Olegi Megi\\AppData\\Local\\Temp\\ipykernel_7784\\3308698453.py:1: UserWarning: Parsing '25/01/2023' in DD/MM/YYYY format. Provide format or specify infer_datetime_format=True for consistent parsing.\n",
      "  df[\"invoice_date\"]=pd.to_datetime(df[\"invoice_date\"])\n",
      "C:\\Users\\Olegi Megi\\AppData\\Local\\Temp\\ipykernel_7784\\3308698453.py:1: UserWarning: Parsing '23/09/2022' in DD/MM/YYYY format. Provide format or specify infer_datetime_format=True for consistent parsing.\n",
      "  df[\"invoice_date\"]=pd.to_datetime(df[\"invoice_date\"])\n",
      "C:\\Users\\Olegi Megi\\AppData\\Local\\Temp\\ipykernel_7784\\3308698453.py:1: UserWarning: Parsing '31/10/2022' in DD/MM/YYYY format. Provide format or specify infer_datetime_format=True for consistent parsing.\n",
      "  df[\"invoice_date\"]=pd.to_datetime(df[\"invoice_date\"])\n",
      "C:\\Users\\Olegi Megi\\AppData\\Local\\Temp\\ipykernel_7784\\3308698453.py:1: UserWarning: Parsing '18/10/2021' in DD/MM/YYYY format. Provide format or specify infer_datetime_format=True for consistent parsing.\n",
      "  df[\"invoice_date\"]=pd.to_datetime(df[\"invoice_date\"])\n",
      "C:\\Users\\Olegi Megi\\AppData\\Local\\Temp\\ipykernel_7784\\3308698453.py:1: UserWarning: Parsing '31/05/2021' in DD/MM/YYYY format. Provide format or specify infer_datetime_format=True for consistent parsing.\n",
      "  df[\"invoice_date\"]=pd.to_datetime(df[\"invoice_date\"])\n",
      "C:\\Users\\Olegi Megi\\AppData\\Local\\Temp\\ipykernel_7784\\3308698453.py:1: UserWarning: Parsing '18/08/2021' in DD/MM/YYYY format. Provide format or specify infer_datetime_format=True for consistent parsing.\n",
      "  df[\"invoice_date\"]=pd.to_datetime(df[\"invoice_date\"])\n",
      "C:\\Users\\Olegi Megi\\AppData\\Local\\Temp\\ipykernel_7784\\3308698453.py:1: UserWarning: Parsing '16/09/2021' in DD/MM/YYYY format. Provide format or specify infer_datetime_format=True for consistent parsing.\n",
      "  df[\"invoice_date\"]=pd.to_datetime(df[\"invoice_date\"])\n",
      "C:\\Users\\Olegi Megi\\AppData\\Local\\Temp\\ipykernel_7784\\3308698453.py:1: UserWarning: Parsing '15/11/2022' in DD/MM/YYYY format. Provide format or specify infer_datetime_format=True for consistent parsing.\n",
      "  df[\"invoice_date\"]=pd.to_datetime(df[\"invoice_date\"])\n",
      "C:\\Users\\Olegi Megi\\AppData\\Local\\Temp\\ipykernel_7784\\3308698453.py:1: UserWarning: Parsing '14/09/2022' in DD/MM/YYYY format. Provide format or specify infer_datetime_format=True for consistent parsing.\n",
      "  df[\"invoice_date\"]=pd.to_datetime(df[\"invoice_date\"])\n",
      "C:\\Users\\Olegi Megi\\AppData\\Local\\Temp\\ipykernel_7784\\3308698453.py:1: UserWarning: Parsing '25/06/2021' in DD/MM/YYYY format. Provide format or specify infer_datetime_format=True for consistent parsing.\n",
      "  df[\"invoice_date\"]=pd.to_datetime(df[\"invoice_date\"])\n",
      "C:\\Users\\Olegi Megi\\AppData\\Local\\Temp\\ipykernel_7784\\3308698453.py:1: UserWarning: Parsing '13/02/2022' in DD/MM/YYYY format. Provide format or specify infer_datetime_format=True for consistent parsing.\n",
      "  df[\"invoice_date\"]=pd.to_datetime(df[\"invoice_date\"])\n",
      "C:\\Users\\Olegi Megi\\AppData\\Local\\Temp\\ipykernel_7784\\3308698453.py:1: UserWarning: Parsing '15/06/2022' in DD/MM/YYYY format. Provide format or specify infer_datetime_format=True for consistent parsing.\n",
      "  df[\"invoice_date\"]=pd.to_datetime(df[\"invoice_date\"])\n",
      "C:\\Users\\Olegi Megi\\AppData\\Local\\Temp\\ipykernel_7784\\3308698453.py:1: UserWarning: Parsing '25/11/2022' in DD/MM/YYYY format. Provide format or specify infer_datetime_format=True for consistent parsing.\n",
      "  df[\"invoice_date\"]=pd.to_datetime(df[\"invoice_date\"])\n",
      "C:\\Users\\Olegi Megi\\AppData\\Local\\Temp\\ipykernel_7784\\3308698453.py:1: UserWarning: Parsing '19/02/2022' in DD/MM/YYYY format. Provide format or specify infer_datetime_format=True for consistent parsing.\n",
      "  df[\"invoice_date\"]=pd.to_datetime(df[\"invoice_date\"])\n",
      "C:\\Users\\Olegi Megi\\AppData\\Local\\Temp\\ipykernel_7784\\3308698453.py:1: UserWarning: Parsing '14/04/2021' in DD/MM/YYYY format. Provide format or specify infer_datetime_format=True for consistent parsing.\n",
      "  df[\"invoice_date\"]=pd.to_datetime(df[\"invoice_date\"])\n",
      "C:\\Users\\Olegi Megi\\AppData\\Local\\Temp\\ipykernel_7784\\3308698453.py:1: UserWarning: Parsing '27/12/2022' in DD/MM/YYYY format. Provide format or specify infer_datetime_format=True for consistent parsing.\n",
      "  df[\"invoice_date\"]=pd.to_datetime(df[\"invoice_date\"])\n",
      "C:\\Users\\Olegi Megi\\AppData\\Local\\Temp\\ipykernel_7784\\3308698453.py:1: UserWarning: Parsing '16/08/2021' in DD/MM/YYYY format. Provide format or specify infer_datetime_format=True for consistent parsing.\n",
      "  df[\"invoice_date\"]=pd.to_datetime(df[\"invoice_date\"])\n",
      "C:\\Users\\Olegi Megi\\AppData\\Local\\Temp\\ipykernel_7784\\3308698453.py:1: UserWarning: Parsing '17/02/2023' in DD/MM/YYYY format. Provide format or specify infer_datetime_format=True for consistent parsing.\n",
      "  df[\"invoice_date\"]=pd.to_datetime(df[\"invoice_date\"])\n",
      "C:\\Users\\Olegi Megi\\AppData\\Local\\Temp\\ipykernel_7784\\3308698453.py:1: UserWarning: Parsing '23/03/2022' in DD/MM/YYYY format. Provide format or specify infer_datetime_format=True for consistent parsing.\n",
      "  df[\"invoice_date\"]=pd.to_datetime(df[\"invoice_date\"])\n",
      "C:\\Users\\Olegi Megi\\AppData\\Local\\Temp\\ipykernel_7784\\3308698453.py:1: UserWarning: Parsing '29/12/2022' in DD/MM/YYYY format. Provide format or specify infer_datetime_format=True for consistent parsing.\n",
      "  df[\"invoice_date\"]=pd.to_datetime(df[\"invoice_date\"])\n",
      "C:\\Users\\Olegi Megi\\AppData\\Local\\Temp\\ipykernel_7784\\3308698453.py:1: UserWarning: Parsing '29/03/2021' in DD/MM/YYYY format. Provide format or specify infer_datetime_format=True for consistent parsing.\n",
      "  df[\"invoice_date\"]=pd.to_datetime(df[\"invoice_date\"])\n",
      "C:\\Users\\Olegi Megi\\AppData\\Local\\Temp\\ipykernel_7784\\3308698453.py:1: UserWarning: Parsing '17/05/2021' in DD/MM/YYYY format. Provide format or specify infer_datetime_format=True for consistent parsing.\n",
      "  df[\"invoice_date\"]=pd.to_datetime(df[\"invoice_date\"])\n",
      "C:\\Users\\Olegi Megi\\AppData\\Local\\Temp\\ipykernel_7784\\3308698453.py:1: UserWarning: Parsing '16/06/2022' in DD/MM/YYYY format. Provide format or specify infer_datetime_format=True for consistent parsing.\n",
      "  df[\"invoice_date\"]=pd.to_datetime(df[\"invoice_date\"])\n",
      "C:\\Users\\Olegi Megi\\AppData\\Local\\Temp\\ipykernel_7784\\3308698453.py:1: UserWarning: Parsing '24/09/2022' in DD/MM/YYYY format. Provide format or specify infer_datetime_format=True for consistent parsing.\n",
      "  df[\"invoice_date\"]=pd.to_datetime(df[\"invoice_date\"])\n",
      "C:\\Users\\Olegi Megi\\AppData\\Local\\Temp\\ipykernel_7784\\3308698453.py:1: UserWarning: Parsing '18/10/2022' in DD/MM/YYYY format. Provide format or specify infer_datetime_format=True for consistent parsing.\n",
      "  df[\"invoice_date\"]=pd.to_datetime(df[\"invoice_date\"])\n",
      "C:\\Users\\Olegi Megi\\AppData\\Local\\Temp\\ipykernel_7784\\3308698453.py:1: UserWarning: Parsing '17/07/2021' in DD/MM/YYYY format. Provide format or specify infer_datetime_format=True for consistent parsing.\n",
      "  df[\"invoice_date\"]=pd.to_datetime(df[\"invoice_date\"])\n",
      "C:\\Users\\Olegi Megi\\AppData\\Local\\Temp\\ipykernel_7784\\3308698453.py:1: UserWarning: Parsing '17/09/2021' in DD/MM/YYYY format. Provide format or specify infer_datetime_format=True for consistent parsing.\n",
      "  df[\"invoice_date\"]=pd.to_datetime(df[\"invoice_date\"])\n",
      "C:\\Users\\Olegi Megi\\AppData\\Local\\Temp\\ipykernel_7784\\3308698453.py:1: UserWarning: Parsing '26/12/2021' in DD/MM/YYYY format. Provide format or specify infer_datetime_format=True for consistent parsing.\n",
      "  df[\"invoice_date\"]=pd.to_datetime(df[\"invoice_date\"])\n",
      "C:\\Users\\Olegi Megi\\AppData\\Local\\Temp\\ipykernel_7784\\3308698453.py:1: UserWarning: Parsing '27/03/2021' in DD/MM/YYYY format. Provide format or specify infer_datetime_format=True for consistent parsing.\n",
      "  df[\"invoice_date\"]=pd.to_datetime(df[\"invoice_date\"])\n",
      "C:\\Users\\Olegi Megi\\AppData\\Local\\Temp\\ipykernel_7784\\3308698453.py:1: UserWarning: Parsing '23/02/2021' in DD/MM/YYYY format. Provide format or specify infer_datetime_format=True for consistent parsing.\n",
      "  df[\"invoice_date\"]=pd.to_datetime(df[\"invoice_date\"])\n",
      "C:\\Users\\Olegi Megi\\AppData\\Local\\Temp\\ipykernel_7784\\3308698453.py:1: UserWarning: Parsing '20/05/2022' in DD/MM/YYYY format. Provide format or specify infer_datetime_format=True for consistent parsing.\n",
      "  df[\"invoice_date\"]=pd.to_datetime(df[\"invoice_date\"])\n",
      "C:\\Users\\Olegi Megi\\AppData\\Local\\Temp\\ipykernel_7784\\3308698453.py:1: UserWarning: Parsing '15/10/2021' in DD/MM/YYYY format. Provide format or specify infer_datetime_format=True for consistent parsing.\n",
      "  df[\"invoice_date\"]=pd.to_datetime(df[\"invoice_date\"])\n",
      "C:\\Users\\Olegi Megi\\AppData\\Local\\Temp\\ipykernel_7784\\3308698453.py:1: UserWarning: Parsing '24/06/2022' in DD/MM/YYYY format. Provide format or specify infer_datetime_format=True for consistent parsing.\n",
      "  df[\"invoice_date\"]=pd.to_datetime(df[\"invoice_date\"])\n",
      "C:\\Users\\Olegi Megi\\AppData\\Local\\Temp\\ipykernel_7784\\3308698453.py:1: UserWarning: Parsing '19/02/2021' in DD/MM/YYYY format. Provide format or specify infer_datetime_format=True for consistent parsing.\n",
      "  df[\"invoice_date\"]=pd.to_datetime(df[\"invoice_date\"])\n",
      "C:\\Users\\Olegi Megi\\AppData\\Local\\Temp\\ipykernel_7784\\3308698453.py:1: UserWarning: Parsing '13/04/2021' in DD/MM/YYYY format. Provide format or specify infer_datetime_format=True for consistent parsing.\n",
      "  df[\"invoice_date\"]=pd.to_datetime(df[\"invoice_date\"])\n",
      "C:\\Users\\Olegi Megi\\AppData\\Local\\Temp\\ipykernel_7784\\3308698453.py:1: UserWarning: Parsing '24/04/2022' in DD/MM/YYYY format. Provide format or specify infer_datetime_format=True for consistent parsing.\n",
      "  df[\"invoice_date\"]=pd.to_datetime(df[\"invoice_date\"])\n",
      "C:\\Users\\Olegi Megi\\AppData\\Local\\Temp\\ipykernel_7784\\3308698453.py:1: UserWarning: Parsing '17/12/2022' in DD/MM/YYYY format. Provide format or specify infer_datetime_format=True for consistent parsing.\n",
      "  df[\"invoice_date\"]=pd.to_datetime(df[\"invoice_date\"])\n",
      "C:\\Users\\Olegi Megi\\AppData\\Local\\Temp\\ipykernel_7784\\3308698453.py:1: UserWarning: Parsing '19/11/2022' in DD/MM/YYYY format. Provide format or specify infer_datetime_format=True for consistent parsing.\n",
      "  df[\"invoice_date\"]=pd.to_datetime(df[\"invoice_date\"])\n",
      "C:\\Users\\Olegi Megi\\AppData\\Local\\Temp\\ipykernel_7784\\3308698453.py:1: UserWarning: Parsing '16/03/2022' in DD/MM/YYYY format. Provide format or specify infer_datetime_format=True for consistent parsing.\n",
      "  df[\"invoice_date\"]=pd.to_datetime(df[\"invoice_date\"])\n",
      "C:\\Users\\Olegi Megi\\AppData\\Local\\Temp\\ipykernel_7784\\3308698453.py:1: UserWarning: Parsing '14/11/2021' in DD/MM/YYYY format. Provide format or specify infer_datetime_format=True for consistent parsing.\n",
      "  df[\"invoice_date\"]=pd.to_datetime(df[\"invoice_date\"])\n",
      "C:\\Users\\Olegi Megi\\AppData\\Local\\Temp\\ipykernel_7784\\3308698453.py:1: UserWarning: Parsing '23/01/2022' in DD/MM/YYYY format. Provide format or specify infer_datetime_format=True for consistent parsing.\n",
      "  df[\"invoice_date\"]=pd.to_datetime(df[\"invoice_date\"])\n",
      "C:\\Users\\Olegi Megi\\AppData\\Local\\Temp\\ipykernel_7784\\3308698453.py:1: UserWarning: Parsing '16/10/2022' in DD/MM/YYYY format. Provide format or specify infer_datetime_format=True for consistent parsing.\n",
      "  df[\"invoice_date\"]=pd.to_datetime(df[\"invoice_date\"])\n",
      "C:\\Users\\Olegi Megi\\AppData\\Local\\Temp\\ipykernel_7784\\3308698453.py:1: UserWarning: Parsing '18/01/2023' in DD/MM/YYYY format. Provide format or specify infer_datetime_format=True for consistent parsing.\n",
      "  df[\"invoice_date\"]=pd.to_datetime(df[\"invoice_date\"])\n",
      "C:\\Users\\Olegi Megi\\AppData\\Local\\Temp\\ipykernel_7784\\3308698453.py:1: UserWarning: Parsing '27/09/2022' in DD/MM/YYYY format. Provide format or specify infer_datetime_format=True for consistent parsing.\n",
      "  df[\"invoice_date\"]=pd.to_datetime(df[\"invoice_date\"])\n",
      "C:\\Users\\Olegi Megi\\AppData\\Local\\Temp\\ipykernel_7784\\3308698453.py:1: UserWarning: Parsing '31/01/2022' in DD/MM/YYYY format. Provide format or specify infer_datetime_format=True for consistent parsing.\n",
      "  df[\"invoice_date\"]=pd.to_datetime(df[\"invoice_date\"])\n",
      "C:\\Users\\Olegi Megi\\AppData\\Local\\Temp\\ipykernel_7784\\3308698453.py:1: UserWarning: Parsing '25/07/2021' in DD/MM/YYYY format. Provide format or specify infer_datetime_format=True for consistent parsing.\n",
      "  df[\"invoice_date\"]=pd.to_datetime(df[\"invoice_date\"])\n",
      "C:\\Users\\Olegi Megi\\AppData\\Local\\Temp\\ipykernel_7784\\3308698453.py:1: UserWarning: Parsing '28/07/2022' in DD/MM/YYYY format. Provide format or specify infer_datetime_format=True for consistent parsing.\n",
      "  df[\"invoice_date\"]=pd.to_datetime(df[\"invoice_date\"])\n",
      "C:\\Users\\Olegi Megi\\AppData\\Local\\Temp\\ipykernel_7784\\3308698453.py:1: UserWarning: Parsing '20/09/2022' in DD/MM/YYYY format. Provide format or specify infer_datetime_format=True for consistent parsing.\n",
      "  df[\"invoice_date\"]=pd.to_datetime(df[\"invoice_date\"])\n",
      "C:\\Users\\Olegi Megi\\AppData\\Local\\Temp\\ipykernel_7784\\3308698453.py:1: UserWarning: Parsing '13/06/2022' in DD/MM/YYYY format. Provide format or specify infer_datetime_format=True for consistent parsing.\n",
      "  df[\"invoice_date\"]=pd.to_datetime(df[\"invoice_date\"])\n",
      "C:\\Users\\Olegi Megi\\AppData\\Local\\Temp\\ipykernel_7784\\3308698453.py:1: UserWarning: Parsing '15/08/2022' in DD/MM/YYYY format. Provide format or specify infer_datetime_format=True for consistent parsing.\n",
      "  df[\"invoice_date\"]=pd.to_datetime(df[\"invoice_date\"])\n",
      "C:\\Users\\Olegi Megi\\AppData\\Local\\Temp\\ipykernel_7784\\3308698453.py:1: UserWarning: Parsing '24/01/2022' in DD/MM/YYYY format. Provide format or specify infer_datetime_format=True for consistent parsing.\n",
      "  df[\"invoice_date\"]=pd.to_datetime(df[\"invoice_date\"])\n",
      "C:\\Users\\Olegi Megi\\AppData\\Local\\Temp\\ipykernel_7784\\3308698453.py:1: UserWarning: Parsing '21/05/2021' in DD/MM/YYYY format. Provide format or specify infer_datetime_format=True for consistent parsing.\n",
      "  df[\"invoice_date\"]=pd.to_datetime(df[\"invoice_date\"])\n",
      "C:\\Users\\Olegi Megi\\AppData\\Local\\Temp\\ipykernel_7784\\3308698453.py:1: UserWarning: Parsing '25/03/2022' in DD/MM/YYYY format. Provide format or specify infer_datetime_format=True for consistent parsing.\n",
      "  df[\"invoice_date\"]=pd.to_datetime(df[\"invoice_date\"])\n",
      "C:\\Users\\Olegi Megi\\AppData\\Local\\Temp\\ipykernel_7784\\3308698453.py:1: UserWarning: Parsing '19/10/2021' in DD/MM/YYYY format. Provide format or specify infer_datetime_format=True for consistent parsing.\n",
      "  df[\"invoice_date\"]=pd.to_datetime(df[\"invoice_date\"])\n",
      "C:\\Users\\Olegi Megi\\AppData\\Local\\Temp\\ipykernel_7784\\3308698453.py:1: UserWarning: Parsing '15/03/2022' in DD/MM/YYYY format. Provide format or specify infer_datetime_format=True for consistent parsing.\n",
      "  df[\"invoice_date\"]=pd.to_datetime(df[\"invoice_date\"])\n",
      "C:\\Users\\Olegi Megi\\AppData\\Local\\Temp\\ipykernel_7784\\3308698453.py:1: UserWarning: Parsing '24/11/2022' in DD/MM/YYYY format. Provide format or specify infer_datetime_format=True for consistent parsing.\n",
      "  df[\"invoice_date\"]=pd.to_datetime(df[\"invoice_date\"])\n",
      "C:\\Users\\Olegi Megi\\AppData\\Local\\Temp\\ipykernel_7784\\3308698453.py:1: UserWarning: Parsing '21/07/2022' in DD/MM/YYYY format. Provide format or specify infer_datetime_format=True for consistent parsing.\n",
      "  df[\"invoice_date\"]=pd.to_datetime(df[\"invoice_date\"])\n",
      "C:\\Users\\Olegi Megi\\AppData\\Local\\Temp\\ipykernel_7784\\3308698453.py:1: UserWarning: Parsing '26/12/2022' in DD/MM/YYYY format. Provide format or specify infer_datetime_format=True for consistent parsing.\n",
      "  df[\"invoice_date\"]=pd.to_datetime(df[\"invoice_date\"])\n",
      "C:\\Users\\Olegi Megi\\AppData\\Local\\Temp\\ipykernel_7784\\3308698453.py:1: UserWarning: Parsing '21/01/2023' in DD/MM/YYYY format. Provide format or specify infer_datetime_format=True for consistent parsing.\n",
      "  df[\"invoice_date\"]=pd.to_datetime(df[\"invoice_date\"])\n",
      "C:\\Users\\Olegi Megi\\AppData\\Local\\Temp\\ipykernel_7784\\3308698453.py:1: UserWarning: Parsing '25/06/2022' in DD/MM/YYYY format. Provide format or specify infer_datetime_format=True for consistent parsing.\n",
      "  df[\"invoice_date\"]=pd.to_datetime(df[\"invoice_date\"])\n",
      "C:\\Users\\Olegi Megi\\AppData\\Local\\Temp\\ipykernel_7784\\3308698453.py:1: UserWarning: Parsing '22/06/2022' in DD/MM/YYYY format. Provide format or specify infer_datetime_format=True for consistent parsing.\n",
      "  df[\"invoice_date\"]=pd.to_datetime(df[\"invoice_date\"])\n",
      "C:\\Users\\Olegi Megi\\AppData\\Local\\Temp\\ipykernel_7784\\3308698453.py:1: UserWarning: Parsing '28/01/2021' in DD/MM/YYYY format. Provide format or specify infer_datetime_format=True for consistent parsing.\n",
      "  df[\"invoice_date\"]=pd.to_datetime(df[\"invoice_date\"])\n",
      "C:\\Users\\Olegi Megi\\AppData\\Local\\Temp\\ipykernel_7784\\3308698453.py:1: UserWarning: Parsing '16/07/2021' in DD/MM/YYYY format. Provide format or specify infer_datetime_format=True for consistent parsing.\n",
      "  df[\"invoice_date\"]=pd.to_datetime(df[\"invoice_date\"])\n",
      "C:\\Users\\Olegi Megi\\AppData\\Local\\Temp\\ipykernel_7784\\3308698453.py:1: UserWarning: Parsing '16/11/2021' in DD/MM/YYYY format. Provide format or specify infer_datetime_format=True for consistent parsing.\n",
      "  df[\"invoice_date\"]=pd.to_datetime(df[\"invoice_date\"])\n",
      "C:\\Users\\Olegi Megi\\AppData\\Local\\Temp\\ipykernel_7784\\3308698453.py:1: UserWarning: Parsing '26/08/2022' in DD/MM/YYYY format. Provide format or specify infer_datetime_format=True for consistent parsing.\n",
      "  df[\"invoice_date\"]=pd.to_datetime(df[\"invoice_date\"])\n",
      "C:\\Users\\Olegi Megi\\AppData\\Local\\Temp\\ipykernel_7784\\3308698453.py:1: UserWarning: Parsing '28/08/2021' in DD/MM/YYYY format. Provide format or specify infer_datetime_format=True for consistent parsing.\n",
      "  df[\"invoice_date\"]=pd.to_datetime(df[\"invoice_date\"])\n",
      "C:\\Users\\Olegi Megi\\AppData\\Local\\Temp\\ipykernel_7784\\3308698453.py:1: UserWarning: Parsing '22/05/2021' in DD/MM/YYYY format. Provide format or specify infer_datetime_format=True for consistent parsing.\n",
      "  df[\"invoice_date\"]=pd.to_datetime(df[\"invoice_date\"])\n",
      "C:\\Users\\Olegi Megi\\AppData\\Local\\Temp\\ipykernel_7784\\3308698453.py:1: UserWarning: Parsing '13/01/2022' in DD/MM/YYYY format. Provide format or specify infer_datetime_format=True for consistent parsing.\n",
      "  df[\"invoice_date\"]=pd.to_datetime(df[\"invoice_date\"])\n",
      "C:\\Users\\Olegi Megi\\AppData\\Local\\Temp\\ipykernel_7784\\3308698453.py:1: UserWarning: Parsing '20/10/2021' in DD/MM/YYYY format. Provide format or specify infer_datetime_format=True for consistent parsing.\n",
      "  df[\"invoice_date\"]=pd.to_datetime(df[\"invoice_date\"])\n",
      "C:\\Users\\Olegi Megi\\AppData\\Local\\Temp\\ipykernel_7784\\3308698453.py:1: UserWarning: Parsing '31/01/2021' in DD/MM/YYYY format. Provide format or specify infer_datetime_format=True for consistent parsing.\n",
      "  df[\"invoice_date\"]=pd.to_datetime(df[\"invoice_date\"])\n",
      "C:\\Users\\Olegi Megi\\AppData\\Local\\Temp\\ipykernel_7784\\3308698453.py:1: UserWarning: Parsing '25/10/2022' in DD/MM/YYYY format. Provide format or specify infer_datetime_format=True for consistent parsing.\n",
      "  df[\"invoice_date\"]=pd.to_datetime(df[\"invoice_date\"])\n",
      "C:\\Users\\Olegi Megi\\AppData\\Local\\Temp\\ipykernel_7784\\3308698453.py:1: UserWarning: Parsing '17/06/2022' in DD/MM/YYYY format. Provide format or specify infer_datetime_format=True for consistent parsing.\n",
      "  df[\"invoice_date\"]=pd.to_datetime(df[\"invoice_date\"])\n",
      "C:\\Users\\Olegi Megi\\AppData\\Local\\Temp\\ipykernel_7784\\3308698453.py:1: UserWarning: Parsing '29/04/2022' in DD/MM/YYYY format. Provide format or specify infer_datetime_format=True for consistent parsing.\n",
      "  df[\"invoice_date\"]=pd.to_datetime(df[\"invoice_date\"])\n",
      "C:\\Users\\Olegi Megi\\AppData\\Local\\Temp\\ipykernel_7784\\3308698453.py:1: UserWarning: Parsing '29/05/2022' in DD/MM/YYYY format. Provide format or specify infer_datetime_format=True for consistent parsing.\n",
      "  df[\"invoice_date\"]=pd.to_datetime(df[\"invoice_date\"])\n",
      "C:\\Users\\Olegi Megi\\AppData\\Local\\Temp\\ipykernel_7784\\3308698453.py:1: UserWarning: Parsing '16/11/2022' in DD/MM/YYYY format. Provide format or specify infer_datetime_format=True for consistent parsing.\n",
      "  df[\"invoice_date\"]=pd.to_datetime(df[\"invoice_date\"])\n",
      "C:\\Users\\Olegi Megi\\AppData\\Local\\Temp\\ipykernel_7784\\3308698453.py:1: UserWarning: Parsing '17/08/2022' in DD/MM/YYYY format. Provide format or specify infer_datetime_format=True for consistent parsing.\n",
      "  df[\"invoice_date\"]=pd.to_datetime(df[\"invoice_date\"])\n",
      "C:\\Users\\Olegi Megi\\AppData\\Local\\Temp\\ipykernel_7784\\3308698453.py:1: UserWarning: Parsing '20/01/2021' in DD/MM/YYYY format. Provide format or specify infer_datetime_format=True for consistent parsing.\n",
      "  df[\"invoice_date\"]=pd.to_datetime(df[\"invoice_date\"])\n",
      "C:\\Users\\Olegi Megi\\AppData\\Local\\Temp\\ipykernel_7784\\3308698453.py:1: UserWarning: Parsing '30/01/2023' in DD/MM/YYYY format. Provide format or specify infer_datetime_format=True for consistent parsing.\n",
      "  df[\"invoice_date\"]=pd.to_datetime(df[\"invoice_date\"])\n",
      "C:\\Users\\Olegi Megi\\AppData\\Local\\Temp\\ipykernel_7784\\3308698453.py:1: UserWarning: Parsing '25/02/2021' in DD/MM/YYYY format. Provide format or specify infer_datetime_format=True for consistent parsing.\n",
      "  df[\"invoice_date\"]=pd.to_datetime(df[\"invoice_date\"])\n",
      "C:\\Users\\Olegi Megi\\AppData\\Local\\Temp\\ipykernel_7784\\3308698453.py:1: UserWarning: Parsing '16/07/2022' in DD/MM/YYYY format. Provide format or specify infer_datetime_format=True for consistent parsing.\n",
      "  df[\"invoice_date\"]=pd.to_datetime(df[\"invoice_date\"])\n",
      "C:\\Users\\Olegi Megi\\AppData\\Local\\Temp\\ipykernel_7784\\3308698453.py:1: UserWarning: Parsing '18/01/2022' in DD/MM/YYYY format. Provide format or specify infer_datetime_format=True for consistent parsing.\n",
      "  df[\"invoice_date\"]=pd.to_datetime(df[\"invoice_date\"])\n",
      "C:\\Users\\Olegi Megi\\AppData\\Local\\Temp\\ipykernel_7784\\3308698453.py:1: UserWarning: Parsing '15/07/2021' in DD/MM/YYYY format. Provide format or specify infer_datetime_format=True for consistent parsing.\n",
      "  df[\"invoice_date\"]=pd.to_datetime(df[\"invoice_date\"])\n",
      "C:\\Users\\Olegi Megi\\AppData\\Local\\Temp\\ipykernel_7784\\3308698453.py:1: UserWarning: Parsing '22/09/2021' in DD/MM/YYYY format. Provide format or specify infer_datetime_format=True for consistent parsing.\n",
      "  df[\"invoice_date\"]=pd.to_datetime(df[\"invoice_date\"])\n",
      "C:\\Users\\Olegi Megi\\AppData\\Local\\Temp\\ipykernel_7784\\3308698453.py:1: UserWarning: Parsing '28/08/2022' in DD/MM/YYYY format. Provide format or specify infer_datetime_format=True for consistent parsing.\n",
      "  df[\"invoice_date\"]=pd.to_datetime(df[\"invoice_date\"])\n",
      "C:\\Users\\Olegi Megi\\AppData\\Local\\Temp\\ipykernel_7784\\3308698453.py:1: UserWarning: Parsing '30/12/2022' in DD/MM/YYYY format. Provide format or specify infer_datetime_format=True for consistent parsing.\n",
      "  df[\"invoice_date\"]=pd.to_datetime(df[\"invoice_date\"])\n",
      "C:\\Users\\Olegi Megi\\AppData\\Local\\Temp\\ipykernel_7784\\3308698453.py:1: UserWarning: Parsing '28/02/2022' in DD/MM/YYYY format. Provide format or specify infer_datetime_format=True for consistent parsing.\n",
      "  df[\"invoice_date\"]=pd.to_datetime(df[\"invoice_date\"])\n",
      "C:\\Users\\Olegi Megi\\AppData\\Local\\Temp\\ipykernel_7784\\3308698453.py:1: UserWarning: Parsing '29/11/2022' in DD/MM/YYYY format. Provide format or specify infer_datetime_format=True for consistent parsing.\n",
      "  df[\"invoice_date\"]=pd.to_datetime(df[\"invoice_date\"])\n",
      "C:\\Users\\Olegi Megi\\AppData\\Local\\Temp\\ipykernel_7784\\3308698453.py:1: UserWarning: Parsing '27/08/2022' in DD/MM/YYYY format. Provide format or specify infer_datetime_format=True for consistent parsing.\n",
      "  df[\"invoice_date\"]=pd.to_datetime(df[\"invoice_date\"])\n",
      "C:\\Users\\Olegi Megi\\AppData\\Local\\Temp\\ipykernel_7784\\3308698453.py:1: UserWarning: Parsing '27/12/2021' in DD/MM/YYYY format. Provide format or specify infer_datetime_format=True for consistent parsing.\n",
      "  df[\"invoice_date\"]=pd.to_datetime(df[\"invoice_date\"])\n",
      "C:\\Users\\Olegi Megi\\AppData\\Local\\Temp\\ipykernel_7784\\3308698453.py:1: UserWarning: Parsing '25/11/2021' in DD/MM/YYYY format. Provide format or specify infer_datetime_format=True for consistent parsing.\n",
      "  df[\"invoice_date\"]=pd.to_datetime(df[\"invoice_date\"])\n",
      "C:\\Users\\Olegi Megi\\AppData\\Local\\Temp\\ipykernel_7784\\3308698453.py:1: UserWarning: Parsing '15/03/2021' in DD/MM/YYYY format. Provide format or specify infer_datetime_format=True for consistent parsing.\n",
      "  df[\"invoice_date\"]=pd.to_datetime(df[\"invoice_date\"])\n",
      "C:\\Users\\Olegi Megi\\AppData\\Local\\Temp\\ipykernel_7784\\3308698453.py:1: UserWarning: Parsing '19/08/2022' in DD/MM/YYYY format. Provide format or specify infer_datetime_format=True for consistent parsing.\n",
      "  df[\"invoice_date\"]=pd.to_datetime(df[\"invoice_date\"])\n",
      "C:\\Users\\Olegi Megi\\AppData\\Local\\Temp\\ipykernel_7784\\3308698453.py:1: UserWarning: Parsing '14/06/2021' in DD/MM/YYYY format. Provide format or specify infer_datetime_format=True for consistent parsing.\n",
      "  df[\"invoice_date\"]=pd.to_datetime(df[\"invoice_date\"])\n",
      "C:\\Users\\Olegi Megi\\AppData\\Local\\Temp\\ipykernel_7784\\3308698453.py:1: UserWarning: Parsing '14/07/2022' in DD/MM/YYYY format. Provide format or specify infer_datetime_format=True for consistent parsing.\n",
      "  df[\"invoice_date\"]=pd.to_datetime(df[\"invoice_date\"])\n",
      "C:\\Users\\Olegi Megi\\AppData\\Local\\Temp\\ipykernel_7784\\3308698453.py:1: UserWarning: Parsing '28/07/2021' in DD/MM/YYYY format. Provide format or specify infer_datetime_format=True for consistent parsing.\n",
      "  df[\"invoice_date\"]=pd.to_datetime(df[\"invoice_date\"])\n",
      "C:\\Users\\Olegi Megi\\AppData\\Local\\Temp\\ipykernel_7784\\3308698453.py:1: UserWarning: Parsing '27/09/2021' in DD/MM/YYYY format. Provide format or specify infer_datetime_format=True for consistent parsing.\n",
      "  df[\"invoice_date\"]=pd.to_datetime(df[\"invoice_date\"])\n",
      "C:\\Users\\Olegi Megi\\AppData\\Local\\Temp\\ipykernel_7784\\3308698453.py:1: UserWarning: Parsing '30/07/2021' in DD/MM/YYYY format. Provide format or specify infer_datetime_format=True for consistent parsing.\n",
      "  df[\"invoice_date\"]=pd.to_datetime(df[\"invoice_date\"])\n",
      "C:\\Users\\Olegi Megi\\AppData\\Local\\Temp\\ipykernel_7784\\3308698453.py:1: UserWarning: Parsing '18/04/2021' in DD/MM/YYYY format. Provide format or specify infer_datetime_format=True for consistent parsing.\n",
      "  df[\"invoice_date\"]=pd.to_datetime(df[\"invoice_date\"])\n",
      "C:\\Users\\Olegi Megi\\AppData\\Local\\Temp\\ipykernel_7784\\3308698453.py:1: UserWarning: Parsing '18/08/2022' in DD/MM/YYYY format. Provide format or specify infer_datetime_format=True for consistent parsing.\n",
      "  df[\"invoice_date\"]=pd.to_datetime(df[\"invoice_date\"])\n",
      "C:\\Users\\Olegi Megi\\AppData\\Local\\Temp\\ipykernel_7784\\3308698453.py:1: UserWarning: Parsing '27/07/2021' in DD/MM/YYYY format. Provide format or specify infer_datetime_format=True for consistent parsing.\n",
      "  df[\"invoice_date\"]=pd.to_datetime(df[\"invoice_date\"])\n",
      "C:\\Users\\Olegi Megi\\AppData\\Local\\Temp\\ipykernel_7784\\3308698453.py:1: UserWarning: Parsing '20/09/2021' in DD/MM/YYYY format. Provide format or specify infer_datetime_format=True for consistent parsing.\n",
      "  df[\"invoice_date\"]=pd.to_datetime(df[\"invoice_date\"])\n",
      "C:\\Users\\Olegi Megi\\AppData\\Local\\Temp\\ipykernel_7784\\3308698453.py:1: UserWarning: Parsing '23/01/2023' in DD/MM/YYYY format. Provide format or specify infer_datetime_format=True for consistent parsing.\n",
      "  df[\"invoice_date\"]=pd.to_datetime(df[\"invoice_date\"])\n",
      "C:\\Users\\Olegi Megi\\AppData\\Local\\Temp\\ipykernel_7784\\3308698453.py:1: UserWarning: Parsing '26/06/2021' in DD/MM/YYYY format. Provide format or specify infer_datetime_format=True for consistent parsing.\n",
      "  df[\"invoice_date\"]=pd.to_datetime(df[\"invoice_date\"])\n",
      "C:\\Users\\Olegi Megi\\AppData\\Local\\Temp\\ipykernel_7784\\3308698453.py:1: UserWarning: Parsing '24/09/2021' in DD/MM/YYYY format. Provide format or specify infer_datetime_format=True for consistent parsing.\n",
      "  df[\"invoice_date\"]=pd.to_datetime(df[\"invoice_date\"])\n",
      "C:\\Users\\Olegi Megi\\AppData\\Local\\Temp\\ipykernel_7784\\3308698453.py:1: UserWarning: Parsing '13/09/2022' in DD/MM/YYYY format. Provide format or specify infer_datetime_format=True for consistent parsing.\n",
      "  df[\"invoice_date\"]=pd.to_datetime(df[\"invoice_date\"])\n",
      "C:\\Users\\Olegi Megi\\AppData\\Local\\Temp\\ipykernel_7784\\3308698453.py:1: UserWarning: Parsing '30/10/2022' in DD/MM/YYYY format. Provide format or specify infer_datetime_format=True for consistent parsing.\n",
      "  df[\"invoice_date\"]=pd.to_datetime(df[\"invoice_date\"])\n",
      "C:\\Users\\Olegi Megi\\AppData\\Local\\Temp\\ipykernel_7784\\3308698453.py:1: UserWarning: Parsing '29/01/2023' in DD/MM/YYYY format. Provide format or specify infer_datetime_format=True for consistent parsing.\n",
      "  df[\"invoice_date\"]=pd.to_datetime(df[\"invoice_date\"])\n",
      "C:\\Users\\Olegi Megi\\AppData\\Local\\Temp\\ipykernel_7784\\3308698453.py:1: UserWarning: Parsing '26/04/2022' in DD/MM/YYYY format. Provide format or specify infer_datetime_format=True for consistent parsing.\n",
      "  df[\"invoice_date\"]=pd.to_datetime(df[\"invoice_date\"])\n",
      "C:\\Users\\Olegi Megi\\AppData\\Local\\Temp\\ipykernel_7784\\3308698453.py:1: UserWarning: Parsing '20/12/2022' in DD/MM/YYYY format. Provide format or specify infer_datetime_format=True for consistent parsing.\n",
      "  df[\"invoice_date\"]=pd.to_datetime(df[\"invoice_date\"])\n",
      "C:\\Users\\Olegi Megi\\AppData\\Local\\Temp\\ipykernel_7784\\3308698453.py:1: UserWarning: Parsing '15/09/2022' in DD/MM/YYYY format. Provide format or specify infer_datetime_format=True for consistent parsing.\n",
      "  df[\"invoice_date\"]=pd.to_datetime(df[\"invoice_date\"])\n",
      "C:\\Users\\Olegi Megi\\AppData\\Local\\Temp\\ipykernel_7784\\3308698453.py:1: UserWarning: Parsing '16/09/2022' in DD/MM/YYYY format. Provide format or specify infer_datetime_format=True for consistent parsing.\n",
      "  df[\"invoice_date\"]=pd.to_datetime(df[\"invoice_date\"])\n",
      "C:\\Users\\Olegi Megi\\AppData\\Local\\Temp\\ipykernel_7784\\3308698453.py:1: UserWarning: Parsing '28/04/2021' in DD/MM/YYYY format. Provide format or specify infer_datetime_format=True for consistent parsing.\n",
      "  df[\"invoice_date\"]=pd.to_datetime(df[\"invoice_date\"])\n",
      "C:\\Users\\Olegi Megi\\AppData\\Local\\Temp\\ipykernel_7784\\3308698453.py:1: UserWarning: Parsing '23/04/2021' in DD/MM/YYYY format. Provide format or specify infer_datetime_format=True for consistent parsing.\n",
      "  df[\"invoice_date\"]=pd.to_datetime(df[\"invoice_date\"])\n",
      "C:\\Users\\Olegi Megi\\AppData\\Local\\Temp\\ipykernel_7784\\3308698453.py:1: UserWarning: Parsing '13/07/2021' in DD/MM/YYYY format. Provide format or specify infer_datetime_format=True for consistent parsing.\n",
      "  df[\"invoice_date\"]=pd.to_datetime(df[\"invoice_date\"])\n",
      "C:\\Users\\Olegi Megi\\AppData\\Local\\Temp\\ipykernel_7784\\3308698453.py:1: UserWarning: Parsing '13/10/2021' in DD/MM/YYYY format. Provide format or specify infer_datetime_format=True for consistent parsing.\n",
      "  df[\"invoice_date\"]=pd.to_datetime(df[\"invoice_date\"])\n",
      "C:\\Users\\Olegi Megi\\AppData\\Local\\Temp\\ipykernel_7784\\3308698453.py:1: UserWarning: Parsing '28/02/2023' in DD/MM/YYYY format. Provide format or specify infer_datetime_format=True for consistent parsing.\n",
      "  df[\"invoice_date\"]=pd.to_datetime(df[\"invoice_date\"])\n",
      "C:\\Users\\Olegi Megi\\AppData\\Local\\Temp\\ipykernel_7784\\3308698453.py:1: UserWarning: Parsing '13/12/2021' in DD/MM/YYYY format. Provide format or specify infer_datetime_format=True for consistent parsing.\n",
      "  df[\"invoice_date\"]=pd.to_datetime(df[\"invoice_date\"])\n",
      "C:\\Users\\Olegi Megi\\AppData\\Local\\Temp\\ipykernel_7784\\3308698453.py:1: UserWarning: Parsing '14/03/2022' in DD/MM/YYYY format. Provide format or specify infer_datetime_format=True for consistent parsing.\n",
      "  df[\"invoice_date\"]=pd.to_datetime(df[\"invoice_date\"])\n",
      "C:\\Users\\Olegi Megi\\AppData\\Local\\Temp\\ipykernel_7784\\3308698453.py:1: UserWarning: Parsing '26/09/2021' in DD/MM/YYYY format. Provide format or specify infer_datetime_format=True for consistent parsing.\n",
      "  df[\"invoice_date\"]=pd.to_datetime(df[\"invoice_date\"])\n",
      "C:\\Users\\Olegi Megi\\AppData\\Local\\Temp\\ipykernel_7784\\3308698453.py:1: UserWarning: Parsing '25/08/2021' in DD/MM/YYYY format. Provide format or specify infer_datetime_format=True for consistent parsing.\n",
      "  df[\"invoice_date\"]=pd.to_datetime(df[\"invoice_date\"])\n",
      "C:\\Users\\Olegi Megi\\AppData\\Local\\Temp\\ipykernel_7784\\3308698453.py:1: UserWarning: Parsing '22/03/2022' in DD/MM/YYYY format. Provide format or specify infer_datetime_format=True for consistent parsing.\n",
      "  df[\"invoice_date\"]=pd.to_datetime(df[\"invoice_date\"])\n",
      "C:\\Users\\Olegi Megi\\AppData\\Local\\Temp\\ipykernel_7784\\3308698453.py:1: UserWarning: Parsing '13/05/2022' in DD/MM/YYYY format. Provide format or specify infer_datetime_format=True for consistent parsing.\n",
      "  df[\"invoice_date\"]=pd.to_datetime(df[\"invoice_date\"])\n",
      "C:\\Users\\Olegi Megi\\AppData\\Local\\Temp\\ipykernel_7784\\3308698453.py:1: UserWarning: Parsing '29/10/2021' in DD/MM/YYYY format. Provide format or specify infer_datetime_format=True for consistent parsing.\n",
      "  df[\"invoice_date\"]=pd.to_datetime(df[\"invoice_date\"])\n",
      "C:\\Users\\Olegi Megi\\AppData\\Local\\Temp\\ipykernel_7784\\3308698453.py:1: UserWarning: Parsing '27/10/2021' in DD/MM/YYYY format. Provide format or specify infer_datetime_format=True for consistent parsing.\n",
      "  df[\"invoice_date\"]=pd.to_datetime(df[\"invoice_date\"])\n",
      "C:\\Users\\Olegi Megi\\AppData\\Local\\Temp\\ipykernel_7784\\3308698453.py:1: UserWarning: Parsing '17/03/2021' in DD/MM/YYYY format. Provide format or specify infer_datetime_format=True for consistent parsing.\n",
      "  df[\"invoice_date\"]=pd.to_datetime(df[\"invoice_date\"])\n",
      "C:\\Users\\Olegi Megi\\AppData\\Local\\Temp\\ipykernel_7784\\3308698453.py:1: UserWarning: Parsing '31/03/2021' in DD/MM/YYYY format. Provide format or specify infer_datetime_format=True for consistent parsing.\n",
      "  df[\"invoice_date\"]=pd.to_datetime(df[\"invoice_date\"])\n",
      "C:\\Users\\Olegi Megi\\AppData\\Local\\Temp\\ipykernel_7784\\3308698453.py:1: UserWarning: Parsing '30/03/2022' in DD/MM/YYYY format. Provide format or specify infer_datetime_format=True for consistent parsing.\n",
      "  df[\"invoice_date\"]=pd.to_datetime(df[\"invoice_date\"])\n",
      "C:\\Users\\Olegi Megi\\AppData\\Local\\Temp\\ipykernel_7784\\3308698453.py:1: UserWarning: Parsing '28/09/2021' in DD/MM/YYYY format. Provide format or specify infer_datetime_format=True for consistent parsing.\n",
      "  df[\"invoice_date\"]=pd.to_datetime(df[\"invoice_date\"])\n",
      "C:\\Users\\Olegi Megi\\AppData\\Local\\Temp\\ipykernel_7784\\3308698453.py:1: UserWarning: Parsing '31/03/2022' in DD/MM/YYYY format. Provide format or specify infer_datetime_format=True for consistent parsing.\n",
      "  df[\"invoice_date\"]=pd.to_datetime(df[\"invoice_date\"])\n",
      "C:\\Users\\Olegi Megi\\AppData\\Local\\Temp\\ipykernel_7784\\3308698453.py:1: UserWarning: Parsing '24/01/2021' in DD/MM/YYYY format. Provide format or specify infer_datetime_format=True for consistent parsing.\n",
      "  df[\"invoice_date\"]=pd.to_datetime(df[\"invoice_date\"])\n",
      "C:\\Users\\Olegi Megi\\AppData\\Local\\Temp\\ipykernel_7784\\3308698453.py:1: UserWarning: Parsing '16/05/2022' in DD/MM/YYYY format. Provide format or specify infer_datetime_format=True for consistent parsing.\n",
      "  df[\"invoice_date\"]=pd.to_datetime(df[\"invoice_date\"])\n",
      "C:\\Users\\Olegi Megi\\AppData\\Local\\Temp\\ipykernel_7784\\3308698453.py:1: UserWarning: Parsing '27/08/2021' in DD/MM/YYYY format. Provide format or specify infer_datetime_format=True for consistent parsing.\n",
      "  df[\"invoice_date\"]=pd.to_datetime(df[\"invoice_date\"])\n",
      "C:\\Users\\Olegi Megi\\AppData\\Local\\Temp\\ipykernel_7784\\3308698453.py:1: UserWarning: Parsing '17/01/2022' in DD/MM/YYYY format. Provide format or specify infer_datetime_format=True for consistent parsing.\n",
      "  df[\"invoice_date\"]=pd.to_datetime(df[\"invoice_date\"])\n",
      "C:\\Users\\Olegi Megi\\AppData\\Local\\Temp\\ipykernel_7784\\3308698453.py:1: UserWarning: Parsing '20/04/2021' in DD/MM/YYYY format. Provide format or specify infer_datetime_format=True for consistent parsing.\n",
      "  df[\"invoice_date\"]=pd.to_datetime(df[\"invoice_date\"])\n",
      "C:\\Users\\Olegi Megi\\AppData\\Local\\Temp\\ipykernel_7784\\3308698453.py:1: UserWarning: Parsing '25/02/2022' in DD/MM/YYYY format. Provide format or specify infer_datetime_format=True for consistent parsing.\n",
      "  df[\"invoice_date\"]=pd.to_datetime(df[\"invoice_date\"])\n",
      "C:\\Users\\Olegi Megi\\AppData\\Local\\Temp\\ipykernel_7784\\3308698453.py:1: UserWarning: Parsing '13/11/2021' in DD/MM/YYYY format. Provide format or specify infer_datetime_format=True for consistent parsing.\n",
      "  df[\"invoice_date\"]=pd.to_datetime(df[\"invoice_date\"])\n",
      "C:\\Users\\Olegi Megi\\AppData\\Local\\Temp\\ipykernel_7784\\3308698453.py:1: UserWarning: Parsing '27/03/2022' in DD/MM/YYYY format. Provide format or specify infer_datetime_format=True for consistent parsing.\n",
      "  df[\"invoice_date\"]=pd.to_datetime(df[\"invoice_date\"])\n",
      "C:\\Users\\Olegi Megi\\AppData\\Local\\Temp\\ipykernel_7784\\3308698453.py:1: UserWarning: Parsing '30/05/2022' in DD/MM/YYYY format. Provide format or specify infer_datetime_format=True for consistent parsing.\n",
      "  df[\"invoice_date\"]=pd.to_datetime(df[\"invoice_date\"])\n",
      "C:\\Users\\Olegi Megi\\AppData\\Local\\Temp\\ipykernel_7784\\3308698453.py:1: UserWarning: Parsing '21/10/2022' in DD/MM/YYYY format. Provide format or specify infer_datetime_format=True for consistent parsing.\n",
      "  df[\"invoice_date\"]=pd.to_datetime(df[\"invoice_date\"])\n",
      "C:\\Users\\Olegi Megi\\AppData\\Local\\Temp\\ipykernel_7784\\3308698453.py:1: UserWarning: Parsing '23/11/2021' in DD/MM/YYYY format. Provide format or specify infer_datetime_format=True for consistent parsing.\n",
      "  df[\"invoice_date\"]=pd.to_datetime(df[\"invoice_date\"])\n",
      "C:\\Users\\Olegi Megi\\AppData\\Local\\Temp\\ipykernel_7784\\3308698453.py:1: UserWarning: Parsing '15/01/2022' in DD/MM/YYYY format. Provide format or specify infer_datetime_format=True for consistent parsing.\n",
      "  df[\"invoice_date\"]=pd.to_datetime(df[\"invoice_date\"])\n",
      "C:\\Users\\Olegi Megi\\AppData\\Local\\Temp\\ipykernel_7784\\3308698453.py:1: UserWarning: Parsing '14/04/2022' in DD/MM/YYYY format. Provide format or specify infer_datetime_format=True for consistent parsing.\n",
      "  df[\"invoice_date\"]=pd.to_datetime(df[\"invoice_date\"])\n",
      "C:\\Users\\Olegi Megi\\AppData\\Local\\Temp\\ipykernel_7784\\3308698453.py:1: UserWarning: Parsing '22/04/2022' in DD/MM/YYYY format. Provide format or specify infer_datetime_format=True for consistent parsing.\n",
      "  df[\"invoice_date\"]=pd.to_datetime(df[\"invoice_date\"])\n",
      "C:\\Users\\Olegi Megi\\AppData\\Local\\Temp\\ipykernel_7784\\3308698453.py:1: UserWarning: Parsing '31/05/2022' in DD/MM/YYYY format. Provide format or specify infer_datetime_format=True for consistent parsing.\n",
      "  df[\"invoice_date\"]=pd.to_datetime(df[\"invoice_date\"])\n",
      "C:\\Users\\Olegi Megi\\AppData\\Local\\Temp\\ipykernel_7784\\3308698453.py:1: UserWarning: Parsing '23/01/2021' in DD/MM/YYYY format. Provide format or specify infer_datetime_format=True for consistent parsing.\n",
      "  df[\"invoice_date\"]=pd.to_datetime(df[\"invoice_date\"])\n",
      "C:\\Users\\Olegi Megi\\AppData\\Local\\Temp\\ipykernel_7784\\3308698453.py:1: UserWarning: Parsing '17/02/2022' in DD/MM/YYYY format. Provide format or specify infer_datetime_format=True for consistent parsing.\n",
      "  df[\"invoice_date\"]=pd.to_datetime(df[\"invoice_date\"])\n",
      "C:\\Users\\Olegi Megi\\AppData\\Local\\Temp\\ipykernel_7784\\3308698453.py:1: UserWarning: Parsing '29/11/2021' in DD/MM/YYYY format. Provide format or specify infer_datetime_format=True for consistent parsing.\n",
      "  df[\"invoice_date\"]=pd.to_datetime(df[\"invoice_date\"])\n",
      "C:\\Users\\Olegi Megi\\AppData\\Local\\Temp\\ipykernel_7784\\3308698453.py:1: UserWarning: Parsing '25/02/2023' in DD/MM/YYYY format. Provide format or specify infer_datetime_format=True for consistent parsing.\n",
      "  df[\"invoice_date\"]=pd.to_datetime(df[\"invoice_date\"])\n",
      "C:\\Users\\Olegi Megi\\AppData\\Local\\Temp\\ipykernel_7784\\3308698453.py:1: UserWarning: Parsing '16/01/2023' in DD/MM/YYYY format. Provide format or specify infer_datetime_format=True for consistent parsing.\n",
      "  df[\"invoice_date\"]=pd.to_datetime(df[\"invoice_date\"])\n",
      "C:\\Users\\Olegi Megi\\AppData\\Local\\Temp\\ipykernel_7784\\3308698453.py:1: UserWarning: Parsing '26/11/2022' in DD/MM/YYYY format. Provide format or specify infer_datetime_format=True for consistent parsing.\n",
      "  df[\"invoice_date\"]=pd.to_datetime(df[\"invoice_date\"])\n",
      "C:\\Users\\Olegi Megi\\AppData\\Local\\Temp\\ipykernel_7784\\3308698453.py:1: UserWarning: Parsing '26/05/2021' in DD/MM/YYYY format. Provide format or specify infer_datetime_format=True for consistent parsing.\n",
      "  df[\"invoice_date\"]=pd.to_datetime(df[\"invoice_date\"])\n",
      "C:\\Users\\Olegi Megi\\AppData\\Local\\Temp\\ipykernel_7784\\3308698453.py:1: UserWarning: Parsing '16/03/2021' in DD/MM/YYYY format. Provide format or specify infer_datetime_format=True for consistent parsing.\n",
      "  df[\"invoice_date\"]=pd.to_datetime(df[\"invoice_date\"])\n",
      "C:\\Users\\Olegi Megi\\AppData\\Local\\Temp\\ipykernel_7784\\3308698453.py:1: UserWarning: Parsing '25/04/2022' in DD/MM/YYYY format. Provide format or specify infer_datetime_format=True for consistent parsing.\n",
      "  df[\"invoice_date\"]=pd.to_datetime(df[\"invoice_date\"])\n",
      "C:\\Users\\Olegi Megi\\AppData\\Local\\Temp\\ipykernel_7784\\3308698453.py:1: UserWarning: Parsing '13/10/2022' in DD/MM/YYYY format. Provide format or specify infer_datetime_format=True for consistent parsing.\n",
      "  df[\"invoice_date\"]=pd.to_datetime(df[\"invoice_date\"])\n",
      "C:\\Users\\Olegi Megi\\AppData\\Local\\Temp\\ipykernel_7784\\3308698453.py:1: UserWarning: Parsing '14/12/2022' in DD/MM/YYYY format. Provide format or specify infer_datetime_format=True for consistent parsing.\n",
      "  df[\"invoice_date\"]=pd.to_datetime(df[\"invoice_date\"])\n",
      "C:\\Users\\Olegi Megi\\AppData\\Local\\Temp\\ipykernel_7784\\3308698453.py:1: UserWarning: Parsing '17/02/2021' in DD/MM/YYYY format. Provide format or specify infer_datetime_format=True for consistent parsing.\n",
      "  df[\"invoice_date\"]=pd.to_datetime(df[\"invoice_date\"])\n",
      "C:\\Users\\Olegi Megi\\AppData\\Local\\Temp\\ipykernel_7784\\3308698453.py:1: UserWarning: Parsing '15/06/2021' in DD/MM/YYYY format. Provide format or specify infer_datetime_format=True for consistent parsing.\n",
      "  df[\"invoice_date\"]=pd.to_datetime(df[\"invoice_date\"])\n",
      "C:\\Users\\Olegi Megi\\AppData\\Local\\Temp\\ipykernel_7784\\3308698453.py:1: UserWarning: Parsing '21/02/2023' in DD/MM/YYYY format. Provide format or specify infer_datetime_format=True for consistent parsing.\n",
      "  df[\"invoice_date\"]=pd.to_datetime(df[\"invoice_date\"])\n",
      "C:\\Users\\Olegi Megi\\AppData\\Local\\Temp\\ipykernel_7784\\3308698453.py:1: UserWarning: Parsing '22/10/2022' in DD/MM/YYYY format. Provide format or specify infer_datetime_format=True for consistent parsing.\n",
      "  df[\"invoice_date\"]=pd.to_datetime(df[\"invoice_date\"])\n",
      "C:\\Users\\Olegi Megi\\AppData\\Local\\Temp\\ipykernel_7784\\3308698453.py:1: UserWarning: Parsing '27/02/2021' in DD/MM/YYYY format. Provide format or specify infer_datetime_format=True for consistent parsing.\n",
      "  df[\"invoice_date\"]=pd.to_datetime(df[\"invoice_date\"])\n",
      "C:\\Users\\Olegi Megi\\AppData\\Local\\Temp\\ipykernel_7784\\3308698453.py:1: UserWarning: Parsing '28/02/2021' in DD/MM/YYYY format. Provide format or specify infer_datetime_format=True for consistent parsing.\n",
      "  df[\"invoice_date\"]=pd.to_datetime(df[\"invoice_date\"])\n",
      "C:\\Users\\Olegi Megi\\AppData\\Local\\Temp\\ipykernel_7784\\3308698453.py:1: UserWarning: Parsing '27/01/2023' in DD/MM/YYYY format. Provide format or specify infer_datetime_format=True for consistent parsing.\n",
      "  df[\"invoice_date\"]=pd.to_datetime(df[\"invoice_date\"])\n",
      "C:\\Users\\Olegi Megi\\AppData\\Local\\Temp\\ipykernel_7784\\3308698453.py:1: UserWarning: Parsing '21/01/2021' in DD/MM/YYYY format. Provide format or specify infer_datetime_format=True for consistent parsing.\n",
      "  df[\"invoice_date\"]=pd.to_datetime(df[\"invoice_date\"])\n",
      "C:\\Users\\Olegi Megi\\AppData\\Local\\Temp\\ipykernel_7784\\3308698453.py:1: UserWarning: Parsing '22/05/2022' in DD/MM/YYYY format. Provide format or specify infer_datetime_format=True for consistent parsing.\n",
      "  df[\"invoice_date\"]=pd.to_datetime(df[\"invoice_date\"])\n",
      "C:\\Users\\Olegi Megi\\AppData\\Local\\Temp\\ipykernel_7784\\3308698453.py:1: UserWarning: Parsing '30/07/2022' in DD/MM/YYYY format. Provide format or specify infer_datetime_format=True for consistent parsing.\n",
      "  df[\"invoice_date\"]=pd.to_datetime(df[\"invoice_date\"])\n",
      "C:\\Users\\Olegi Megi\\AppData\\Local\\Temp\\ipykernel_7784\\3308698453.py:1: UserWarning: Parsing '19/05/2021' in DD/MM/YYYY format. Provide format or specify infer_datetime_format=True for consistent parsing.\n",
      "  df[\"invoice_date\"]=pd.to_datetime(df[\"invoice_date\"])\n",
      "C:\\Users\\Olegi Megi\\AppData\\Local\\Temp\\ipykernel_7784\\3308698453.py:1: UserWarning: Parsing '17/06/2021' in DD/MM/YYYY format. Provide format or specify infer_datetime_format=True for consistent parsing.\n",
      "  df[\"invoice_date\"]=pd.to_datetime(df[\"invoice_date\"])\n",
      "C:\\Users\\Olegi Megi\\AppData\\Local\\Temp\\ipykernel_7784\\3308698453.py:1: UserWarning: Parsing '19/03/2021' in DD/MM/YYYY format. Provide format or specify infer_datetime_format=True for consistent parsing.\n",
      "  df[\"invoice_date\"]=pd.to_datetime(df[\"invoice_date\"])\n",
      "C:\\Users\\Olegi Megi\\AppData\\Local\\Temp\\ipykernel_7784\\3308698453.py:1: UserWarning: Parsing '14/05/2022' in DD/MM/YYYY format. Provide format or specify infer_datetime_format=True for consistent parsing.\n",
      "  df[\"invoice_date\"]=pd.to_datetime(df[\"invoice_date\"])\n",
      "C:\\Users\\Olegi Megi\\AppData\\Local\\Temp\\ipykernel_7784\\3308698453.py:1: UserWarning: Parsing '17/08/2021' in DD/MM/YYYY format. Provide format or specify infer_datetime_format=True for consistent parsing.\n",
      "  df[\"invoice_date\"]=pd.to_datetime(df[\"invoice_date\"])\n",
      "C:\\Users\\Olegi Megi\\AppData\\Local\\Temp\\ipykernel_7784\\3308698453.py:1: UserWarning: Parsing '20/08/2021' in DD/MM/YYYY format. Provide format or specify infer_datetime_format=True for consistent parsing.\n",
      "  df[\"invoice_date\"]=pd.to_datetime(df[\"invoice_date\"])\n",
      "C:\\Users\\Olegi Megi\\AppData\\Local\\Temp\\ipykernel_7784\\3308698453.py:1: UserWarning: Parsing '18/05/2022' in DD/MM/YYYY format. Provide format or specify infer_datetime_format=True for consistent parsing.\n",
      "  df[\"invoice_date\"]=pd.to_datetime(df[\"invoice_date\"])\n",
      "C:\\Users\\Olegi Megi\\AppData\\Local\\Temp\\ipykernel_7784\\3308698453.py:1: UserWarning: Parsing '27/01/2022' in DD/MM/YYYY format. Provide format or specify infer_datetime_format=True for consistent parsing.\n",
      "  df[\"invoice_date\"]=pd.to_datetime(df[\"invoice_date\"])\n",
      "C:\\Users\\Olegi Megi\\AppData\\Local\\Temp\\ipykernel_7784\\3308698453.py:1: UserWarning: Parsing '24/11/2021' in DD/MM/YYYY format. Provide format or specify infer_datetime_format=True for consistent parsing.\n",
      "  df[\"invoice_date\"]=pd.to_datetime(df[\"invoice_date\"])\n",
      "C:\\Users\\Olegi Megi\\AppData\\Local\\Temp\\ipykernel_7784\\3308698453.py:1: UserWarning: Parsing '20/07/2021' in DD/MM/YYYY format. Provide format or specify infer_datetime_format=True for consistent parsing.\n",
      "  df[\"invoice_date\"]=pd.to_datetime(df[\"invoice_date\"])\n",
      "C:\\Users\\Olegi Megi\\AppData\\Local\\Temp\\ipykernel_7784\\3308698453.py:1: UserWarning: Parsing '18/03/2021' in DD/MM/YYYY format. Provide format or specify infer_datetime_format=True for consistent parsing.\n",
      "  df[\"invoice_date\"]=pd.to_datetime(df[\"invoice_date\"])\n",
      "C:\\Users\\Olegi Megi\\AppData\\Local\\Temp\\ipykernel_7784\\3308698453.py:1: UserWarning: Parsing '26/04/2021' in DD/MM/YYYY format. Provide format or specify infer_datetime_format=True for consistent parsing.\n",
      "  df[\"invoice_date\"]=pd.to_datetime(df[\"invoice_date\"])\n",
      "C:\\Users\\Olegi Megi\\AppData\\Local\\Temp\\ipykernel_7784\\3308698453.py:1: UserWarning: Parsing '14/10/2021' in DD/MM/YYYY format. Provide format or specify infer_datetime_format=True for consistent parsing.\n",
      "  df[\"invoice_date\"]=pd.to_datetime(df[\"invoice_date\"])\n",
      "C:\\Users\\Olegi Megi\\AppData\\Local\\Temp\\ipykernel_7784\\3308698453.py:1: UserWarning: Parsing '19/04/2022' in DD/MM/YYYY format. Provide format or specify infer_datetime_format=True for consistent parsing.\n",
      "  df[\"invoice_date\"]=pd.to_datetime(df[\"invoice_date\"])\n",
      "C:\\Users\\Olegi Megi\\AppData\\Local\\Temp\\ipykernel_7784\\3308698453.py:1: UserWarning: Parsing '19/01/2022' in DD/MM/YYYY format. Provide format or specify infer_datetime_format=True for consistent parsing.\n",
      "  df[\"invoice_date\"]=pd.to_datetime(df[\"invoice_date\"])\n",
      "C:\\Users\\Olegi Megi\\AppData\\Local\\Temp\\ipykernel_7784\\3308698453.py:1: UserWarning: Parsing '25/04/2021' in DD/MM/YYYY format. Provide format or specify infer_datetime_format=True for consistent parsing.\n",
      "  df[\"invoice_date\"]=pd.to_datetime(df[\"invoice_date\"])\n",
      "C:\\Users\\Olegi Megi\\AppData\\Local\\Temp\\ipykernel_7784\\3308698453.py:1: UserWarning: Parsing '24/02/2022' in DD/MM/YYYY format. Provide format or specify infer_datetime_format=True for consistent parsing.\n",
      "  df[\"invoice_date\"]=pd.to_datetime(df[\"invoice_date\"])\n",
      "C:\\Users\\Olegi Megi\\AppData\\Local\\Temp\\ipykernel_7784\\3308698453.py:1: UserWarning: Parsing '25/12/2021' in DD/MM/YYYY format. Provide format or specify infer_datetime_format=True for consistent parsing.\n",
      "  df[\"invoice_date\"]=pd.to_datetime(df[\"invoice_date\"])\n",
      "C:\\Users\\Olegi Megi\\AppData\\Local\\Temp\\ipykernel_7784\\3308698453.py:1: UserWarning: Parsing '19/01/2021' in DD/MM/YYYY format. Provide format or specify infer_datetime_format=True for consistent parsing.\n",
      "  df[\"invoice_date\"]=pd.to_datetime(df[\"invoice_date\"])\n",
      "C:\\Users\\Olegi Megi\\AppData\\Local\\Temp\\ipykernel_7784\\3308698453.py:1: UserWarning: Parsing '24/04/2021' in DD/MM/YYYY format. Provide format or specify infer_datetime_format=True for consistent parsing.\n",
      "  df[\"invoice_date\"]=pd.to_datetime(df[\"invoice_date\"])\n",
      "C:\\Users\\Olegi Megi\\AppData\\Local\\Temp\\ipykernel_7784\\3308698453.py:1: UserWarning: Parsing '18/07/2022' in DD/MM/YYYY format. Provide format or specify infer_datetime_format=True for consistent parsing.\n",
      "  df[\"invoice_date\"]=pd.to_datetime(df[\"invoice_date\"])\n",
      "C:\\Users\\Olegi Megi\\AppData\\Local\\Temp\\ipykernel_7784\\3308698453.py:1: UserWarning: Parsing '19/01/2023' in DD/MM/YYYY format. Provide format or specify infer_datetime_format=True for consistent parsing.\n",
      "  df[\"invoice_date\"]=pd.to_datetime(df[\"invoice_date\"])\n",
      "C:\\Users\\Olegi Megi\\AppData\\Local\\Temp\\ipykernel_7784\\3308698453.py:1: UserWarning: Parsing '19/12/2021' in DD/MM/YYYY format. Provide format or specify infer_datetime_format=True for consistent parsing.\n",
      "  df[\"invoice_date\"]=pd.to_datetime(df[\"invoice_date\"])\n",
      "C:\\Users\\Olegi Megi\\AppData\\Local\\Temp\\ipykernel_7784\\3308698453.py:1: UserWarning: Parsing '20/11/2022' in DD/MM/YYYY format. Provide format or specify infer_datetime_format=True for consistent parsing.\n",
      "  df[\"invoice_date\"]=pd.to_datetime(df[\"invoice_date\"])\n",
      "C:\\Users\\Olegi Megi\\AppData\\Local\\Temp\\ipykernel_7784\\3308698453.py:1: UserWarning: Parsing '17/11/2021' in DD/MM/YYYY format. Provide format or specify infer_datetime_format=True for consistent parsing.\n",
      "  df[\"invoice_date\"]=pd.to_datetime(df[\"invoice_date\"])\n",
      "C:\\Users\\Olegi Megi\\AppData\\Local\\Temp\\ipykernel_7784\\3308698453.py:1: UserWarning: Parsing '15/04/2021' in DD/MM/YYYY format. Provide format or specify infer_datetime_format=True for consistent parsing.\n",
      "  df[\"invoice_date\"]=pd.to_datetime(df[\"invoice_date\"])\n",
      "C:\\Users\\Olegi Megi\\AppData\\Local\\Temp\\ipykernel_7784\\3308698453.py:1: UserWarning: Parsing '17/01/2021' in DD/MM/YYYY format. Provide format or specify infer_datetime_format=True for consistent parsing.\n",
      "  df[\"invoice_date\"]=pd.to_datetime(df[\"invoice_date\"])\n",
      "C:\\Users\\Olegi Megi\\AppData\\Local\\Temp\\ipykernel_7784\\3308698453.py:1: UserWarning: Parsing '20/03/2022' in DD/MM/YYYY format. Provide format or specify infer_datetime_format=True for consistent parsing.\n",
      "  df[\"invoice_date\"]=pd.to_datetime(df[\"invoice_date\"])\n",
      "C:\\Users\\Olegi Megi\\AppData\\Local\\Temp\\ipykernel_7784\\3308698453.py:1: UserWarning: Parsing '26/02/2021' in DD/MM/YYYY format. Provide format or specify infer_datetime_format=True for consistent parsing.\n",
      "  df[\"invoice_date\"]=pd.to_datetime(df[\"invoice_date\"])\n",
      "C:\\Users\\Olegi Megi\\AppData\\Local\\Temp\\ipykernel_7784\\3308698453.py:1: UserWarning: Parsing '15/05/2021' in DD/MM/YYYY format. Provide format or specify infer_datetime_format=True for consistent parsing.\n",
      "  df[\"invoice_date\"]=pd.to_datetime(df[\"invoice_date\"])\n",
      "C:\\Users\\Olegi Megi\\AppData\\Local\\Temp\\ipykernel_7784\\3308698453.py:1: UserWarning: Parsing '30/12/2021' in DD/MM/YYYY format. Provide format or specify infer_datetime_format=True for consistent parsing.\n",
      "  df[\"invoice_date\"]=pd.to_datetime(df[\"invoice_date\"])\n",
      "C:\\Users\\Olegi Megi\\AppData\\Local\\Temp\\ipykernel_7784\\3308698453.py:1: UserWarning: Parsing '28/12/2022' in DD/MM/YYYY format. Provide format or specify infer_datetime_format=True for consistent parsing.\n",
      "  df[\"invoice_date\"]=pd.to_datetime(df[\"invoice_date\"])\n",
      "C:\\Users\\Olegi Megi\\AppData\\Local\\Temp\\ipykernel_7784\\3308698453.py:1: UserWarning: Parsing '30/04/2021' in DD/MM/YYYY format. Provide format or specify infer_datetime_format=True for consistent parsing.\n",
      "  df[\"invoice_date\"]=pd.to_datetime(df[\"invoice_date\"])\n",
      "C:\\Users\\Olegi Megi\\AppData\\Local\\Temp\\ipykernel_7784\\3308698453.py:1: UserWarning: Parsing '15/11/2021' in DD/MM/YYYY format. Provide format or specify infer_datetime_format=True for consistent parsing.\n",
      "  df[\"invoice_date\"]=pd.to_datetime(df[\"invoice_date\"])\n",
      "C:\\Users\\Olegi Megi\\AppData\\Local\\Temp\\ipykernel_7784\\3308698453.py:1: UserWarning: Parsing '15/02/2021' in DD/MM/YYYY format. Provide format or specify infer_datetime_format=True for consistent parsing.\n",
      "  df[\"invoice_date\"]=pd.to_datetime(df[\"invoice_date\"])\n",
      "C:\\Users\\Olegi Megi\\AppData\\Local\\Temp\\ipykernel_7784\\3308698453.py:1: UserWarning: Parsing '24/12/2022' in DD/MM/YYYY format. Provide format or specify infer_datetime_format=True for consistent parsing.\n",
      "  df[\"invoice_date\"]=pd.to_datetime(df[\"invoice_date\"])\n",
      "C:\\Users\\Olegi Megi\\AppData\\Local\\Temp\\ipykernel_7784\\3308698453.py:1: UserWarning: Parsing '13/05/2021' in DD/MM/YYYY format. Provide format or specify infer_datetime_format=True for consistent parsing.\n",
      "  df[\"invoice_date\"]=pd.to_datetime(df[\"invoice_date\"])\n",
      "C:\\Users\\Olegi Megi\\AppData\\Local\\Temp\\ipykernel_7784\\3308698453.py:1: UserWarning: Parsing '26/02/2022' in DD/MM/YYYY format. Provide format or specify infer_datetime_format=True for consistent parsing.\n",
      "  df[\"invoice_date\"]=pd.to_datetime(df[\"invoice_date\"])\n",
      "C:\\Users\\Olegi Megi\\AppData\\Local\\Temp\\ipykernel_7784\\3308698453.py:1: UserWarning: Parsing '28/06/2022' in DD/MM/YYYY format. Provide format or specify infer_datetime_format=True for consistent parsing.\n",
      "  df[\"invoice_date\"]=pd.to_datetime(df[\"invoice_date\"])\n",
      "C:\\Users\\Olegi Megi\\AppData\\Local\\Temp\\ipykernel_7784\\3308698453.py:1: UserWarning: Parsing '24/07/2022' in DD/MM/YYYY format. Provide format or specify infer_datetime_format=True for consistent parsing.\n",
      "  df[\"invoice_date\"]=pd.to_datetime(df[\"invoice_date\"])\n",
      "C:\\Users\\Olegi Megi\\AppData\\Local\\Temp\\ipykernel_7784\\3308698453.py:1: UserWarning: Parsing '20/01/2023' in DD/MM/YYYY format. Provide format or specify infer_datetime_format=True for consistent parsing.\n",
      "  df[\"invoice_date\"]=pd.to_datetime(df[\"invoice_date\"])\n",
      "C:\\Users\\Olegi Megi\\AppData\\Local\\Temp\\ipykernel_7784\\3308698453.py:1: UserWarning: Parsing '27/04/2021' in DD/MM/YYYY format. Provide format or specify infer_datetime_format=True for consistent parsing.\n",
      "  df[\"invoice_date\"]=pd.to_datetime(df[\"invoice_date\"])\n",
      "C:\\Users\\Olegi Megi\\AppData\\Local\\Temp\\ipykernel_7784\\3308698453.py:1: UserWarning: Parsing '27/11/2021' in DD/MM/YYYY format. Provide format or specify infer_datetime_format=True for consistent parsing.\n",
      "  df[\"invoice_date\"]=pd.to_datetime(df[\"invoice_date\"])\n",
      "C:\\Users\\Olegi Megi\\AppData\\Local\\Temp\\ipykernel_7784\\3308698453.py:1: UserWarning: Parsing '21/07/2021' in DD/MM/YYYY format. Provide format or specify infer_datetime_format=True for consistent parsing.\n",
      "  df[\"invoice_date\"]=pd.to_datetime(df[\"invoice_date\"])\n",
      "C:\\Users\\Olegi Megi\\AppData\\Local\\Temp\\ipykernel_7784\\3308698453.py:1: UserWarning: Parsing '28/05/2021' in DD/MM/YYYY format. Provide format or specify infer_datetime_format=True for consistent parsing.\n",
      "  df[\"invoice_date\"]=pd.to_datetime(df[\"invoice_date\"])\n",
      "C:\\Users\\Olegi Megi\\AppData\\Local\\Temp\\ipykernel_7784\\3308698453.py:1: UserWarning: Parsing '20/08/2022' in DD/MM/YYYY format. Provide format or specify infer_datetime_format=True for consistent parsing.\n",
      "  df[\"invoice_date\"]=pd.to_datetime(df[\"invoice_date\"])\n",
      "C:\\Users\\Olegi Megi\\AppData\\Local\\Temp\\ipykernel_7784\\3308698453.py:1: UserWarning: Parsing '19/08/2021' in DD/MM/YYYY format. Provide format or specify infer_datetime_format=True for consistent parsing.\n",
      "  df[\"invoice_date\"]=pd.to_datetime(df[\"invoice_date\"])\n",
      "C:\\Users\\Olegi Megi\\AppData\\Local\\Temp\\ipykernel_7784\\3308698453.py:1: UserWarning: Parsing '29/05/2021' in DD/MM/YYYY format. Provide format or specify infer_datetime_format=True for consistent parsing.\n",
      "  df[\"invoice_date\"]=pd.to_datetime(df[\"invoice_date\"])\n",
      "C:\\Users\\Olegi Megi\\AppData\\Local\\Temp\\ipykernel_7784\\3308698453.py:1: UserWarning: Parsing '31/12/2021' in DD/MM/YYYY format. Provide format or specify infer_datetime_format=True for consistent parsing.\n",
      "  df[\"invoice_date\"]=pd.to_datetime(df[\"invoice_date\"])\n",
      "C:\\Users\\Olegi Megi\\AppData\\Local\\Temp\\ipykernel_7784\\3308698453.py:1: UserWarning: Parsing '27/01/2021' in DD/MM/YYYY format. Provide format or specify infer_datetime_format=True for consistent parsing.\n",
      "  df[\"invoice_date\"]=pd.to_datetime(df[\"invoice_date\"])\n",
      "C:\\Users\\Olegi Megi\\AppData\\Local\\Temp\\ipykernel_7784\\3308698453.py:1: UserWarning: Parsing '23/09/2021' in DD/MM/YYYY format. Provide format or specify infer_datetime_format=True for consistent parsing.\n",
      "  df[\"invoice_date\"]=pd.to_datetime(df[\"invoice_date\"])\n",
      "C:\\Users\\Olegi Megi\\AppData\\Local\\Temp\\ipykernel_7784\\3308698453.py:1: UserWarning: Parsing '16/08/2022' in DD/MM/YYYY format. Provide format or specify infer_datetime_format=True for consistent parsing.\n",
      "  df[\"invoice_date\"]=pd.to_datetime(df[\"invoice_date\"])\n",
      "C:\\Users\\Olegi Megi\\AppData\\Local\\Temp\\ipykernel_7784\\3308698453.py:1: UserWarning: Parsing '28/01/2023' in DD/MM/YYYY format. Provide format or specify infer_datetime_format=True for consistent parsing.\n",
      "  df[\"invoice_date\"]=pd.to_datetime(df[\"invoice_date\"])\n",
      "C:\\Users\\Olegi Megi\\AppData\\Local\\Temp\\ipykernel_7784\\3308698453.py:1: UserWarning: Parsing '14/01/2023' in DD/MM/YYYY format. Provide format or specify infer_datetime_format=True for consistent parsing.\n",
      "  df[\"invoice_date\"]=pd.to_datetime(df[\"invoice_date\"])\n",
      "C:\\Users\\Olegi Megi\\AppData\\Local\\Temp\\ipykernel_7784\\3308698453.py:1: UserWarning: Parsing '22/02/2023' in DD/MM/YYYY format. Provide format or specify infer_datetime_format=True for consistent parsing.\n",
      "  df[\"invoice_date\"]=pd.to_datetime(df[\"invoice_date\"])\n",
      "C:\\Users\\Olegi Megi\\AppData\\Local\\Temp\\ipykernel_7784\\3308698453.py:1: UserWarning: Parsing '13/02/2021' in DD/MM/YYYY format. Provide format or specify infer_datetime_format=True for consistent parsing.\n",
      "  df[\"invoice_date\"]=pd.to_datetime(df[\"invoice_date\"])\n",
      "C:\\Users\\Olegi Megi\\AppData\\Local\\Temp\\ipykernel_7784\\3308698453.py:1: UserWarning: Parsing '29/10/2022' in DD/MM/YYYY format. Provide format or specify infer_datetime_format=True for consistent parsing.\n",
      "  df[\"invoice_date\"]=pd.to_datetime(df[\"invoice_date\"])\n",
      "C:\\Users\\Olegi Megi\\AppData\\Local\\Temp\\ipykernel_7784\\3308698453.py:1: UserWarning: Parsing '19/07/2021' in DD/MM/YYYY format. Provide format or specify infer_datetime_format=True for consistent parsing.\n",
      "  df[\"invoice_date\"]=pd.to_datetime(df[\"invoice_date\"])\n",
      "C:\\Users\\Olegi Megi\\AppData\\Local\\Temp\\ipykernel_7784\\3308698453.py:1: UserWarning: Parsing '23/10/2021' in DD/MM/YYYY format. Provide format or specify infer_datetime_format=True for consistent parsing.\n",
      "  df[\"invoice_date\"]=pd.to_datetime(df[\"invoice_date\"])\n",
      "C:\\Users\\Olegi Megi\\AppData\\Local\\Temp\\ipykernel_7784\\3308698453.py:1: UserWarning: Parsing '18/02/2023' in DD/MM/YYYY format. Provide format or specify infer_datetime_format=True for consistent parsing.\n",
      "  df[\"invoice_date\"]=pd.to_datetime(df[\"invoice_date\"])\n",
      "C:\\Users\\Olegi Megi\\AppData\\Local\\Temp\\ipykernel_7784\\3308698453.py:1: UserWarning: Parsing '13/08/2022' in DD/MM/YYYY format. Provide format or specify infer_datetime_format=True for consistent parsing.\n",
      "  df[\"invoice_date\"]=pd.to_datetime(df[\"invoice_date\"])\n",
      "C:\\Users\\Olegi Megi\\AppData\\Local\\Temp\\ipykernel_7784\\3308698453.py:1: UserWarning: Parsing '20/02/2023' in DD/MM/YYYY format. Provide format or specify infer_datetime_format=True for consistent parsing.\n",
      "  df[\"invoice_date\"]=pd.to_datetime(df[\"invoice_date\"])\n",
      "C:\\Users\\Olegi Megi\\AppData\\Local\\Temp\\ipykernel_7784\\3308698453.py:1: UserWarning: Parsing '22/11/2022' in DD/MM/YYYY format. Provide format or specify infer_datetime_format=True for consistent parsing.\n",
      "  df[\"invoice_date\"]=pd.to_datetime(df[\"invoice_date\"])\n",
      "C:\\Users\\Olegi Megi\\AppData\\Local\\Temp\\ipykernel_7784\\3308698453.py:1: UserWarning: Parsing '22/02/2021' in DD/MM/YYYY format. Provide format or specify infer_datetime_format=True for consistent parsing.\n",
      "  df[\"invoice_date\"]=pd.to_datetime(df[\"invoice_date\"])\n",
      "C:\\Users\\Olegi Megi\\AppData\\Local\\Temp\\ipykernel_7784\\3308698453.py:1: UserWarning: Parsing '15/02/2022' in DD/MM/YYYY format. Provide format or specify infer_datetime_format=True for consistent parsing.\n",
      "  df[\"invoice_date\"]=pd.to_datetime(df[\"invoice_date\"])\n",
      "C:\\Users\\Olegi Megi\\AppData\\Local\\Temp\\ipykernel_7784\\3308698453.py:1: UserWarning: Parsing '18/11/2022' in DD/MM/YYYY format. Provide format or specify infer_datetime_format=True for consistent parsing.\n",
      "  df[\"invoice_date\"]=pd.to_datetime(df[\"invoice_date\"])\n",
      "C:\\Users\\Olegi Megi\\AppData\\Local\\Temp\\ipykernel_7784\\3308698453.py:1: UserWarning: Parsing '14/10/2022' in DD/MM/YYYY format. Provide format or specify infer_datetime_format=True for consistent parsing.\n",
      "  df[\"invoice_date\"]=pd.to_datetime(df[\"invoice_date\"])\n",
      "C:\\Users\\Olegi Megi\\AppData\\Local\\Temp\\ipykernel_7784\\3308698453.py:1: UserWarning: Parsing '21/01/2022' in DD/MM/YYYY format. Provide format or specify infer_datetime_format=True for consistent parsing.\n",
      "  df[\"invoice_date\"]=pd.to_datetime(df[\"invoice_date\"])\n",
      "C:\\Users\\Olegi Megi\\AppData\\Local\\Temp\\ipykernel_7784\\3308698453.py:1: UserWarning: Parsing '14/01/2022' in DD/MM/YYYY format. Provide format or specify infer_datetime_format=True for consistent parsing.\n",
      "  df[\"invoice_date\"]=pd.to_datetime(df[\"invoice_date\"])\n",
      "C:\\Users\\Olegi Megi\\AppData\\Local\\Temp\\ipykernel_7784\\3308698453.py:1: UserWarning: Parsing '13/01/2023' in DD/MM/YYYY format. Provide format or specify infer_datetime_format=True for consistent parsing.\n",
      "  df[\"invoice_date\"]=pd.to_datetime(df[\"invoice_date\"])\n",
      "C:\\Users\\Olegi Megi\\AppData\\Local\\Temp\\ipykernel_7784\\3308698453.py:1: UserWarning: Parsing '29/07/2022' in DD/MM/YYYY format. Provide format or specify infer_datetime_format=True for consistent parsing.\n",
      "  df[\"invoice_date\"]=pd.to_datetime(df[\"invoice_date\"])\n",
      "C:\\Users\\Olegi Megi\\AppData\\Local\\Temp\\ipykernel_7784\\3308698453.py:1: UserWarning: Parsing '18/04/2022' in DD/MM/YYYY format. Provide format or specify infer_datetime_format=True for consistent parsing.\n",
      "  df[\"invoice_date\"]=pd.to_datetime(df[\"invoice_date\"])\n",
      "C:\\Users\\Olegi Megi\\AppData\\Local\\Temp\\ipykernel_7784\\3308698453.py:1: UserWarning: Parsing '26/09/2022' in DD/MM/YYYY format. Provide format or specify infer_datetime_format=True for consistent parsing.\n",
      "  df[\"invoice_date\"]=pd.to_datetime(df[\"invoice_date\"])\n",
      "C:\\Users\\Olegi Megi\\AppData\\Local\\Temp\\ipykernel_7784\\3308698453.py:1: UserWarning: Parsing '30/10/2021' in DD/MM/YYYY format. Provide format or specify infer_datetime_format=True for consistent parsing.\n",
      "  df[\"invoice_date\"]=pd.to_datetime(df[\"invoice_date\"])\n",
      "C:\\Users\\Olegi Megi\\AppData\\Local\\Temp\\ipykernel_7784\\3308698453.py:1: UserWarning: Parsing '16/02/2023' in DD/MM/YYYY format. Provide format or specify infer_datetime_format=True for consistent parsing.\n",
      "  df[\"invoice_date\"]=pd.to_datetime(df[\"invoice_date\"])\n",
      "C:\\Users\\Olegi Megi\\AppData\\Local\\Temp\\ipykernel_7784\\3308698453.py:1: UserWarning: Parsing '29/08/2021' in DD/MM/YYYY format. Provide format or specify infer_datetime_format=True for consistent parsing.\n",
      "  df[\"invoice_date\"]=pd.to_datetime(df[\"invoice_date\"])\n",
      "C:\\Users\\Olegi Megi\\AppData\\Local\\Temp\\ipykernel_7784\\3308698453.py:1: UserWarning: Parsing '29/01/2022' in DD/MM/YYYY format. Provide format or specify infer_datetime_format=True for consistent parsing.\n",
      "  df[\"invoice_date\"]=pd.to_datetime(df[\"invoice_date\"])\n",
      "C:\\Users\\Olegi Megi\\AppData\\Local\\Temp\\ipykernel_7784\\3308698453.py:1: UserWarning: Parsing '18/06/2021' in DD/MM/YYYY format. Provide format or specify infer_datetime_format=True for consistent parsing.\n",
      "  df[\"invoice_date\"]=pd.to_datetime(df[\"invoice_date\"])\n",
      "C:\\Users\\Olegi Megi\\AppData\\Local\\Temp\\ipykernel_7784\\3308698453.py:1: UserWarning: Parsing '28/12/2021' in DD/MM/YYYY format. Provide format or specify infer_datetime_format=True for consistent parsing.\n",
      "  df[\"invoice_date\"]=pd.to_datetime(df[\"invoice_date\"])\n",
      "C:\\Users\\Olegi Megi\\AppData\\Local\\Temp\\ipykernel_7784\\3308698453.py:1: UserWarning: Parsing '27/06/2022' in DD/MM/YYYY format. Provide format or specify infer_datetime_format=True for consistent parsing.\n",
      "  df[\"invoice_date\"]=pd.to_datetime(df[\"invoice_date\"])\n",
      "C:\\Users\\Olegi Megi\\AppData\\Local\\Temp\\ipykernel_7784\\3308698453.py:1: UserWarning: Parsing '23/04/2022' in DD/MM/YYYY format. Provide format or specify infer_datetime_format=True for consistent parsing.\n",
      "  df[\"invoice_date\"]=pd.to_datetime(df[\"invoice_date\"])\n",
      "C:\\Users\\Olegi Megi\\AppData\\Local\\Temp\\ipykernel_7784\\3308698453.py:1: UserWarning: Parsing '20/05/2021' in DD/MM/YYYY format. Provide format or specify infer_datetime_format=True for consistent parsing.\n",
      "  df[\"invoice_date\"]=pd.to_datetime(df[\"invoice_date\"])\n",
      "C:\\Users\\Olegi Megi\\AppData\\Local\\Temp\\ipykernel_7784\\3308698453.py:1: UserWarning: Parsing '27/05/2021' in DD/MM/YYYY format. Provide format or specify infer_datetime_format=True for consistent parsing.\n",
      "  df[\"invoice_date\"]=pd.to_datetime(df[\"invoice_date\"])\n",
      "C:\\Users\\Olegi Megi\\AppData\\Local\\Temp\\ipykernel_7784\\3308698453.py:1: UserWarning: Parsing '21/12/2021' in DD/MM/YYYY format. Provide format or specify infer_datetime_format=True for consistent parsing.\n",
      "  df[\"invoice_date\"]=pd.to_datetime(df[\"invoice_date\"])\n",
      "C:\\Users\\Olegi Megi\\AppData\\Local\\Temp\\ipykernel_7784\\3308698453.py:1: UserWarning: Parsing '15/01/2021' in DD/MM/YYYY format. Provide format or specify infer_datetime_format=True for consistent parsing.\n",
      "  df[\"invoice_date\"]=pd.to_datetime(df[\"invoice_date\"])\n",
      "C:\\Users\\Olegi Megi\\AppData\\Local\\Temp\\ipykernel_7784\\3308698453.py:1: UserWarning: Parsing '18/12/2021' in DD/MM/YYYY format. Provide format or specify infer_datetime_format=True for consistent parsing.\n",
      "  df[\"invoice_date\"]=pd.to_datetime(df[\"invoice_date\"])\n",
      "C:\\Users\\Olegi Megi\\AppData\\Local\\Temp\\ipykernel_7784\\3308698453.py:1: UserWarning: Parsing '15/09/2021' in DD/MM/YYYY format. Provide format or specify infer_datetime_format=True for consistent parsing.\n",
      "  df[\"invoice_date\"]=pd.to_datetime(df[\"invoice_date\"])\n",
      "C:\\Users\\Olegi Megi\\AppData\\Local\\Temp\\ipykernel_7784\\3308698453.py:1: UserWarning: Parsing '18/07/2021' in DD/MM/YYYY format. Provide format or specify infer_datetime_format=True for consistent parsing.\n",
      "  df[\"invoice_date\"]=pd.to_datetime(df[\"invoice_date\"])\n",
      "C:\\Users\\Olegi Megi\\AppData\\Local\\Temp\\ipykernel_7784\\3308698453.py:1: UserWarning: Parsing '14/05/2021' in DD/MM/YYYY format. Provide format or specify infer_datetime_format=True for consistent parsing.\n",
      "  df[\"invoice_date\"]=pd.to_datetime(df[\"invoice_date\"])\n",
      "C:\\Users\\Olegi Megi\\AppData\\Local\\Temp\\ipykernel_7784\\3308698453.py:1: UserWarning: Parsing '30/09/2022' in DD/MM/YYYY format. Provide format or specify infer_datetime_format=True for consistent parsing.\n",
      "  df[\"invoice_date\"]=pd.to_datetime(df[\"invoice_date\"])\n",
      "C:\\Users\\Olegi Megi\\AppData\\Local\\Temp\\ipykernel_7784\\3308698453.py:1: UserWarning: Parsing '18/11/2021' in DD/MM/YYYY format. Provide format or specify infer_datetime_format=True for consistent parsing.\n",
      "  df[\"invoice_date\"]=pd.to_datetime(df[\"invoice_date\"])\n",
      "C:\\Users\\Olegi Megi\\AppData\\Local\\Temp\\ipykernel_7784\\3308698453.py:1: UserWarning: Parsing '24/10/2022' in DD/MM/YYYY format. Provide format or specify infer_datetime_format=True for consistent parsing.\n",
      "  df[\"invoice_date\"]=pd.to_datetime(df[\"invoice_date\"])\n",
      "C:\\Users\\Olegi Megi\\AppData\\Local\\Temp\\ipykernel_7784\\3308698453.py:1: UserWarning: Parsing '30/03/2021' in DD/MM/YYYY format. Provide format or specify infer_datetime_format=True for consistent parsing.\n",
      "  df[\"invoice_date\"]=pd.to_datetime(df[\"invoice_date\"])\n",
      "C:\\Users\\Olegi Megi\\AppData\\Local\\Temp\\ipykernel_7784\\3308698453.py:1: UserWarning: Parsing '20/10/2022' in DD/MM/YYYY format. Provide format or specify infer_datetime_format=True for consistent parsing.\n",
      "  df[\"invoice_date\"]=pd.to_datetime(df[\"invoice_date\"])\n",
      "C:\\Users\\Olegi Megi\\AppData\\Local\\Temp\\ipykernel_7784\\3308698453.py:1: UserWarning: Parsing '17/10/2021' in DD/MM/YYYY format. Provide format or specify infer_datetime_format=True for consistent parsing.\n",
      "  df[\"invoice_date\"]=pd.to_datetime(df[\"invoice_date\"])\n",
      "C:\\Users\\Olegi Megi\\AppData\\Local\\Temp\\ipykernel_7784\\3308698453.py:1: UserWarning: Parsing '23/05/2022' in DD/MM/YYYY format. Provide format or specify infer_datetime_format=True for consistent parsing.\n",
      "  df[\"invoice_date\"]=pd.to_datetime(df[\"invoice_date\"])\n",
      "C:\\Users\\Olegi Megi\\AppData\\Local\\Temp\\ipykernel_7784\\3308698453.py:1: UserWarning: Parsing '30/11/2021' in DD/MM/YYYY format. Provide format or specify infer_datetime_format=True for consistent parsing.\n",
      "  df[\"invoice_date\"]=pd.to_datetime(df[\"invoice_date\"])\n",
      "C:\\Users\\Olegi Megi\\AppData\\Local\\Temp\\ipykernel_7784\\3308698453.py:1: UserWarning: Parsing '13/07/2022' in DD/MM/YYYY format. Provide format or specify infer_datetime_format=True for consistent parsing.\n",
      "  df[\"invoice_date\"]=pd.to_datetime(df[\"invoice_date\"])\n",
      "C:\\Users\\Olegi Megi\\AppData\\Local\\Temp\\ipykernel_7784\\3308698453.py:1: UserWarning: Parsing '28/01/2022' in DD/MM/YYYY format. Provide format or specify infer_datetime_format=True for consistent parsing.\n",
      "  df[\"invoice_date\"]=pd.to_datetime(df[\"invoice_date\"])\n",
      "C:\\Users\\Olegi Megi\\AppData\\Local\\Temp\\ipykernel_7784\\3308698453.py:1: UserWarning: Parsing '21/09/2021' in DD/MM/YYYY format. Provide format or specify infer_datetime_format=True for consistent parsing.\n",
      "  df[\"invoice_date\"]=pd.to_datetime(df[\"invoice_date\"])\n",
      "C:\\Users\\Olegi Megi\\AppData\\Local\\Temp\\ipykernel_7784\\3308698453.py:1: UserWarning: Parsing '31/08/2022' in DD/MM/YYYY format. Provide format or specify infer_datetime_format=True for consistent parsing.\n",
      "  df[\"invoice_date\"]=pd.to_datetime(df[\"invoice_date\"])\n",
      "C:\\Users\\Olegi Megi\\AppData\\Local\\Temp\\ipykernel_7784\\3308698453.py:1: UserWarning: Parsing '22/06/2021' in DD/MM/YYYY format. Provide format or specify infer_datetime_format=True for consistent parsing.\n",
      "  df[\"invoice_date\"]=pd.to_datetime(df[\"invoice_date\"])\n",
      "C:\\Users\\Olegi Megi\\AppData\\Local\\Temp\\ipykernel_7784\\3308698453.py:1: UserWarning: Parsing '24/12/2021' in DD/MM/YYYY format. Provide format or specify infer_datetime_format=True for consistent parsing.\n",
      "  df[\"invoice_date\"]=pd.to_datetime(df[\"invoice_date\"])\n",
      "C:\\Users\\Olegi Megi\\AppData\\Local\\Temp\\ipykernel_7784\\3308698453.py:1: UserWarning: Parsing '21/03/2022' in DD/MM/YYYY format. Provide format or specify infer_datetime_format=True for consistent parsing.\n",
      "  df[\"invoice_date\"]=pd.to_datetime(df[\"invoice_date\"])\n",
      "C:\\Users\\Olegi Megi\\AppData\\Local\\Temp\\ipykernel_7784\\3308698453.py:1: UserWarning: Parsing '16/02/2021' in DD/MM/YYYY format. Provide format or specify infer_datetime_format=True for consistent parsing.\n",
      "  df[\"invoice_date\"]=pd.to_datetime(df[\"invoice_date\"])\n",
      "C:\\Users\\Olegi Megi\\AppData\\Local\\Temp\\ipykernel_7784\\3308698453.py:1: UserWarning: Parsing '26/05/2022' in DD/MM/YYYY format. Provide format or specify infer_datetime_format=True for consistent parsing.\n",
      "  df[\"invoice_date\"]=pd.to_datetime(df[\"invoice_date\"])\n",
      "C:\\Users\\Olegi Megi\\AppData\\Local\\Temp\\ipykernel_7784\\3308698453.py:1: UserWarning: Parsing '22/07/2022' in DD/MM/YYYY format. Provide format or specify infer_datetime_format=True for consistent parsing.\n",
      "  df[\"invoice_date\"]=pd.to_datetime(df[\"invoice_date\"])\n",
      "C:\\Users\\Olegi Megi\\AppData\\Local\\Temp\\ipykernel_7784\\3308698453.py:1: UserWarning: Parsing '28/10/2021' in DD/MM/YYYY format. Provide format or specify infer_datetime_format=True for consistent parsing.\n",
      "  df[\"invoice_date\"]=pd.to_datetime(df[\"invoice_date\"])\n",
      "C:\\Users\\Olegi Megi\\AppData\\Local\\Temp\\ipykernel_7784\\3308698453.py:1: UserWarning: Parsing '16/04/2022' in DD/MM/YYYY format. Provide format or specify infer_datetime_format=True for consistent parsing.\n",
      "  df[\"invoice_date\"]=pd.to_datetime(df[\"invoice_date\"])\n",
      "C:\\Users\\Olegi Megi\\AppData\\Local\\Temp\\ipykernel_7784\\3308698453.py:1: UserWarning: Parsing '26/01/2022' in DD/MM/YYYY format. Provide format or specify infer_datetime_format=True for consistent parsing.\n",
      "  df[\"invoice_date\"]=pd.to_datetime(df[\"invoice_date\"])\n",
      "C:\\Users\\Olegi Megi\\AppData\\Local\\Temp\\ipykernel_7784\\3308698453.py:1: UserWarning: Parsing '29/06/2022' in DD/MM/YYYY format. Provide format or specify infer_datetime_format=True for consistent parsing.\n",
      "  df[\"invoice_date\"]=pd.to_datetime(df[\"invoice_date\"])\n",
      "C:\\Users\\Olegi Megi\\AppData\\Local\\Temp\\ipykernel_7784\\3308698453.py:1: UserWarning: Parsing '27/02/2023' in DD/MM/YYYY format. Provide format or specify infer_datetime_format=True for consistent parsing.\n",
      "  df[\"invoice_date\"]=pd.to_datetime(df[\"invoice_date\"])\n",
      "C:\\Users\\Olegi Megi\\AppData\\Local\\Temp\\ipykernel_7784\\3308698453.py:1: UserWarning: Parsing '19/04/2021' in DD/MM/YYYY format. Provide format or specify infer_datetime_format=True for consistent parsing.\n",
      "  df[\"invoice_date\"]=pd.to_datetime(df[\"invoice_date\"])\n",
      "C:\\Users\\Olegi Megi\\AppData\\Local\\Temp\\ipykernel_7784\\3308698453.py:1: UserWarning: Parsing '13/04/2022' in DD/MM/YYYY format. Provide format or specify infer_datetime_format=True for consistent parsing.\n",
      "  df[\"invoice_date\"]=pd.to_datetime(df[\"invoice_date\"])\n",
      "C:\\Users\\Olegi Megi\\AppData\\Local\\Temp\\ipykernel_7784\\3308698453.py:1: UserWarning: Parsing '31/10/2021' in DD/MM/YYYY format. Provide format or specify infer_datetime_format=True for consistent parsing.\n",
      "  df[\"invoice_date\"]=pd.to_datetime(df[\"invoice_date\"])\n",
      "C:\\Users\\Olegi Megi\\AppData\\Local\\Temp\\ipykernel_7784\\3308698453.py:1: UserWarning: Parsing '23/03/2021' in DD/MM/YYYY format. Provide format or specify infer_datetime_format=True for consistent parsing.\n",
      "  df[\"invoice_date\"]=pd.to_datetime(df[\"invoice_date\"])\n",
      "C:\\Users\\Olegi Megi\\AppData\\Local\\Temp\\ipykernel_7784\\3308698453.py:1: UserWarning: Parsing '23/05/2021' in DD/MM/YYYY format. Provide format or specify infer_datetime_format=True for consistent parsing.\n",
      "  df[\"invoice_date\"]=pd.to_datetime(df[\"invoice_date\"])\n",
      "C:\\Users\\Olegi Megi\\AppData\\Local\\Temp\\ipykernel_7784\\3308698453.py:1: UserWarning: Parsing '15/08/2021' in DD/MM/YYYY format. Provide format or specify infer_datetime_format=True for consistent parsing.\n",
      "  df[\"invoice_date\"]=pd.to_datetime(df[\"invoice_date\"])\n",
      "C:\\Users\\Olegi Megi\\AppData\\Local\\Temp\\ipykernel_7784\\3308698453.py:1: UserWarning: Parsing '18/03/2022' in DD/MM/YYYY format. Provide format or specify infer_datetime_format=True for consistent parsing.\n",
      "  df[\"invoice_date\"]=pd.to_datetime(df[\"invoice_date\"])\n",
      "C:\\Users\\Olegi Megi\\AppData\\Local\\Temp\\ipykernel_7784\\3308698453.py:1: UserWarning: Parsing '28/11/2022' in DD/MM/YYYY format. Provide format or specify infer_datetime_format=True for consistent parsing.\n",
      "  df[\"invoice_date\"]=pd.to_datetime(df[\"invoice_date\"])\n",
      "C:\\Users\\Olegi Megi\\AppData\\Local\\Temp\\ipykernel_7784\\3308698453.py:1: UserWarning: Parsing '30/11/2022' in DD/MM/YYYY format. Provide format or specify infer_datetime_format=True for consistent parsing.\n",
      "  df[\"invoice_date\"]=pd.to_datetime(df[\"invoice_date\"])\n",
      "C:\\Users\\Olegi Megi\\AppData\\Local\\Temp\\ipykernel_7784\\3308698453.py:1: UserWarning: Parsing '23/10/2022' in DD/MM/YYYY format. Provide format or specify infer_datetime_format=True for consistent parsing.\n",
      "  df[\"invoice_date\"]=pd.to_datetime(df[\"invoice_date\"])\n",
      "C:\\Users\\Olegi Megi\\AppData\\Local\\Temp\\ipykernel_7784\\3308698453.py:1: UserWarning: Parsing '14/02/2023' in DD/MM/YYYY format. Provide format or specify infer_datetime_format=True for consistent parsing.\n",
      "  df[\"invoice_date\"]=pd.to_datetime(df[\"invoice_date\"])\n",
      "C:\\Users\\Olegi Megi\\AppData\\Local\\Temp\\ipykernel_7784\\3308698453.py:1: UserWarning: Parsing '24/08/2022' in DD/MM/YYYY format. Provide format or specify infer_datetime_format=True for consistent parsing.\n",
      "  df[\"invoice_date\"]=pd.to_datetime(df[\"invoice_date\"])\n",
      "C:\\Users\\Olegi Megi\\AppData\\Local\\Temp\\ipykernel_7784\\3308698453.py:1: UserWarning: Parsing '29/09/2021' in DD/MM/YYYY format. Provide format or specify infer_datetime_format=True for consistent parsing.\n",
      "  df[\"invoice_date\"]=pd.to_datetime(df[\"invoice_date\"])\n",
      "C:\\Users\\Olegi Megi\\AppData\\Local\\Temp\\ipykernel_7784\\3308698453.py:1: UserWarning: Parsing '16/02/2022' in DD/MM/YYYY format. Provide format or specify infer_datetime_format=True for consistent parsing.\n",
      "  df[\"invoice_date\"]=pd.to_datetime(df[\"invoice_date\"])\n",
      "C:\\Users\\Olegi Megi\\AppData\\Local\\Temp\\ipykernel_7784\\3308698453.py:1: UserWarning: Parsing '26/07/2022' in DD/MM/YYYY format. Provide format or specify infer_datetime_format=True for consistent parsing.\n",
      "  df[\"invoice_date\"]=pd.to_datetime(df[\"invoice_date\"])\n",
      "C:\\Users\\Olegi Megi\\AppData\\Local\\Temp\\ipykernel_7784\\3308698453.py:1: UserWarning: Parsing '29/08/2022' in DD/MM/YYYY format. Provide format or specify infer_datetime_format=True for consistent parsing.\n",
      "  df[\"invoice_date\"]=pd.to_datetime(df[\"invoice_date\"])\n",
      "C:\\Users\\Olegi Megi\\AppData\\Local\\Temp\\ipykernel_7784\\3308698453.py:1: UserWarning: Parsing '28/03/2022' in DD/MM/YYYY format. Provide format or specify infer_datetime_format=True for consistent parsing.\n",
      "  df[\"invoice_date\"]=pd.to_datetime(df[\"invoice_date\"])\n",
      "C:\\Users\\Olegi Megi\\AppData\\Local\\Temp\\ipykernel_7784\\3308698453.py:1: UserWarning: Parsing '21/05/2022' in DD/MM/YYYY format. Provide format or specify infer_datetime_format=True for consistent parsing.\n",
      "  df[\"invoice_date\"]=pd.to_datetime(df[\"invoice_date\"])\n",
      "C:\\Users\\Olegi Megi\\AppData\\Local\\Temp\\ipykernel_7784\\3308698453.py:1: UserWarning: Parsing '21/06/2021' in DD/MM/YYYY format. Provide format or specify infer_datetime_format=True for consistent parsing.\n",
      "  df[\"invoice_date\"]=pd.to_datetime(df[\"invoice_date\"])\n",
      "C:\\Users\\Olegi Megi\\AppData\\Local\\Temp\\ipykernel_7784\\3308698453.py:1: UserWarning: Parsing '14/01/2021' in DD/MM/YYYY format. Provide format or specify infer_datetime_format=True for consistent parsing.\n",
      "  df[\"invoice_date\"]=pd.to_datetime(df[\"invoice_date\"])\n",
      "C:\\Users\\Olegi Megi\\AppData\\Local\\Temp\\ipykernel_7784\\3308698453.py:1: UserWarning: Parsing '29/09/2022' in DD/MM/YYYY format. Provide format or specify infer_datetime_format=True for consistent parsing.\n",
      "  df[\"invoice_date\"]=pd.to_datetime(df[\"invoice_date\"])\n",
      "C:\\Users\\Olegi Megi\\AppData\\Local\\Temp\\ipykernel_7784\\3308698453.py:1: UserWarning: Parsing '22/01/2021' in DD/MM/YYYY format. Provide format or specify infer_datetime_format=True for consistent parsing.\n",
      "  df[\"invoice_date\"]=pd.to_datetime(df[\"invoice_date\"])\n",
      "C:\\Users\\Olegi Megi\\AppData\\Local\\Temp\\ipykernel_7784\\3308698453.py:1: UserWarning: Parsing '13/12/2022' in DD/MM/YYYY format. Provide format or specify infer_datetime_format=True for consistent parsing.\n",
      "  df[\"invoice_date\"]=pd.to_datetime(df[\"invoice_date\"])\n",
      "C:\\Users\\Olegi Megi\\AppData\\Local\\Temp\\ipykernel_7784\\3308698453.py:1: UserWarning: Parsing '14/08/2021' in DD/MM/YYYY format. Provide format or specify infer_datetime_format=True for consistent parsing.\n",
      "  df[\"invoice_date\"]=pd.to_datetime(df[\"invoice_date\"])\n",
      "C:\\Users\\Olegi Megi\\AppData\\Local\\Temp\\ipykernel_7784\\3308698453.py:1: UserWarning: Parsing '18/05/2021' in DD/MM/YYYY format. Provide format or specify infer_datetime_format=True for consistent parsing.\n",
      "  df[\"invoice_date\"]=pd.to_datetime(df[\"invoice_date\"])\n",
      "C:\\Users\\Olegi Megi\\AppData\\Local\\Temp\\ipykernel_7784\\3308698453.py:1: UserWarning: Parsing '29/01/2021' in DD/MM/YYYY format. Provide format or specify infer_datetime_format=True for consistent parsing.\n",
      "  df[\"invoice_date\"]=pd.to_datetime(df[\"invoice_date\"])\n"
     ]
    }
   ],
   "source": [
    "df[\"invoice_date\"]=pd.to_datetime(df[\"invoice_date\"])"
   ]
  },
  {
   "cell_type": "code",
   "execution_count": 7,
   "id": "c5da561f",
   "metadata": {},
   "outputs": [
    {
     "data": {
      "text/plain": [
       "array([[<AxesSubplot:title={'center':'age'}>,\n",
       "        <AxesSubplot:title={'center':'quantity'}>],\n",
       "       [<AxesSubplot:title={'center':'price'}>,\n",
       "        <AxesSubplot:title={'center':'invoice_date'}>]], dtype=object)"
      ]
     },
     "execution_count": 7,
     "metadata": {},
     "output_type": "execute_result"
    },
    {
     "data": {
      "image/png": "[encoded data removed]",
      "text/plain": [
       "<Figure size 432x288 with 4 Axes>"
      ]
     },
     "metadata": {
      "needs_background": "light"
     },
     "output_type": "display_data"
    }
   ],
   "source": [
    "df.hist()"
   ]
  },
  {
   "cell_type": "code",
   "execution_count": 8,
   "id": "c2312964",
   "metadata": {},
   "outputs": [
    {
     "data": {
      "text/html": [
       "<div>\n",
       "<style scoped>\n",
       "    .dataframe tbody tr th:only-of-type {\n",
       "        vertical-align: middle;\n",
       "    }\n",
       "\n",
       "    .dataframe tbody tr th {\n",
       "        vertical-align: top;\n",
       "    }\n",
       "\n",
       "    .dataframe thead th {\n",
       "        text-align: right;\n",
       "    }\n",
       "</style>\n",
       "<table border=\"1\" class=\"dataframe\">\n",
       "  <thead>\n",
       "    <tr style=\"text-align: right;\">\n",
       "      <th></th>\n",
       "      <th>age</th>\n",
       "      <th>quantity</th>\n",
       "      <th>price</th>\n",
       "    </tr>\n",
       "  </thead>\n",
       "  <tbody>\n",
       "    <tr>\n",
       "      <th>count</th>\n",
       "      <td>99457.000000</td>\n",
       "      <td>99457.000000</td>\n",
       "      <td>99457.000000</td>\n",
       "    </tr>\n",
       "    <tr>\n",
       "      <th>mean</th>\n",
       "      <td>43.427089</td>\n",
       "      <td>3.003429</td>\n",
       "      <td>689.256321</td>\n",
       "    </tr>\n",
       "    <tr>\n",
       "      <th>std</th>\n",
       "      <td>14.990054</td>\n",
       "      <td>1.413025</td>\n",
       "      <td>941.184567</td>\n",
       "    </tr>\n",
       "    <tr>\n",
       "      <th>min</th>\n",
       "      <td>18.000000</td>\n",
       "      <td>1.000000</td>\n",
       "      <td>5.230000</td>\n",
       "    </tr>\n",
       "    <tr>\n",
       "      <th>25%</th>\n",
       "      <td>30.000000</td>\n",
       "      <td>2.000000</td>\n",
       "      <td>45.450000</td>\n",
       "    </tr>\n",
       "    <tr>\n",
       "      <th>50%</th>\n",
       "      <td>43.000000</td>\n",
       "      <td>3.000000</td>\n",
       "      <td>203.300000</td>\n",
       "    </tr>\n",
       "    <tr>\n",
       "      <th>75%</th>\n",
       "      <td>56.000000</td>\n",
       "      <td>4.000000</td>\n",
       "      <td>1200.320000</td>\n",
       "    </tr>\n",
       "    <tr>\n",
       "      <th>max</th>\n",
       "      <td>69.000000</td>\n",
       "      <td>5.000000</td>\n",
       "      <td>5250.000000</td>\n",
       "    </tr>\n",
       "  </tbody>\n",
       "</table>\n",
       "</div>"
      ],
      "text/plain": [
       "                age      quantity         price\n",
       "count  99457.000000  99457.000000  99457.000000\n",
       "mean      43.427089      3.003429    689.256321\n",
       "std       14.990054      1.413025    941.184567\n",
       "min       18.000000      1.000000      5.230000\n",
       "25%       30.000000      2.000000     45.450000\n",
       "50%       43.000000      3.000000    203.300000\n",
       "75%       56.000000      4.000000   1200.320000\n",
       "max       69.000000      5.000000   5250.000000"
      ]
     },
     "execution_count": 8,
     "metadata": {},
     "output_type": "execute_result"
    }
   ],
   "source": [
    "df.describe()"
   ]
  },
  {
   "cell_type": "code",
   "execution_count": 9,
   "id": "9c67c7ec",
   "metadata": {
    "scrolled": true
   },
   "outputs": [
    {
     "data": {
      "image/png": "[encoded data removed]",
      "text/plain": [
       "<Figure size 360x576 with 3 Axes>"
      ]
     },
     "metadata": {
      "needs_background": "light"
     },
     "output_type": "display_data"
    }
   ],
   "source": [
    "# distribution of numeric columns\n",
    "fig, ax = plt.subplots(3, 1, figsize=(5,8))\n",
    "\n",
    "sns.boxplot(x=\"age\", data=df, ax=ax[0])\n",
    "sns.boxplot(x=\"quantity\", data=df, ax=ax[1])\n",
    "sns.boxplot(x=\"price\", data=df, ax=ax[2])\n",
    "\n",
    "plt.subplots_adjust(hspace=0.5) # set the vertical spacing between the plots"
   ]
  },
  {
   "cell_type": "code",
   "execution_count": 10,
   "id": "8dee7af3",
   "metadata": {
    "scrolled": true
   },
   "outputs": [
    {
     "data": {
      "text/plain": [
       "invoice_no        0\n",
       "customer_id       0\n",
       "gender            0\n",
       "age               0\n",
       "category          0\n",
       "quantity          0\n",
       "price             0\n",
       "payment_method    0\n",
       "invoice_date      0\n",
       "shopping_mall     0\n",
       "dtype: int64"
      ]
     },
     "execution_count": 10,
     "metadata": {},
     "output_type": "execute_result"
    }
   ],
   "source": [
    "# checking for nan values\n",
    "df.isna().sum()"
   ]
  },
  {
   "cell_type": "code",
   "execution_count": 11,
   "id": "8230c9af",
   "metadata": {},
   "outputs": [
    {
     "data": {
      "text/plain": [
       "False    99457\n",
       "dtype: int64"
      ]
     },
     "execution_count": 11,
     "metadata": {},
     "output_type": "execute_result"
    }
   ],
   "source": [
    "df.duplicated().value_counts()"
   ]
  },
  {
   "cell_type": "markdown",
   "id": "5417c3cf",
   "metadata": {},
   "source": [
    "## What does the distribution between gender look like? "
   ]
  },
  {
   "cell_type": "code",
   "execution_count": 12,
   "id": "07bb664f",
   "metadata": {},
   "outputs": [
    {
     "data": {
      "text/plain": [
       "Female    59482\n",
       "Male      39975\n",
       "Name: gender, dtype: int64"
      ]
     },
     "execution_count": 12,
     "metadata": {},
     "output_type": "execute_result"
    }
   ],
   "source": [
    "df[\"gender\"].value_counts()"
   ]
  },
  {
   "cell_type": "code",
   "execution_count": 13,
   "id": "0f6048ee",
   "metadata": {},
   "outputs": [
    {
     "data": {
      "text/plain": [
       "([<matplotlib.patches.Wedge at 0x1a70260f130>,\n",
       "  <matplotlib.patches.Wedge at 0x1a70260f4f0>],\n",
       " [Text(-0.33356115677026393, 1.0482065420011857, 'Female'),\n",
       "  Text(0.33356125491044203, -1.0482065107709317, 'Male')])"
      ]
     },
     "execution_count": 13,
     "metadata": {},
     "output_type": "execute_result"
    },
    {
     "data": {
      "image/png": "[encoded data removed]",
      "text/plain": [
       "<Figure size 432x288 with 1 Axes>"
      ]
     },
     "metadata": {},
     "output_type": "display_data"
    }
   ],
   "source": [
    "labels = [\"Female\", \"Male\"]\n",
    "\n",
    "plt.pie(df[\"gender\"].value_counts(), labels=labels)"
   ]
  },
  {
   "cell_type": "code",
   "execution_count": 14,
   "id": "6f4aad67",
   "metadata": {},
   "outputs": [
    {
     "name": "stdout",
     "output_type": "stream",
     "text": [
      "   gender        price\n",
      "0  Female  40931801.62\n",
      "1    Male  27619564.29\n",
      "   gender       price\n",
      "0  Female  688.137615\n",
      "1    Male  690.920933\n"
     ]
    }
   ],
   "source": [
    "money_spent_by_gender = df.groupby(\"gender\")[\"price\"].sum().reset_index()\n",
    "print(money_spent_by_gender)\n",
    "\n",
    "mspbgm = df.groupby(\"gender\")[\"price\"].mean().reset_index()\n",
    "print(mspbgm)"
   ]
  },
  {
   "cell_type": "code",
   "execution_count": 15,
   "id": "d08f25f7",
   "metadata": {},
   "outputs": [
    {
     "data": {
      "image/png": "[encoded data removed]",
      "text/plain": [
       "<Figure size 360x576 with 2 Axes>"
      ]
     },
     "metadata": {
      "needs_background": "light"
     },
     "output_type": "display_data"
    }
   ],
   "source": [
    "fig, ax = plt.subplots(2,1, figsize=(5,8))\n",
    "\n",
    "sns.barplot(x=\"gender\", y=\"price\", data=money_spent_by_gender, ax=ax[0])\n",
    "\n",
    "sns.barplot(x=\"gender\", y=\"price\", data=mspbgm, ax=ax[1])\n",
    "\n",
    "ax[0].set_title(\"Total money spent by gender\")\n",
    "ax[1].set_title(\"Average money spent by gender\")\n",
    "\n",
    "plt.subplots_adjust(hspace=0.5)\n"
   ]
  },
  {
   "cell_type": "markdown",
   "id": "4892edd8",
   "metadata": {},
   "source": [
    "## Buying habits by gender"
   ]
  },
  {
   "cell_type": "code",
   "execution_count": 16,
   "id": "38b0bf1a",
   "metadata": {},
   "outputs": [
    {
     "name": "stdout",
     "output_type": "stream",
     "text": [
      "    gender         category        price\n",
      "0   Female            Books    132956.40\n",
      "1   Female         Clothing  18616663.12\n",
      "2   Female        Cosmetics   1108432.26\n",
      "3   Female  Food & Beverage    137873.26\n",
      "4   Female            Shoes  10746644.02\n",
      "5   Female         Souvenir    105288.48\n",
      "6   Female       Technology   9425850.00\n",
      "7   Female             Toys    658094.08\n",
      "8     Male            Books     94020.90\n",
      "9     Male         Clothing  12459021.52\n",
      "10    Male        Cosmetics    740174.64\n",
      "11    Male  Food & Beverage     93695.45\n",
      "12    Male            Shoes   7388692.87\n",
      "13    Male         Souvenir     69148.35\n",
      "14    Male       Technology   6346200.00\n",
      "15    Male             Toys    428610.56\n"
     ]
    }
   ],
   "source": [
    "buying_habits_gender = df.groupby([\"gender\", \"category\"])[\"price\"].sum().reset_index()\n",
    "print(buying_habits_gender)"
   ]
  },
  {
   "cell_type": "code",
   "execution_count": 17,
   "id": "6c40a90c",
   "metadata": {},
   "outputs": [
    {
     "data": {
      "text/plain": [
       "(array([0, 1, 2, 3, 4, 5, 6, 7]),\n",
       " [Text(0, 0, 'Books'),\n",
       "  Text(1, 0, 'Clothing'),\n",
       "  Text(2, 0, 'Cosmetics'),\n",
       "  Text(3, 0, 'Food & Beverage'),\n",
       "  Text(4, 0, 'Shoes'),\n",
       "  Text(5, 0, 'Souvenir'),\n",
       "  Text(6, 0, 'Technology'),\n",
       "  Text(7, 0, 'Toys')])"
      ]
     },
     "execution_count": 17,
     "metadata": {},
     "output_type": "execute_result"
    },
    {
     "data": {
      "image/png": "[encoded data removed]",
      "text/plain": [
       "<Figure size 576x576 with 1 Axes>"
      ]
     },
     "metadata": {
      "needs_background": "light"
     },
     "output_type": "display_data"
    }
   ],
   "source": [
    "fig = plt.figure(figsize=(8,8))\n",
    "\n",
    "sns.barplot(x=\"category\", y=\"price\", hue=\"gender\", data=buying_habits_gender)\n",
    "\n",
    "plt.title(\"Buying habits by gender\", fontsize=16)\n",
    "plt.xticks(rotation=65)"
   ]
  },
  {
   "cell_type": "markdown",
   "id": "8004e095",
   "metadata": {},
   "source": [
    "## Which category makes the most sales/money?"
   ]
  },
  {
   "cell_type": "code",
   "execution_count": 18,
   "id": "3117725f",
   "metadata": {},
   "outputs": [
    {
     "data": {
      "text/plain": [
       "Clothing           34487\n",
       "Cosmetics          15097\n",
       "Food & Beverage    14776\n",
       "Toys               10087\n",
       "Shoes              10034\n",
       "Souvenir            4999\n",
       "Technology          4996\n",
       "Books               4981\n",
       "Name: category, dtype: int64"
      ]
     },
     "execution_count": 18,
     "metadata": {},
     "output_type": "execute_result"
    }
   ],
   "source": [
    "df[\"category\"].value_counts()"
   ]
  },
  {
   "cell_type": "code",
   "execution_count": 19,
   "id": "5364f2e6",
   "metadata": {},
   "outputs": [
    {
     "data": {
      "text/plain": [
       "(array([0, 1, 2, 3, 4, 5, 6, 7]),\n",
       " [Text(0, 0, 'Clothing'),\n",
       "  Text(1, 0, 'Shoes'),\n",
       "  Text(2, 0, 'Books'),\n",
       "  Text(3, 0, 'Cosmetics'),\n",
       "  Text(4, 0, 'Food & Beverage'),\n",
       "  Text(5, 0, 'Toys'),\n",
       "  Text(6, 0, 'Technology'),\n",
       "  Text(7, 0, 'Souvenir')])"
      ]
     },
     "execution_count": 19,
     "metadata": {},
     "output_type": "execute_result"
    },
    {
     "data": {
      "image/png": "[encoded data removed]",
      "text/plain": [
       "<Figure size 576x576 with 1 Axes>"
      ]
     },
     "metadata": {
      "needs_background": "light"
     },
     "output_type": "display_data"
    }
   ],
   "source": [
    "fig = plt.figure(figsize=(8,8))\n",
    "\n",
    "sns.countplot(x=df[\"category\"], data=df)\n",
    "\n",
    "plt.title(\"Most sales by category\", fontsize=16)\n",
    "plt.xticks(rotation=65)"
   ]
  },
  {
   "cell_type": "code",
   "execution_count": 20,
   "id": "d7d968c4",
   "metadata": {
    "scrolled": true
   },
   "outputs": [
    {
     "name": "stdout",
     "output_type": "stream",
     "text": [
      "          category        price\n",
      "0            Books    226977.30\n",
      "1         Clothing  31075684.64\n",
      "2        Cosmetics   1848606.90\n",
      "3  Food & Beverage    231568.71\n",
      "4            Shoes  18135336.89\n",
      "5         Souvenir    174436.83\n",
      "6       Technology  15772050.00\n",
      "7             Toys   1086704.64\n"
     ]
    }
   ],
   "source": [
    "mspc = df.groupby(\"category\")[\"price\"].sum().reset_index()\n",
    "print(mspc)"
   ]
  },
  {
   "cell_type": "code",
   "execution_count": 21,
   "id": "28f7160f",
   "metadata": {},
   "outputs": [
    {
     "data": {
      "text/plain": [
       "(array([       0.,  5000000., 10000000., 15000000., 20000000., 25000000.,\n",
       "        30000000., 35000000.]),\n",
       " [Text(0, 0, ''),\n",
       "  Text(0, 0, ''),\n",
       "  Text(0, 0, ''),\n",
       "  Text(0, 0, ''),\n",
       "  Text(0, 0, ''),\n",
       "  Text(0, 0, ''),\n",
       "  Text(0, 0, ''),\n",
       "  Text(0, 0, '')])"
      ]
     },
     "execution_count": 21,
     "metadata": {},
     "output_type": "execute_result"
    },
    {
     "data": {
      "image/png": "[encoded data removed]",
      "text/plain": [
       "<Figure size 576x576 with 1 Axes>"
      ]
     },
     "metadata": {
      "needs_background": "light"
     },
     "output_type": "display_data"
    }
   ],
   "source": [
    "fig = plt.figure(figsize=(8,8))\n",
    "\n",
    "sns.barplot(x=\"category\", y=\"price\", data=mspc)\n",
    "\n",
    "plt.title(\"Sales by category\", fontsize=16)\n",
    "plt.ylabel(\"price * 10mio.\")\n",
    "plt.xticks(rotation=65, fontsize=14)\n",
    "plt.yticks(fontsize=14)"
   ]
  },
  {
   "cell_type": "markdown",
   "id": "9c6f448e",
   "metadata": {},
   "source": [
    "## What payment method is used most often?"
   ]
  },
  {
   "cell_type": "code",
   "execution_count": 22,
   "id": "deca9c2f",
   "metadata": {},
   "outputs": [
    {
     "data": {
      "text/plain": [
       "Cash           44447\n",
       "Credit Card    34931\n",
       "Debit Card     20079\n",
       "Name: payment_method, dtype: int64"
      ]
     },
     "execution_count": 22,
     "metadata": {},
     "output_type": "execute_result"
    }
   ],
   "source": [
    "df[\"payment_method\"].value_counts()"
   ]
  },
  {
   "cell_type": "code",
   "execution_count": 23,
   "id": "ffd14e2c",
   "metadata": {},
   "outputs": [
    {
     "data": {
      "text/plain": [
       "<AxesSubplot:xlabel='payment_method', ylabel='count'>"
      ]
     },
     "execution_count": 23,
     "metadata": {},
     "output_type": "execute_result"
    },
    {
     "data": {
      "image/png": "[encoded data removed]",
      "text/plain": [
       "<Figure size 576x576 with 1 Axes>"
      ]
     },
     "metadata": {
      "needs_background": "light"
     },
     "output_type": "display_data"
    }
   ],
   "source": [
    "fig = plt.figure(figsize=(8,8))\n",
    "\n",
    "sns.countplot(x=\"payment_method\", data=df)"
   ]
  },
  {
   "cell_type": "code",
   "execution_count": 24,
   "id": "f3846ad7",
   "metadata": {},
   "outputs": [
    {
     "name": "stdout",
     "output_type": "stream",
     "text": [
      "   gender payment_method  count\n",
      "0  Female           Cash  26509\n",
      "1  Female    Credit Card  21011\n",
      "2    Male           Cash  17938\n",
      "3    Male    Credit Card  13920\n",
      "4  Female     Debit Card  11962\n",
      "5    Male     Debit Card   8117\n"
     ]
    }
   ],
   "source": [
    "payment_methdo_by_gender = df[[\"gender\", \"payment_method\"]].value_counts().reset_index(name=\"count\")\n",
    "print(payment_methdo_by_gender)"
   ]
  },
  {
   "cell_type": "code",
   "execution_count": 25,
   "id": "6f73c68e",
   "metadata": {},
   "outputs": [
    {
     "data": {
      "text/plain": [
       "Text(0, 0.5, '')"
      ]
     },
     "execution_count": 25,
     "metadata": {},
     "output_type": "execute_result"
    },
    {
     "data": {
      "image/png": "[encoded data removed]",
      "text/plain": [
       "<Figure size 576x576 with 1 Axes>"
      ]
     },
     "metadata": {
      "needs_background": "light"
     },
     "output_type": "display_data"
    }
   ],
   "source": [
    "fig = plt.figure(figsize=(8,8))\n",
    "\n",
    "sns.barplot(x=\"payment_method\", y=\"count\", hue=\"gender\", data=payment_methdo_by_gender)\n",
    "\n",
    "plt.title(\"Prevered payment method by gender\",  fontsize=16)\n",
    "plt.xlabel(\"\")\n",
    "plt.ylabel(\"\")"
   ]
  },
  {
   "cell_type": "code",
   "execution_count": 26,
   "id": "2406bb3a",
   "metadata": {
    "scrolled": true
   },
   "outputs": [
    {
     "name": "stdout",
     "output_type": "stream",
     "text": [
      "  payment_method        price\n",
      "0           Cash  30705030.98\n",
      "1    Credit Card  24051476.93\n",
      "2     Debit Card  13794858.00\n"
     ]
    }
   ],
   "source": [
    "payments = df.groupby(\"payment_method\")[\"price\"].sum()\n",
    "payments = payments.reset_index()\n",
    "print(payments)"
   ]
  },
  {
   "cell_type": "code",
   "execution_count": 27,
   "id": "0ee38e92",
   "metadata": {
    "scrolled": true
   },
   "outputs": [
    {
     "data": {
      "text/plain": [
       "Text(0, 0.5, 'price * 10 mio.')"
      ]
     },
     "execution_count": 27,
     "metadata": {},
     "output_type": "execute_result"
    },
    {
     "data": {
      "image/png": "[encoded data removed]",
      "text/plain": [
       "<Figure size 576x576 with 1 Axes>"
      ]
     },
     "metadata": {
      "needs_background": "light"
     },
     "output_type": "display_data"
    }
   ],
   "source": [
    "fig = plt.figure(figsize=(8,8))\n",
    "\n",
    "sns.barplot(x=\"payment_method\", y=\"price\", data=payments)\n",
    "\n",
    "plt.ylabel(\"price * 10 mio.\")"
   ]
  },
  {
   "cell_type": "markdown",
   "id": "50bfae67",
   "metadata": {},
   "source": [
    "## How do the sales over time look like?"
   ]
  },
  {
   "cell_type": "code",
   "execution_count": 28,
   "id": "ac714780",
   "metadata": {},
   "outputs": [
    {
     "name": "stdout",
     "output_type": "stream",
     "text": [
      "   invoice_date        price\n",
      "0          2021  31316304.63\n",
      "1          2022  31372826.18\n",
      "2          2023   5862235.10\n"
     ]
    }
   ],
   "source": [
    "sales_per_year = df.groupby([df[\"invoice_date\"].dt.year])[\"price\"].sum().reset_index()\n",
    "print(sales_per_year) # insufficient data for year 2023"
   ]
  },
  {
   "cell_type": "code",
   "execution_count": 29,
   "id": "bd7a05d0",
   "metadata": {},
   "outputs": [
    {
     "data": {
      "text/plain": [
       "<AxesSubplot:xlabel='invoice_date', ylabel='price'>"
      ]
     },
     "execution_count": 29,
     "metadata": {},
     "output_type": "execute_result"
    },
    {
     "data": {
      "image/png": "[encoded data removed]",
      "text/plain": [
       "<Figure size 576x576 with 1 Axes>"
      ]
     },
     "metadata": {
      "needs_background": "light"
     },
     "output_type": "display_data"
    }
   ],
   "source": [
    "fig = plt.figure(figsize=(8,8))\n",
    "\n",
    "sns.lineplot(x=\"invoice_date\", y=\"price\", data=sales_per_year)"
   ]
  },
  {
   "cell_type": "code",
   "execution_count": 30,
   "id": "d3a3b20c",
   "metadata": {
    "scrolled": true
   },
   "outputs": [
    {
     "name": "stdout",
     "output_type": "stream",
     "text": [
      "    invoice_date       price\n",
      "0              1  682.989789\n",
      "1              2  699.507177\n",
      "2              3  692.386102\n",
      "3              4  697.743184\n",
      "4              5  692.280533\n",
      "5              6  693.439443\n",
      "6              7  686.244967\n",
      "7              8  676.596584\n",
      "8              9  690.161175\n",
      "9             10  706.629786\n",
      "10            11  665.073901\n",
      "11            12  687.327296\n"
     ]
    }
   ],
   "source": [
    "sales_per_month = df.groupby([df[\"invoice_date\"].dt.month])[\"price\"].mean().reset_index()\n",
    "print(sales_per_month)"
   ]
  },
  {
   "cell_type": "code",
   "execution_count": 31,
   "id": "fc31343d",
   "metadata": {
    "scrolled": true
   },
   "outputs": [
    {
     "data": {
      "text/plain": [
       "[<matplotlib.lines.Line2D at 0x1a702ebf100>]"
      ]
     },
     "execution_count": 31,
     "metadata": {},
     "output_type": "execute_result"
    },
    {
     "data": {
      "image/png": "[encoded data removed]",
      "text/plain": [
       "<Figure size 432x288 with 1 Axes>"
      ]
     },
     "metadata": {
      "needs_background": "light"
     },
     "output_type": "display_data"
    }
   ],
   "source": [
    "plt.plot(sales_per_month.price)"
   ]
  },
  {
   "cell_type": "code",
   "execution_count": 32,
   "id": "33ef5ead",
   "metadata": {
    "scrolled": true
   },
   "outputs": [
    {
     "name": "stdout",
     "output_type": "stream",
     "text": [
      "    invoice_date       price\n",
      "0              1  1335713.13\n",
      "1              2  1441248.39\n",
      "2              3  1840630.01\n",
      "3              4  1754965.94\n",
      "4              5  1591229.97\n",
      "5              6  1262653.78\n",
      "6              7  1822565.93\n",
      "7              8  1831135.77\n",
      "8              9  1582742.31\n",
      "9             10  1273815.25\n",
      "10            11  1240517.24\n",
      "11            12  1263829.04\n",
      "12            13  1351737.53\n",
      "13            14  1337145.84\n",
      "14            15  1214694.70\n",
      "15            16  1238989.22\n",
      "16            17  1203440.84\n",
      "17            18  1459698.15\n",
      "18            19  1223507.13\n",
      "19            20  1266666.09\n",
      "20            21  1162967.10\n",
      "21            22  1522084.72\n",
      "22            23  1198163.25\n",
      "23            24  1161175.75\n",
      "24            25  1178526.71\n",
      "25            26  1507979.83\n",
      "26            27  1226247.47\n",
      "27            28  1212737.79\n",
      "28            29  1222422.55\n",
      "29            30  1284879.38\n",
      "30            31  1407596.66\n",
      "31            32  1193491.93\n",
      "32            33  1135300.82\n",
      "33            34  1150329.63\n",
      "34            35  1335887.93\n",
      "35            36  1230004.08\n",
      "36            37  1214639.42\n",
      "37            38  1212468.16\n",
      "38            39  1212302.34\n",
      "39            40  1352968.73\n",
      "40            41  1230204.77\n",
      "41            42  1234478.00\n",
      "42            43  1283113.27\n",
      "43            44  1340649.89\n",
      "44            45  1218764.83\n",
      "45            46  1109078.57\n",
      "46            47  1110147.88\n",
      "47            48  1339714.59\n",
      "48            49  1271442.99\n",
      "49            50  1153013.74\n",
      "50            51  1165434.45\n",
      "51            52  1226008.95\n",
      "52            53   210213.47\n"
     ]
    },
    {
     "name": "stderr",
     "output_type": "stream",
     "text": [
      "C:\\Users\\Olegi Megi\\AppData\\Local\\Temp\\ipykernel_7784\\3853107143.py:1: FutureWarning: Series.dt.weekofyear and Series.dt.week have been deprecated. Please use Series.dt.isocalendar().week instead.\n",
      "  sales_per_weekofyear = df.groupby([df[\"invoice_date\"].dt.weekofyear])[\"price\"].sum().reset_index()\n"
     ]
    }
   ],
   "source": [
    "sales_per_weekofyear = df.groupby([df[\"invoice_date\"].dt.weekofyear])[\"price\"].sum().reset_index()\n",
    "print(sales_per_weekofyear)"
   ]
  },
  {
   "cell_type": "code",
   "execution_count": 33,
   "id": "959b500e",
   "metadata": {},
   "outputs": [
    {
     "data": {
      "text/plain": [
       "[<matplotlib.lines.Line2D at 0x1a7030dfd60>]"
      ]
     },
     "execution_count": 33,
     "metadata": {},
     "output_type": "execute_result"
    },
    {
     "data": {
      "image/png": "[encoded data removed]",
      "text/plain": [
       "<Figure size 432x288 with 1 Axes>"
      ]
     },
     "metadata": {
      "needs_background": "light"
     },
     "output_type": "display_data"
    }
   ],
   "source": [
    "plt.plot(sales_per_weekofyear.price)"
   ]
  },
  {
   "cell_type": "code",
   "execution_count": 34,
   "id": "ed6acac6",
   "metadata": {},
   "outputs": [
    {
     "name": "stdout",
     "output_type": "stream",
     "text": [
      "    invoice_date       price\n",
      "0              1  682.654659\n",
      "1              2  682.155541\n",
      "2              3  679.976690\n",
      "3              4  650.823357\n",
      "4              5  696.446035\n",
      "5              6  673.368444\n",
      "6              7  718.823172\n",
      "7              8  713.286933\n",
      "8              9  704.331332\n",
      "9             10  702.345665\n",
      "10            11  678.314958\n",
      "11            12  691.213257\n",
      "12            13  697.360281\n",
      "13            14  694.879036\n",
      "14            15  698.550384\n",
      "15            16  711.802357\n",
      "16            17  709.596136\n",
      "17            18  676.405275\n",
      "18            19  673.258484\n",
      "19            20  675.147470\n",
      "20            21  663.654776\n",
      "21            22  690.349104\n",
      "22            23  688.917530\n",
      "23            24  673.310487\n",
      "24            25  672.182431\n",
      "25            26  695.572233\n",
      "26            27  697.220622\n",
      "27            28  717.694354\n",
      "28            29  694.881083\n",
      "29            30  698.348140\n",
      "30            31  671.841713\n"
     ]
    }
   ],
   "source": [
    "sales_per_day = df.groupby([df[\"invoice_date\"].dt.day])[\"price\"].mean().reset_index()\n",
    "print(sales_per_day)"
   ]
  },
  {
   "cell_type": "code",
   "execution_count": 35,
   "id": "53423767",
   "metadata": {},
   "outputs": [
    {
     "data": {
      "text/plain": [
       "<AxesSubplot:>"
      ]
     },
     "execution_count": 35,
     "metadata": {},
     "output_type": "execute_result"
    },
    {
     "data": {
      "image/png": "[encoded data removed]",
      "text/plain": [
       "<Figure size 432x288 with 1 Axes>"
      ]
     },
     "metadata": {
      "needs_background": "light"
     },
     "output_type": "display_data"
    }
   ],
   "source": [
    "sales_per_day[\"price\"].plot()"
   ]
  },
  {
   "cell_type": "markdown",
   "id": "de783b9f",
   "metadata": {},
   "source": [
    "## What age group spends the most money?"
   ]
  },
  {
   "cell_type": "code",
   "execution_count": 36,
   "id": "a1fb71bb",
   "metadata": {},
   "outputs": [
    {
     "data": {
      "text/html": [
       "<div>\n",
       "<style scoped>\n",
       "    .dataframe tbody tr th:only-of-type {\n",
       "        vertical-align: middle;\n",
       "    }\n",
       "\n",
       "    .dataframe tbody tr th {\n",
       "        vertical-align: top;\n",
       "    }\n",
       "\n",
       "    .dataframe thead th {\n",
       "        text-align: right;\n",
       "    }\n",
       "</style>\n",
       "<table border=\"1\" class=\"dataframe\">\n",
       "  <thead>\n",
       "    <tr style=\"text-align: right;\">\n",
       "      <th></th>\n",
       "      <th>invoice_no</th>\n",
       "      <th>customer_id</th>\n",
       "      <th>gender</th>\n",
       "      <th>age</th>\n",
       "      <th>category</th>\n",
       "      <th>quantity</th>\n",
       "      <th>price</th>\n",
       "      <th>payment_method</th>\n",
       "      <th>invoice_date</th>\n",
       "      <th>shopping_mall</th>\n",
       "      <th>age_binned</th>\n",
       "    </tr>\n",
       "  </thead>\n",
       "  <tbody>\n",
       "    <tr>\n",
       "      <th>0</th>\n",
       "      <td>I138884</td>\n",
       "      <td>C241288</td>\n",
       "      <td>Female</td>\n",
       "      <td>28</td>\n",
       "      <td>Clothing</td>\n",
       "      <td>5</td>\n",
       "      <td>1500.40</td>\n",
       "      <td>Credit Card</td>\n",
       "      <td>2022-05-08</td>\n",
       "      <td>Kanyon</td>\n",
       "      <td>Young</td>\n",
       "    </tr>\n",
       "    <tr>\n",
       "      <th>1</th>\n",
       "      <td>I317333</td>\n",
       "      <td>C111565</td>\n",
       "      <td>Male</td>\n",
       "      <td>21</td>\n",
       "      <td>Shoes</td>\n",
       "      <td>3</td>\n",
       "      <td>1800.51</td>\n",
       "      <td>Debit Card</td>\n",
       "      <td>2021-12-12</td>\n",
       "      <td>Forum Istanbul</td>\n",
       "      <td>Young</td>\n",
       "    </tr>\n",
       "    <tr>\n",
       "      <th>2</th>\n",
       "      <td>I127801</td>\n",
       "      <td>C266599</td>\n",
       "      <td>Male</td>\n",
       "      <td>20</td>\n",
       "      <td>Clothing</td>\n",
       "      <td>1</td>\n",
       "      <td>300.08</td>\n",
       "      <td>Cash</td>\n",
       "      <td>2021-09-11</td>\n",
       "      <td>Metrocity</td>\n",
       "      <td>Young</td>\n",
       "    </tr>\n",
       "    <tr>\n",
       "      <th>3</th>\n",
       "      <td>I173702</td>\n",
       "      <td>C988172</td>\n",
       "      <td>Female</td>\n",
       "      <td>66</td>\n",
       "      <td>Shoes</td>\n",
       "      <td>5</td>\n",
       "      <td>3000.85</td>\n",
       "      <td>Credit Card</td>\n",
       "      <td>2021-05-16</td>\n",
       "      <td>Metropol AVM</td>\n",
       "      <td>Old</td>\n",
       "    </tr>\n",
       "    <tr>\n",
       "      <th>4</th>\n",
       "      <td>I337046</td>\n",
       "      <td>C189076</td>\n",
       "      <td>Female</td>\n",
       "      <td>53</td>\n",
       "      <td>Books</td>\n",
       "      <td>4</td>\n",
       "      <td>60.60</td>\n",
       "      <td>Cash</td>\n",
       "      <td>2021-10-24</td>\n",
       "      <td>Kanyon</td>\n",
       "      <td>Old</td>\n",
       "    </tr>\n",
       "  </tbody>\n",
       "</table>\n",
       "</div>"
      ],
      "text/plain": [
       "  invoice_no customer_id  gender  age  category  quantity    price  \\\n",
       "0    I138884     C241288  Female   28  Clothing         5  1500.40   \n",
       "1    I317333     C111565    Male   21     Shoes         3  1800.51   \n",
       "2    I127801     C266599    Male   20  Clothing         1   300.08   \n",
       "3    I173702     C988172  Female   66     Shoes         5  3000.85   \n",
       "4    I337046     C189076  Female   53     Books         4    60.60   \n",
       "\n",
       "  payment_method invoice_date   shopping_mall age_binned  \n",
       "0    Credit Card   2022-05-08          Kanyon      Young  \n",
       "1     Debit Card   2021-12-12  Forum Istanbul      Young  \n",
       "2           Cash   2021-09-11       Metrocity      Young  \n",
       "3    Credit Card   2021-05-16    Metropol AVM        Old  \n",
       "4           Cash   2021-10-24          Kanyon        Old  "
      ]
     },
     "execution_count": 36,
     "metadata": {},
     "output_type": "execute_result"
    }
   ],
   "source": [
    "# create bins for the age column\n",
    "bins = np.linspace(min(df[\"age\"]), max(df[\"age\"]), 4)\n",
    "bin_names = [\"Young\", \"Middle\", \"Old\"]\n",
    "df[\"age_binned\"] = pd.cut(df[\"age\"], bins, labels=bin_names, include_lowest=True)\n",
    "df.head()"
   ]
  },
  {
   "cell_type": "code",
   "execution_count": 37,
   "id": "43de368e",
   "metadata": {},
   "outputs": [
    {
     "name": "stdout",
     "output_type": "stream",
     "text": [
      "Young     34418\n",
      "Middle    32876\n",
      "Old       32163\n",
      "Name: age_binned, dtype: int64\n"
     ]
    },
    {
     "data": {
      "text/plain": [
       "<AxesSubplot:xlabel='age_binned', ylabel='count'>"
      ]
     },
     "execution_count": 37,
     "metadata": {},
     "output_type": "execute_result"
    },
    {
     "data": {
      "image/png": "[encoded data removed]",
      "text/plain": [
       "<Figure size 576x576 with 1 Axes>"
      ]
     },
     "metadata": {
      "needs_background": "light"
     },
     "output_type": "display_data"
    }
   ],
   "source": [
    "fig = plt.figure(figsize=(8,8))\n",
    "\n",
    "print(df[\"age_binned\"].value_counts())\n",
    "\n",
    "sns.countplot(x=\"age_binned\", data=df)"
   ]
  },
  {
   "cell_type": "code",
   "execution_count": 38,
   "id": "5338c3a1",
   "metadata": {},
   "outputs": [
    {
     "name": "stdout",
     "output_type": "stream",
     "text": [
      "  age_binned       price\n",
      "0      Young  684.122518\n",
      "1     Middle  696.458727\n",
      "2        Old  687.387992\n"
     ]
    }
   ],
   "source": [
    "money_spent_by_age = df.groupby(\"age_binned\")[\"price\"].mean().reset_index()\n",
    "print(money_spent_by_age)"
   ]
  },
  {
   "cell_type": "code",
   "execution_count": 39,
   "id": "77d6c7c5",
   "metadata": {},
   "outputs": [
    {
     "data": {
      "text/plain": [
       "Text(0.5, 1.0, 'Average money spent by age group')"
      ]
     },
     "execution_count": 39,
     "metadata": {},
     "output_type": "execute_result"
    },
    {
     "data": {
      "image/png": "[encoded data removed]",
      "text/plain": [
       "<Figure size 576x576 with 1 Axes>"
      ]
     },
     "metadata": {
      "needs_background": "light"
     },
     "output_type": "display_data"
    }
   ],
   "source": [
    "fig = plt.figure(figsize=(8,8))\n",
    "\n",
    "sns.barplot(x=\"age_binned\", y=\"price\", data=money_spent_by_age)\n",
    "\n",
    "plt.title(\"Average money spent by age group\", fontsize=16)"
   ]
  },
  {
   "cell_type": "code",
   "execution_count": 40,
   "id": "0ed07bef",
   "metadata": {},
   "outputs": [
    {
     "name": "stdout",
     "output_type": "stream",
     "text": [
      "  age_binned        price\n",
      "0      Young  23546128.83\n",
      "1     Middle  22896777.10\n",
      "2        Old  22108459.98\n"
     ]
    }
   ],
   "source": [
    "money_spent_by_age_groups = df.groupby(\"age_binned\")[\"price\"].sum().reset_index()\n",
    "print(money_spent_by_age_groups)"
   ]
  },
  {
   "cell_type": "code",
   "execution_count": 41,
   "id": "23a72f27",
   "metadata": {},
   "outputs": [
    {
     "data": {
      "text/plain": [
       "Text(0.5, 1.0, 'Total money spent by age group')"
      ]
     },
     "execution_count": 41,
     "metadata": {},
     "output_type": "execute_result"
    },
    {
     "data": {
      "image/png": "[encoded data removed]",
      "text/plain": [
       "<Figure size 576x576 with 1 Axes>"
      ]
     },
     "metadata": {
      "needs_background": "light"
     },
     "output_type": "display_data"
    }
   ],
   "source": [
    "fig = plt.figure(figsize=(8,8))\n",
    "\n",
    "sns.barplot(x=\"age_binned\", y=\"price\", data=money_spent_by_age_groups)\n",
    "\n",
    "plt.title(\"Total money spent by age group\", fontsize=16)"
   ]
  },
  {
   "cell_type": "code",
   "execution_count": 42,
   "id": "69001afd",
   "metadata": {},
   "outputs": [
    {
     "name": "stdout",
     "output_type": "stream",
     "text": [
      "           category age_binned  count\n",
      "0          Clothing      Young  11951\n",
      "1          Clothing     Middle  11413\n",
      "2          Clothing        Old  11123\n",
      "3         Cosmetics      Young   5171\n",
      "4   Food & Beverage      Young   5126\n",
      "5         Cosmetics     Middle   4980\n",
      "6         Cosmetics        Old   4946\n",
      "7   Food & Beverage     Middle   4915\n",
      "8   Food & Beverage        Old   4735\n",
      "9              Toys      Young   3533\n",
      "10            Shoes      Young   3478\n",
      "11             Toys     Middle   3313\n",
      "12            Shoes     Middle   3296\n",
      "13            Shoes        Old   3260\n",
      "14             Toys        Old   3241\n",
      "15         Souvenir      Young   1738\n",
      "16       Technology      Young   1713\n",
      "17       Technology     Middle   1711\n",
      "18            Books      Young   1708\n",
      "19         Souvenir        Old   1649\n",
      "20            Books        Old   1637\n",
      "21            Books     Middle   1636\n",
      "22         Souvenir     Middle   1612\n",
      "23       Technology        Old   1572\n"
     ]
    }
   ],
   "source": [
    "buying_habits_age = df[[\"category\", \"age_binned\"]].value_counts().reset_index(name=\"count\")\n",
    "print(buying_habits_age)"
   ]
  },
  {
   "cell_type": "code",
   "execution_count": 43,
   "id": "06dee3bf",
   "metadata": {},
   "outputs": [
    {
     "data": {
      "text/plain": [
       "Text(0.5, 1.0, 'Buying Habits by Age')"
      ]
     },
     "execution_count": 43,
     "metadata": {},
     "output_type": "execute_result"
    },
    {
     "data": {
      "image/png": "[encoded data removed]",
      "text/plain": [
       "<Figure size 576x576 with 1 Axes>"
      ]
     },
     "metadata": {
      "needs_background": "light"
     },
     "output_type": "display_data"
    }
   ],
   "source": [
    "fig = plt.figure(figsize=(8,8))\n",
    "\n",
    "sns.barplot(x=\"age_binned\", y=\"count\", hue=\"category\", data=buying_habits_age)\n",
    "\n",
    "plt.title(\"Buying Habits by Age\", fontsize=16)"
   ]
  },
  {
   "cell_type": "markdown",
   "id": "9f9f4103",
   "metadata": {},
   "source": [
    "## Which mall has the best revenue? "
   ]
  },
  {
   "cell_type": "code",
   "execution_count": 44,
   "id": "5d3fe905",
   "metadata": {},
   "outputs": [
    {
     "name": "stdout",
     "output_type": "stream",
     "text": [
      "       shopping_mall        price\n",
      "0   Mall of Istanbul  13851737.62\n",
      "1             Kanyon  13710755.24\n",
      "2          Metrocity  10249980.07\n",
      "3       Metropol AVM   6937992.99\n",
      "4       Istinye Park   6717077.54\n",
      "5       Zorlu Center   3509649.02\n",
      "6        Cevahir AVM   3433671.84\n",
      "7     Viaport Outlet   3414019.46\n",
      "8  Emaar Square Mall   3390408.31\n",
      "9     Forum Istanbul   3336073.82\n"
     ]
    }
   ],
   "source": [
    "mall = df.groupby(\"shopping_mall\")[\"price\"].sum().sort_values(ascending=False).reset_index()\n",
    "print(mall)"
   ]
  },
  {
   "cell_type": "code",
   "execution_count": 45,
   "id": "fd22aba8",
   "metadata": {},
   "outputs": [
    {
     "data": {
      "text/plain": [
       "(array([0, 1, 2, 3, 4, 5, 6, 7, 8, 9]),\n",
       " [Text(0, 0, 'Mall of Istanbul'),\n",
       "  Text(1, 0, 'Kanyon'),\n",
       "  Text(2, 0, 'Metrocity'),\n",
       "  Text(3, 0, 'Metropol AVM'),\n",
       "  Text(4, 0, 'Istinye Park'),\n",
       "  Text(5, 0, 'Zorlu Center'),\n",
       "  Text(6, 0, 'Cevahir AVM'),\n",
       "  Text(7, 0, 'Viaport Outlet'),\n",
       "  Text(8, 0, 'Emaar Square Mall'),\n",
       "  Text(9, 0, 'Forum Istanbul')])"
      ]
     },
     "execution_count": 45,
     "metadata": {},
     "output_type": "execute_result"
    },
    {
     "data": {
      "image/png": "[encoded data removed]",
      "text/plain": [
       "<Figure size 576x576 with 1 Axes>"
      ]
     },
     "metadata": {
      "needs_background": "light"
     },
     "output_type": "display_data"
    }
   ],
   "source": [
    "fig = plt.figure(figsize=(8,8))\n",
    "\n",
    "sns.barplot(x=\"shopping_mall\", y=\"price\", data=mall)\n",
    "\n",
    "plt.title(\"Revenue by shopping mall\", fontsize=16)\n",
    "plt.xticks(rotation=90)"
   ]
  },
  {
   "cell_type": "markdown",
   "id": "f7ab0cb8",
   "metadata": {},
   "source": [
    "## Which shopping mall has the most customers?  "
   ]
  },
  {
   "cell_type": "code",
   "execution_count": 46,
   "id": "dc501a4b",
   "metadata": {},
   "outputs": [
    {
     "name": "stdout",
     "output_type": "stream",
     "text": [
      "       shopping_mall  count\n",
      "5   Mall of Istanbul  19943\n",
      "4             Kanyon  19823\n",
      "6          Metrocity  15011\n",
      "7       Metropol AVM  10161\n",
      "3       Istinye Park   9781\n",
      "9       Zorlu Center   5075\n",
      "0        Cevahir AVM   4991\n",
      "2     Forum Istanbul   4947\n",
      "8     Viaport Outlet   4914\n",
      "1  Emaar Square Mall   4811\n"
     ]
    }
   ],
   "source": [
    "mall_visitors = df.groupby(\"shopping_mall\").size().reset_index(name=\"count\").sort_values(by=\"count\", ascending=False)\n",
    "print(mall_visitors)"
   ]
  },
  {
   "cell_type": "code",
   "execution_count": 47,
   "id": "1f50ade7",
   "metadata": {
    "scrolled": true
   },
   "outputs": [
    {
     "data": {
      "text/plain": [
       "(array([0, 1, 2, 3, 4, 5, 6, 7, 8, 9]),\n",
       " [Text(0, 0, 'Mall of Istanbul'),\n",
       "  Text(1, 0, 'Kanyon'),\n",
       "  Text(2, 0, 'Metrocity'),\n",
       "  Text(3, 0, 'Metropol AVM'),\n",
       "  Text(4, 0, 'Istinye Park'),\n",
       "  Text(5, 0, 'Zorlu Center'),\n",
       "  Text(6, 0, 'Cevahir AVM'),\n",
       "  Text(7, 0, 'Forum Istanbul'),\n",
       "  Text(8, 0, 'Viaport Outlet'),\n",
       "  Text(9, 0, 'Emaar Square Mall')])"
      ]
     },
     "execution_count": 47,
     "metadata": {},
     "output_type": "execute_result"
    },
    {
     "data": {
      "image/png": "[encoded data removed]",
      "text/plain": [
       "<Figure size 576x576 with 1 Axes>"
      ]
     },
     "metadata": {
      "needs_background": "light"
     },
     "output_type": "display_data"
    }
   ],
   "source": [
    "fig = plt.figure(figsize=(8,8))\n",
    "\n",
    "sns.barplot(x=\"shopping_mall\", y=\"count\", data=mall_visitors)\n",
    "\n",
    "plt.title(\"Shopping mall by Customer\", fontsize=16)\n",
    "plt.xticks(rotation=90)"
   ]
  },
  {
   "cell_type": "markdown",
   "id": "f04fed9a",
   "metadata": {},
   "source": [
    "## Is there a correlation between quantity and price? "
   ]
  },
  {
   "cell_type": "code",
   "execution_count": 48,
   "id": "634556a1",
   "metadata": {},
   "outputs": [
    {
     "data": {
      "text/plain": [
       "<AxesSubplot:xlabel='quantity', ylabel='count'>"
      ]
     },
     "execution_count": 48,
     "metadata": {},
     "output_type": "execute_result"
    },
    {
     "data": {
      "image/png": "[encoded data removed]",
      "text/plain": [
       "<Figure size 576x576 with 1 Axes>"
      ]
     },
     "metadata": {
      "needs_background": "light"
     },
     "output_type": "display_data"
    }
   ],
   "source": [
    "fig = plt.figure(figsize=(8,8))\n",
    "\n",
    "sns.countplot(x=\"quantity\", data=df)"
   ]
  },
  {
   "cell_type": "code",
   "execution_count": 49,
   "id": "dd3b87f8",
   "metadata": {},
   "outputs": [
    {
     "name": "stdout",
     "output_type": "stream",
     "text": [
      "   quantity        price\n",
      "0         1   227.123653\n",
      "1         2   463.589752\n",
      "2         3   682.128448\n",
      "3         4   924.212205\n",
      "4         5  1145.438302\n"
     ]
    }
   ],
   "source": [
    "quantity_vs_price = df.groupby(\"quantity\")[\"price\"].mean().reset_index()\n",
    "print(quantity_vs_price)"
   ]
  },
  {
   "cell_type": "code",
   "execution_count": 50,
   "id": "490c6aa7",
   "metadata": {},
   "outputs": [
    {
     "data": {
      "text/plain": [
       "[]"
      ]
     },
     "execution_count": 50,
     "metadata": {},
     "output_type": "execute_result"
    },
    {
     "data": {
      "image/png": "[encoded data removed]",
      "text/plain": [
       "<Figure size 576x360 with 2 Axes>"
      ]
     },
     "metadata": {
      "needs_background": "light"
     },
     "output_type": "display_data"
    }
   ],
   "source": [
    "fig, ax = plt.subplots(1,2, figsize=(8,5))\n",
    "\n",
    "sns.barplot(x=\"quantity\", y=\"price\", data=quantity_vs_price, ax=ax[0])\n",
    "sns.lineplot(x=\"quantity\", y=\"price\", data=quantity_vs_price, ax=ax[1])\n",
    "\n",
    "plt.suptitle(\"Relation between quantity and price\", fontsize=16)\n",
    "ax[1].set_ylabel(\"\")\n",
    "ax[1].set_yticks([])"
   ]
  }
 ],
 "metadata": {
  "kernelspec": {
   "display_name": "Python 3 (ipykernel)",
   "language": "python",
   "name": "python3"
  },
  "language_info": {
   "codemirror_mode": {
    "name": "ipython",
    "version": 3
   },
   "file_extension": ".py",
   "mimetype": "text/x-python",
   "name": "python",
   "nbconvert_exporter": "python",
   "pygments_lexer": "ipython3",
   "version": "3.9.12"
  },
  "varInspector": {
   "cols": {
    "lenName": 16,
    "lenType": 16,
    "lenVar": 40
   },
   "kernels_config": {
    "python": {
     "delete_cmd_postfix": "",
     "delete_cmd_prefix": "del ",
     "library": "var_list.py",
     "varRefreshCmd": "print(var_dic_list())"
    },
    "r": {
     "delete_cmd_postfix": ") ",
     "delete_cmd_prefix": "rm(",
     "library": "var_list.r",
     "varRefreshCmd": "cat(var_dic_list()) "
    }
   },
   "types_to_exclude": [
    "module",
    "function",
    "builtin_function_or_method",
    "instance",
    "_Feature"
   ],
   "window_display": false
  }
 },
 "nbformat": 4,
 "nbformat_minor": 5
}
